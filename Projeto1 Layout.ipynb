{
 "cells": [
  {
   "cell_type": "markdown",
   "metadata": {},
   "source": [
    "___\n",
    "# Ciência dos Dados - PROJETO 1"
   ]
  },
  {
   "cell_type": "markdown",
   "metadata": {},
   "source": [
    "### Victor Arruda Niubó e Bruno Morales Balkins\n",
    "\n",
    "    "
   ]
  },
  {
   "cell_type": "markdown",
   "metadata": {},
   "source": [
    "## Perfil das mulheres como chefes de família:"
   ]
  },
  {
   "cell_type": "markdown",
   "metadata": {},
   "source": [
    "___\n",
    "## Introdução\n",
    "\n",
    "\n",
    "Nesse projeto iremos analisar o perfil de mulheres no papel de chefes de família e comparar com homens no mesmo papel, para isso escolhemos as seguintes variáveis do banco de dados:\n",
    "    - V0302: Sexo.\n",
    "    - V8005: Idade.\n",
    "    - V0402: Condição na familia\n",
    "    - V4704: Condição de atividade na semana de referência para pessoas de 10 anos ou mais de idade.\n",
    "    - V4805: Condição de ocupação na semana de referência para pessoas de 10 anos ou mais de idade.\n",
    "    - V4706: Posição na ocupação no trabalho principal da semana de referência para pessoas de 10 anos ou mais de \n",
    "    idade."
   ]
  },
  {
   "cell_type": "markdown",
   "metadata": {},
   "source": [
    "___\n",
    "## Filtros da base de dados"
   ]
  },
  {
   "cell_type": "code",
   "execution_count": 129,
   "metadata": {},
   "outputs": [],
   "source": [
    "%matplotlib inline\n",
    "import pandas as pd\n",
    "import matplotlib.pyplot as plt\n",
    "import numpy as np\n",
    "import os"
   ]
  },
  {
   "cell_type": "code",
   "execution_count": 130,
   "metadata": {},
   "outputs": [],
   "source": [
    "dados = pd.read_csv('PES2015.csv',sep=',')"
   ]
  },
  {
   "cell_type": "code",
   "execution_count": 131,
   "metadata": {},
   "outputs": [],
   "source": [
    "#Filtro de dados:\n",
    "\n",
    "dados_filtrados = dados.loc[(dados.V0302)|(dados.V8005)|(dados.V0402)|(dados.V4704)|(dados.V4805)|(dados.V4706), \\\n",
    "          ['V0302','V8005','V0402','V4704','V4805','V4706']]\n",
    "\n",
    "#Mudando nomes das colunas:\n",
    "\n",
    "dados_filtrados.rename(columns={'V0302':'Sexo','V8005':'Idade','V0402':'Condicao_familia',\\\n",
    "                                'V4704':'Atividade_na_semana','V4805':'Ocupação_na_semana',\\\n",
    "                                'V4706':'Posicao_no_Trabalho'}, inplace=True)\n"
   ]
  },
  {
   "cell_type": "code",
   "execution_count": 132,
   "metadata": {},
   "outputs": [],
   "source": [
    "df2 = dados_filtrados.dropna(subset = ['Atividade_na_semana','Ocupação_na_semana','Posicao_no_Trabalho'])"
   ]
  },
  {
   "cell_type": "code",
   "execution_count": 134,
   "metadata": {},
   "outputs": [],
   "source": [
    "df2 = df2[(df2['Condicao_familia'])== 1]\n",
    "df2 = df2[(df2['Sexo'])== 4]\n",
    "df2 = df2[(df2['Atividade_na_semana'])== 1]\n",
    "df2 = df2[(df2['Ocupação_na_semana'])== 1]\n",
    "df2 = df2[(df2['Posicao_no_Trabalho'])!= 13]"
   ]
  },
  {
   "cell_type": "code",
   "execution_count": 151,
   "metadata": {},
   "outputs": [],
   "source": [
    "df2.Sexo = df2.Sexo.astype('category')\n",
    "df2.Idade = df2.Idade.astype('float')\n",
    "df2['Condicao_familia'] = df2['Condicao_familia'].astype('category')\n",
    "df2['Atividade_na_semana'] = df2['Atividade_na_semana'].astype('category')\n",
    "df2['Ocupação_na_semana'] = df2['Ocupação_na_semana'].astype('category')\n",
    "df2['Posicao_no_Trabalho'] = df2['Posicao_no_Trabalho'].astype('category')"
   ]
  },
  {
   "cell_type": "code",
   "execution_count": 157,
   "metadata": {},
   "outputs": [],
   "source": [
    "df2.Sexo.cat.categories = (['F'])\n",
    "df2['Condicao_familia'].cat.categories = (['Pessoa de referência'])\n",
    "df2['Atividade_na_semana'].cat.categories = (['Economicamente ativa'])\n",
    "df2['Ocupação_na_semana'].cat.categories = (['Ocupada'])\n",
    "df2['Posicao_no_Trabalho'].cat.categories = (['Empregado com carteira de trabalho assinada','Militar',\\\n",
    "                                              'Funcionário público estatutário',\\\n",
    "                                              'Outro empregado sem carteira de trabalho assinada',\\\n",
    "                                              'Trabalhador doméstico com carteira de trabalho assinada',\\\n",
    "                                             'Trabalhador doméstico sem carteira  de trabalho assinada',\\\n",
    "                                             'Conta própria','Empregador','Trabalhador na produção para o próprio consumo',\\\n",
    "                                             'Trabalhador na construção para o próprio uso'])\n",
    "\n",
    "\n"
   ]
  },
  {
   "cell_type": "code",
   "execution_count": null,
   "metadata": {},
   "outputs": [],
   "source": []
  },
  {
   "cell_type": "markdown",
   "metadata": {},
   "source": [
    "  "
   ]
  },
  {
   "cell_type": "markdown",
   "metadata": {},
   "source": [
    " "
   ]
  },
  {
   "cell_type": "markdown",
   "metadata": {},
   "source": [
    " "
   ]
  },
  {
   "cell_type": "markdown",
   "metadata": {},
   "source": [
    " "
   ]
  },
  {
   "cell_type": "code",
   "execution_count": 158,
   "metadata": {},
   "outputs": [
    {
     "data": {
      "text/html": [
       "<div>\n",
       "<style scoped>\n",
       "    .dataframe tbody tr th:only-of-type {\n",
       "        vertical-align: middle;\n",
       "    }\n",
       "\n",
       "    .dataframe tbody tr th {\n",
       "        vertical-align: top;\n",
       "    }\n",
       "\n",
       "    .dataframe thead th {\n",
       "        text-align: right;\n",
       "    }\n",
       "</style>\n",
       "<table border=\"1\" class=\"dataframe\">\n",
       "  <thead>\n",
       "    <tr style=\"text-align: right;\">\n",
       "      <th>Posicao_no_Trabalho</th>\n",
       "      <th>Empregado com carteira de trabalho assinada</th>\n",
       "      <th>Militar</th>\n",
       "      <th>Funcionário público estatutário</th>\n",
       "      <th>Outro empregado sem carteira de trabalho assinada</th>\n",
       "      <th>Trabalhador doméstico com carteira de trabalho assinada</th>\n",
       "      <th>Trabalhador doméstico sem carteira  de trabalho assinada</th>\n",
       "      <th>Conta própria</th>\n",
       "      <th>Empregador</th>\n",
       "      <th>Trabalhador na produção para o próprio consumo</th>\n",
       "      <th>Trabalhador na construção para o próprio uso</th>\n",
       "    </tr>\n",
       "    <tr>\n",
       "      <th>Sexo</th>\n",
       "      <th></th>\n",
       "      <th></th>\n",
       "      <th></th>\n",
       "      <th></th>\n",
       "      <th></th>\n",
       "      <th></th>\n",
       "      <th></th>\n",
       "      <th></th>\n",
       "      <th></th>\n",
       "      <th></th>\n",
       "    </tr>\n",
       "  </thead>\n",
       "  <tbody>\n",
       "    <tr>\n",
       "      <th>F</th>\n",
       "      <td>8031</td>\n",
       "      <td>21</td>\n",
       "      <td>3065</td>\n",
       "      <td>2686</td>\n",
       "      <td>1345</td>\n",
       "      <td>3226</td>\n",
       "      <td>5594</td>\n",
       "      <td>662</td>\n",
       "      <td>875</td>\n",
       "      <td>10</td>\n",
       "    </tr>\n",
       "  </tbody>\n",
       "</table>\n",
       "</div>"
      ],
      "text/plain": [
       "Posicao_no_Trabalho  Empregado com carteira de trabalho assinada  Militar  \\\n",
       "Sexo                                                                        \n",
       "F                                                           8031       21   \n",
       "\n",
       "Posicao_no_Trabalho  Funcionário público estatutário  \\\n",
       "Sexo                                                   \n",
       "F                                               3065   \n",
       "\n",
       "Posicao_no_Trabalho  Outro empregado sem carteira de trabalho assinada  \\\n",
       "Sexo                                                                     \n",
       "F                                                                 2686   \n",
       "\n",
       "Posicao_no_Trabalho  Trabalhador doméstico com carteira de trabalho assinada  \\\n",
       "Sexo                                                                           \n",
       "F                                                                 1345         \n",
       "\n",
       "Posicao_no_Trabalho  Trabalhador doméstico sem carteira  de trabalho assinada  \\\n",
       "Sexo                                                                            \n",
       "F                                                                 3226          \n",
       "\n",
       "Posicao_no_Trabalho  Conta própria  Empregador  \\\n",
       "Sexo                                             \n",
       "F                             5594         662   \n",
       "\n",
       "Posicao_no_Trabalho  Trabalhador na produção para o próprio consumo  \\\n",
       "Sexo                                                                  \n",
       "F                                                               875   \n",
       "\n",
       "Posicao_no_Trabalho  Trabalhador na construção para o próprio uso  \n",
       "Sexo                                                               \n",
       "F                                                              10  "
      ]
     },
     "execution_count": 158,
     "metadata": {},
     "output_type": "execute_result"
    }
   ],
   "source": [
    "pd.crosstab(index=[df2.Sexo], columns=[df2.Posicao_no_Trabalho])"
   ]
  },
  {
   "cell_type": "markdown",
   "metadata": {},
   "source": [
    "___\n",
    "## Análise e Resultados"
   ]
  },
  {
   "cell_type": "code",
   "execution_count": null,
   "metadata": {},
   "outputs": [],
   "source": []
  },
  {
   "cell_type": "markdown",
   "metadata": {},
   "source": [
    "___\n",
    "## Conclusão "
   ]
  },
  {
   "cell_type": "markdown",
   "metadata": {
    "collapsed": true
   },
   "source": [
    "Descreva aqui suas conclusões!"
   ]
  },
  {
   "cell_type": "code",
   "execution_count": null,
   "metadata": {},
   "outputs": [],
   "source": []
  }
 ],
 "metadata": {
  "anaconda-cloud": {},
  "kernelspec": {
   "display_name": "Python 3",
   "language": "python",
   "name": "python3"
  },
  "language_info": {
   "codemirror_mode": {
    "name": "ipython",
    "version": 3
   },
   "file_extension": ".py",
   "mimetype": "text/x-python",
   "name": "python",
   "nbconvert_exporter": "python",
   "pygments_lexer": "ipython3",
   "version": "3.6.5"
  }
 },
 "nbformat": 4,
 "nbformat_minor": 1
}
