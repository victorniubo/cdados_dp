{
 "cells": [
  {
   "cell_type": "markdown",
   "metadata": {},
   "source": [
    "___\n",
    "## Ciência dos Dados - PROJETO 3 - INSPER"
   ]
  },
  {
   "cell_type": "markdown",
   "metadata": {},
   "source": [
    "___\n",
    "#### Victor Arruda Niubó\n",
    "\n",
    "#### Giovanni Pertence Cardoso dos Santos\n",
    "\n",
    "#### Gustavo Schlieper Tessitore\n",
    "\n",
    "#### Leonardo Cesari Costa\n",
    "___"
   ]
  },
  {
   "cell_type": "markdown",
   "metadata": {},
   "source": [
    "# Previsão da quantidade de views"
   ]
  },
  {
   "cell_type": "markdown",
   "metadata": {},
   "source": [
    "___\n",
    "\n",
    "## 1. INTRODUÇÃO"
   ]
  },
  {
   "cell_type": "markdown",
   "metadata": {},
   "source": [
    "O objetivo do projeto é estimar a quantidade de visualizações que um vídeo terá com base no título, horário de publicação e as tags atribuidas aos vídeos."
   ]
  },
  {
   "cell_type": "markdown",
   "metadata": {},
   "source": [
    "___\n",
    "## 2. MINERANDO DADOS e CARACTERÍSTICAS DO DATASET"
   ]
  },
  {
   "cell_type": "markdown",
   "metadata": {},
   "source": [
    " "
   ]
  },
  {
   "cell_type": "code",
   "execution_count": 60,
   "metadata": {},
   "outputs": [],
   "source": [
    "from tqdm import tqdm_notebook as tqdm\n",
    "import matplotlib.pyplot as plt\n",
    "import pandas as pd\n",
    "import numpy as np\n",
    "import scipy.stats\n",
    "import itertools\n",
    "import math\n",
    "import json\n",
    "import os\n",
    "from scipy import stats\n",
    "from scipy.stats import norm"
   ]
  },
  {
   "cell_type": "code",
   "execution_count": 61,
   "metadata": {
    "scrolled": true
   },
   "outputs": [
    {
     "name": "stdout",
     "output_type": "stream",
     "text": [
      "Esperamos trabalhar no diretório\n",
      "C:\\Users\\gugat\\Desktop\\Insper DS 2018.1\\2.1 semestre\\Dados\\cdados_dp\\P3\n"
     ]
    }
   ],
   "source": [
    "#remove mesagens de aviso do Pandas\n",
    "pd.options.mode.chained_assignment = None\n",
    "print('Esperamos trabalhar no diretório')\n",
    "print(os.getcwd())"
   ]
  },
  {
   "cell_type": "markdown",
   "metadata": {},
   "source": [
    "### BASE DE DADOS"
   ]
  },
  {
   "cell_type": "code",
   "execution_count": 62,
   "metadata": {
    "scrolled": true
   },
   "outputs": [],
   "source": [
    "# Base de dados dos videos em destaque do youtube US\n",
    "you_data = pd.read_csv(\"USvideos.csv\")\n",
    "\n",
    "you_data.drop_duplicates(subset = 'video_id', keep = 'last', inplace = True)\n",
    "\n",
    "# jason que contém a relação id - categoria\n",
    "ids = json.loads(open('US_category_id.json').read())\n",
    "\n",
    "\n",
    "# filtro das variáveis de interesse\n",
    "you_analysis = you_data.loc[you_data.views|you_data.title|you_data.tags|you_data.category_id,\\\n",
    "                           ['views', 'title', 'tags', 'category_id']]\n"
   ]
  },
  {
   "cell_type": "code",
   "execution_count": 63,
   "metadata": {
    "scrolled": true
   },
   "outputs": [],
   "source": [
    "# separação da string das tags em uma lista de strings\n",
    "tags_split = you_analysis.tags.str.split(pat = '|')\n",
    "you_analysis['tags_split'] = tags_split\n",
    "you_analysis.head()\n",
    "you_ifn = you_analysis.copy()"
   ]
  },
  {
   "cell_type": "code",
   "execution_count": 166,
   "metadata": {},
   "outputs": [
    {
     "name": "stderr",
     "output_type": "stream",
     "text": [
      "UsageError: Line magic function `%lprun` not found.\n"
     ]
    }
   ],
   "source": [
    "# Junta todas as strings em uma lista só para pder fazer um value_counts() e criar um\n",
    "# dataframe com as tags e as frquencias de cada uma\n",
    "merged = list(itertools.chain(*you_analysis.tags_split))\n",
    "contador = pd.DataFrame({'col':merged})\n",
    "limpino = contador[contador.col != '[none]']\n",
    "dfl = limpino.col.value_counts().rename_axis('tags').reset_index(name='counts')\n",
    "dfl = dfl[(dfl['counts'])> 10]"
   ]
  },
  {
   "cell_type": "code",
   "execution_count": 65,
   "metadata": {},
   "outputs": [
    {
     "name": "stdout",
     "output_type": "stream",
     "text": [
      "Stored 'dfl' (DataFrame)\n",
      "Stored 'you_data' (DataFrame)\n"
     ]
    }
   ],
   "source": [
    "%store dfl\n",
    "%store you_data"
   ]
  },
  {
   "cell_type": "code",
   "execution_count": 89,
   "metadata": {},
   "outputs": [
    {
     "data": {
      "text/html": [
       "<div>\n",
       "<style scoped>\n",
       "    .dataframe tbody tr th:only-of-type {\n",
       "        vertical-align: middle;\n",
       "    }\n",
       "\n",
       "    .dataframe tbody tr th {\n",
       "        vertical-align: top;\n",
       "    }\n",
       "\n",
       "    .dataframe thead th {\n",
       "        text-align: right;\n",
       "    }\n",
       "</style>\n",
       "<table border=\"1\" class=\"dataframe\">\n",
       "  <thead>\n",
       "    <tr style=\"text-align: right;\">\n",
       "      <th></th>\n",
       "      <th>tags</th>\n",
       "      <th>counts</th>\n",
       "    </tr>\n",
       "  </thead>\n",
       "  <tbody>\n",
       "    <tr>\n",
       "      <th>0</th>\n",
       "      <td>funny</td>\n",
       "      <td>631</td>\n",
       "    </tr>\n",
       "    <tr>\n",
       "      <th>1</th>\n",
       "      <td>comedy</td>\n",
       "      <td>515</td>\n",
       "    </tr>\n",
       "    <tr>\n",
       "      <th>2</th>\n",
       "      <td>humor</td>\n",
       "      <td>277</td>\n",
       "    </tr>\n",
       "    <tr>\n",
       "      <th>3</th>\n",
       "      <td>comedian</td>\n",
       "      <td>227</td>\n",
       "    </tr>\n",
       "    <tr>\n",
       "      <th>4</th>\n",
       "      <td>music</td>\n",
       "      <td>213</td>\n",
       "    </tr>\n",
       "  </tbody>\n",
       "</table>\n",
       "</div>"
      ],
      "text/plain": [
       "       tags  counts\n",
       "0     funny     631\n",
       "1    comedy     515\n",
       "2     humor     277\n",
       "3  comedian     227\n",
       "4     music     213"
      ]
     },
     "execution_count": 89,
     "metadata": {},
     "output_type": "execute_result"
    }
   ],
   "source": [
    "dfl.head()"
   ]
  },
  {
   "cell_type": "code",
   "execution_count": 167,
   "metadata": {
    "scrolled": false
   },
   "outputs": [
    {
     "data": {
      "application/vnd.jupyter.widget-view+json": {
       "model_id": "1d78184d009f43be8c0b0e337a298124",
       "version_major": 2,
       "version_minor": 0
      },
      "text/plain": [
       "HBox(children=(IntProgress(value=0, max=1446), HTML(value='')))"
      ]
     },
     "metadata": {},
     "output_type": "display_data"
    },
    {
     "name": "stderr",
     "output_type": "stream",
     "text": [
      "C:\\Users\\gugat\\Anaconda3\\lib\\site-packages\\ipykernel_launcher.py:3: UserWarning: This pattern has match groups. To actually get the groups, use str.extract.\n",
      "  This is separate from the ipykernel package so we can avoid doing imports until\n"
     ]
    }
   ],
   "source": [
    "# Separa as linhas que contém certa tag\n",
    "for ind,data in tqdm(dfl.iterrows(), total=dfl.shape[0]):\n",
    "    var_df = you_analysis[you_analysis['tags'].str.contains(data['tags'])]\n",
    "    x = list(var_df.index)\n",
    "    you_analysis[data['tags']+'_freq'] = 0\n",
    "    you_analysis.loc[x,[data['tags']+'_freq']] = data['counts']\n",
    "    \n",
    "# var_df = you_analysis['tags'].str.contains(dfl.tags[0])\n",
    "# list(var_df)"
   ]
  },
  {
   "cell_type": "code",
   "execution_count": 155,
   "metadata": {},
   "outputs": [
    {
     "data": {
      "image/png": "[encoded data removed]",
      "text/plain": [
       "<Figure size 432x288 with 1 Axes>"
      ]
     },
     "metadata": {
      "needs_background": "light"
     },
     "output_type": "display_data"
    }
   ],
   "source": [
    "# Cria dataframe das views e frequência máxima\n",
    "banana = pd.DataFrame()\n",
    "banana['views'] = you_analysis['views']\n",
    "banana['max_freq'] = you_analysis.iloc[:,5:].max(axis=1)\n",
    "\n",
    "# Plota scatter \n",
    "ax = plt.gca()\n",
    "ax.scatter(banana.max_freq, banana.views)\n",
    "ax.set_yscale('log')\n",
    "ax.set_title('Scater plot View x Tag')\n",
    "ax.set_xlabel('frequencia da tag')\n",
    "ax.set_xlabel('views');"
   ]
  },
  {
   "cell_type": "code",
   "execution_count": 69,
   "metadata": {},
   "outputs": [],
   "source": [
    "# Transpose no dataframe para poder usar .nlargest()\n",
    "you_freqs = you_analysis.iloc[:,5:]\n",
    "trans = you_freqs.T"
   ]
  },
  {
   "cell_type": "code",
   "execution_count": 70,
   "metadata": {
    "scrolled": true
   },
   "outputs": [
    {
     "name": "stdout",
     "output_type": "stream",
     "text": [
      "Stored 'trans' (DataFrame)\n",
      "Stored 'you_analysis' (DataFrame)\n",
      "Stored 'banana' (DataFrame)\n"
     ]
    }
   ],
   "source": [
    "#trans.rename(index=str, columns={e: \"vid_{0}\".format(e)})\n",
    "%store trans\n",
    "%store you_analysis\n",
    "%store banana"
   ]
  },
  {
   "cell_type": "code",
   "execution_count": 153,
   "metadata": {},
   "outputs": [
    {
     "data": {
      "application/vnd.jupyter.widget-view+json": {
       "model_id": "d7fda1e09cfe4291921071e622ad411f",
       "version_major": 2,
       "version_minor": 0
      },
      "text/plain": [
       "HBox(children=(IntProgress(value=0, max=6282), HTML(value='')))"
      ]
     },
     "metadata": {},
     "output_type": "display_data"
    }
   ],
   "source": [
    "top3_sum = []\n",
    "toto_sum = []\n",
    "for ind, data in tqdm(you_freqs.iterrows(), total=you_freqs.shape[0]):\n",
    "    top3_sum.append(data.nlargest(3).sum())\n",
    "    toto_sum.append(data.sum())"
   ]
  },
  {
   "cell_type": "code",
   "execution_count": 118,
   "metadata": {},
   "outputs": [
    {
     "name": "stdout",
     "output_type": "stream",
     "text": [
      "Stored 'you_ifn' (DataFrame)\n"
     ]
    }
   ],
   "source": [
    "you_ifn['top3_freq']=top3_sum\n",
    "%store you_ifn"
   ]
  },
  {
   "cell_type": "code",
   "execution_count": 122,
   "metadata": {},
   "outputs": [
    {
     "data": {
      "image/png": "[encoded data removed]",
      "text/plain": [
       "<Figure size 432x288 with 1 Axes>"
      ]
     },
     "metadata": {
      "needs_background": "light"
     },
     "output_type": "display_data"
    }
   ],
   "source": [
    "plt.gca().scatter(you_ifn.top3_freq, you_ifn.views)\n",
    "plt.gca().set_yscale('log')"
   ]
  },
  {
   "cell_type": "code",
   "execution_count": 123,
   "metadata": {
    "scrolled": true
   },
   "outputs": [
    {
     "data": {
      "image/png": "[encoded data removed]",
      "text/plain": [
       "<Figure size 432x288 with 1 Axes>"
      ]
     },
     "metadata": {
      "needs_background": "light"
     },
     "output_type": "display_data"
    }
   ],
   "source": [
    "def Plot_line(x_dado, y_dado):\n",
    "\n",
    "    x = x_dado\n",
    "    y = y_dado\n",
    "\n",
    "    #beta^0 e beta^1\n",
    "    yb = y.mean()\n",
    "    xb = x.mean()\n",
    "\n",
    "    Sxy = ((x -xb)*(y -yb)).sum()\n",
    "    Sxx = ((x -xb)**2).sum()\n",
    "\n",
    "    b1 = Sxy/Sxx\n",
    "    b0 = yb - b1*xb\n",
    "\n",
    "    x_v = np.linspace(x.min(), x.max(), 500)\n",
    "    y_v = b0 + b1*x_v\n",
    "\n",
    "    plt.plot(x_v,y_v, color=\"r\") # resultados da regressão\n",
    "    plt.scatter(x, y); # dados\n",
    "    plt.gca().set_yscale('log')\n",
    "    plt.ylim((y.min(),y.max()))\n",
    "    \n",
    "Plot_line(you_ifn.top3_freq, you_ifn.views)"
   ]
  },
  {
   "cell_type": "code",
   "execution_count": 75,
   "metadata": {
    "scrolled": true
   },
   "outputs": [
    {
     "data": {
      "image/png": "[encoded data removed]",
      "text/plain": [
       "<Figure size 432x288 with 1 Axes>"
      ]
     },
     "metadata": {
      "needs_background": "light"
     },
     "output_type": "display_data"
    }
   ],
   "source": [
    "e = y - (b0 + b1*x) # Escreva sua fórmula dos resíduos aqui\n",
    "\n",
    "stats.probplot(e, dist='norm', plot=plt);"
   ]
  },
  {
   "cell_type": "code",
   "execution_count": 144,
   "metadata": {},
   "outputs": [
    {
     "data": {
      "application/vnd.jupyter.widget-view+json": {
       "model_id": "eaec3e43c266448d80326b60502de47a",
       "version_major": 2,
       "version_minor": 0
      },
      "text/plain": [
       "HBox(children=(IntProgress(value=0, max=1446), HTML(value='')))"
      ]
     },
     "metadata": {},
     "output_type": "display_data"
    }
   ],
   "source": [
    "a = trans.copy().T.astype(str)\n",
    "for i in tqdm(a.columns):\n",
    "    a[i] = a[i].str.replace('[1-9][0-9]*','1')"
   ]
  },
  {
   "cell_type": "code",
   "execution_count": 77,
   "metadata": {},
   "outputs": [
    {
     "data": {
      "application/vnd.jupyter.widget-view+json": {
       "model_id": "e7e1748597824587b47e5cbaa188eefd",
       "version_major": 2,
       "version_minor": 0
      },
      "text/plain": [
       "HBox(children=(IntProgress(value=0, max=6282), HTML(value='')))"
      ]
     },
     "metadata": {},
     "output_type": "display_data"
    }
   ],
   "source": [
    "a = a.astype(int)\n",
    "n_tags = []\n",
    "for ind,data in tqdm(a.iterrows(), total=a.shape[0]):\n",
    "    n_tags.append(data.sum())"
   ]
  },
  {
   "cell_type": "code",
   "execution_count": 78,
   "metadata": {},
   "outputs": [
    {
     "name": "stderr",
     "output_type": "stream",
     "text": [
      "C:\\Users\\gugat\\Anaconda3\\lib\\site-packages\\ipykernel_launcher.py:3: RuntimeWarning: invalid value encountered in longlong_scalars\n",
      "  This is separate from the ipykernel package so we can avoid doing imports until\n"
     ]
    }
   ],
   "source": [
    "mean_freqs = []\n",
    "for e in range(len(n_tags)):\n",
    "    mean_freqs.append(toto_sum[e]/n_tags[e])"
   ]
  },
  {
   "cell_type": "markdown",
   "metadata": {},
   "source": [
    "### ANÁLISE DESCRITIVA"
   ]
  },
  {
   "cell_type": "markdown",
   "metadata": {},
   "source": [
    "___\n",
    "## C. MODELOS DE PREDIÇÃO"
   ]
  },
  {
   "cell_type": "code",
   "execution_count": 169,
   "metadata": {
    "scrolled": true
   },
   "outputs": [
    {
     "data": {
      "text/html": [
       "<div>\n",
       "<style scoped>\n",
       "    .dataframe tbody tr th:only-of-type {\n",
       "        vertical-align: middle;\n",
       "    }\n",
       "\n",
       "    .dataframe tbody tr th {\n",
       "        vertical-align: top;\n",
       "    }\n",
       "\n",
       "    .dataframe thead th {\n",
       "        text-align: right;\n",
       "    }\n",
       "</style>\n",
       "<table border=\"1\" class=\"dataframe\">\n",
       "  <thead>\n",
       "    <tr style=\"text-align: right;\">\n",
       "      <th></th>\n",
       "      <th>views</th>\n",
       "      <th>top3_freq</th>\n",
       "      <th>n_tags</th>\n",
       "      <th>mean_freqs</th>\n",
       "      <th>funny</th>\n",
       "      <th>comedy</th>\n",
       "      <th>humor</th>\n",
       "      <th>music</th>\n",
       "    </tr>\n",
       "  </thead>\n",
       "  <tbody>\n",
       "    <tr>\n",
       "      <th>10</th>\n",
       "      <td>81377</td>\n",
       "      <td>409</td>\n",
       "      <td>45</td>\n",
       "      <td>46.533333</td>\n",
       "      <td>0</td>\n",
       "      <td>0</td>\n",
       "      <td>0</td>\n",
       "      <td>0</td>\n",
       "    </tr>\n",
       "    <tr>\n",
       "      <th>36</th>\n",
       "      <td>288922</td>\n",
       "      <td>435</td>\n",
       "      <td>34</td>\n",
       "      <td>39.970588</td>\n",
       "      <td>0</td>\n",
       "      <td>0</td>\n",
       "      <td>0</td>\n",
       "      <td>0</td>\n",
       "    </tr>\n",
       "    <tr>\n",
       "      <th>41</th>\n",
       "      <td>34785</td>\n",
       "      <td>309</td>\n",
       "      <td>9</td>\n",
       "      <td>48.000000</td>\n",
       "      <td>0</td>\n",
       "      <td>0</td>\n",
       "      <td>0</td>\n",
       "      <td>0</td>\n",
       "    </tr>\n",
       "    <tr>\n",
       "      <th>55</th>\n",
       "      <td>1496225</td>\n",
       "      <td>347</td>\n",
       "      <td>22</td>\n",
       "      <td>36.090909</td>\n",
       "      <td>0</td>\n",
       "      <td>0</td>\n",
       "      <td>0</td>\n",
       "      <td>0</td>\n",
       "    </tr>\n",
       "    <tr>\n",
       "      <th>76</th>\n",
       "      <td>237307</td>\n",
       "      <td>69</td>\n",
       "      <td>5</td>\n",
       "      <td>19.200000</td>\n",
       "      <td>0</td>\n",
       "      <td>0</td>\n",
       "      <td>0</td>\n",
       "      <td>0</td>\n",
       "    </tr>\n",
       "    <tr>\n",
       "      <th>78</th>\n",
       "      <td>1497519</td>\n",
       "      <td>1135</td>\n",
       "      <td>41</td>\n",
       "      <td>109.341463</td>\n",
       "      <td>1</td>\n",
       "      <td>0</td>\n",
       "      <td>1</td>\n",
       "      <td>0</td>\n",
       "    </tr>\n",
       "    <tr>\n",
       "      <th>102</th>\n",
       "      <td>225286</td>\n",
       "      <td>1423</td>\n",
       "      <td>35</td>\n",
       "      <td>97.800000</td>\n",
       "      <td>1</td>\n",
       "      <td>1</td>\n",
       "      <td>1</td>\n",
       "      <td>0</td>\n",
       "    </tr>\n",
       "    <tr>\n",
       "      <th>104</th>\n",
       "      <td>5476737</td>\n",
       "      <td>375</td>\n",
       "      <td>29</td>\n",
       "      <td>30.931034</td>\n",
       "      <td>0</td>\n",
       "      <td>0</td>\n",
       "      <td>0</td>\n",
       "      <td>0</td>\n",
       "    </tr>\n",
       "    <tr>\n",
       "      <th>106</th>\n",
       "      <td>304926</td>\n",
       "      <td>339</td>\n",
       "      <td>17</td>\n",
       "      <td>55.294118</td>\n",
       "      <td>0</td>\n",
       "      <td>0</td>\n",
       "      <td>0</td>\n",
       "      <td>0</td>\n",
       "    </tr>\n",
       "    <tr>\n",
       "      <th>117</th>\n",
       "      <td>1017803</td>\n",
       "      <td>308</td>\n",
       "      <td>9</td>\n",
       "      <td>48.777778</td>\n",
       "      <td>0</td>\n",
       "      <td>0</td>\n",
       "      <td>0</td>\n",
       "      <td>0</td>\n",
       "    </tr>\n",
       "  </tbody>\n",
       "</table>\n",
       "</div>"
      ],
      "text/plain": [
       "       views  top3_freq  n_tags  mean_freqs funny comedy humor music\n",
       "10     81377        409      45   46.533333     0      0     0     0\n",
       "36    288922        435      34   39.970588     0      0     0     0\n",
       "41     34785        309       9   48.000000     0      0     0     0\n",
       "55   1496225        347      22   36.090909     0      0     0     0\n",
       "76    237307         69       5   19.200000     0      0     0     0\n",
       "78   1497519       1135      41  109.341463     1      0     1     0\n",
       "102   225286       1423      35   97.800000     1      1     1     0\n",
       "104  5476737        375      29   30.931034     0      0     0     0\n",
       "106   304926        339      17   55.294118     0      0     0     0\n",
       "117  1017803        308       9   48.777778     0      0     0     0"
      ]
     },
     "execution_count": 169,
     "metadata": {},
     "output_type": "execute_result"
    }
   ],
   "source": [
    "new_data = pd.DataFrame()\n",
    "new_data['views'] = you_analysis['views']\n",
    "new_data['top3_freq'] = top3_sum\n",
    "new_data['n_tags'] = n_tags\n",
    "new_data['mean_freqs'] = mean_freqs\n",
    "new_data['funny'] = a['funny_freq']\n",
    "new_data['comedy'] = a['comedy_freq']\n",
    "new_data['humor'] = a['humor_freq']\n",
    "new_data['music'] = a['music_freq']\n",
    "new_data.head(10)\n"
   ]
  },
  {
   "cell_type": "code",
   "execution_count": 140,
   "metadata": {},
   "outputs": [
    {
     "data": {
      "image/png": "[encoded data removed]",
      "text/plain": [
       "<Figure size 432x288 with 1 Axes>"
      ]
     },
     "metadata": {
      "needs_background": "light"
     },
     "output_type": "display_data"
    }
   ],
   "source": [
    "Plot_line(new_data.n_tags,new_data.views)\n",
    "plt.title('Quantidade de Views por Tags')\n",
    "plt.xlabel('Tags')\n",
    "plt.ylabel('Views');"
   ]
  },
  {
   "cell_type": "code",
   "execution_count": 134,
   "metadata": {},
   "outputs": [
    {
     "data": {
      "image/png": "[encoded data removed]",
      "text/plain": [
       "<Figure size 432x288 with 1 Axes>"
      ]
     },
     "metadata": {
      "needs_background": "light"
     },
     "output_type": "display_data"
    }
   ],
   "source": [
    "Plot_line(new_data.mean_freqs,new_data.views)\n",
    "plt.title('Quantidade de Views por média das frequências das Tags')\n",
    "plt.xlabel('Tags')\n",
    "plt.ylabel('Views');"
   ]
  },
  {
   "cell_type": "code",
   "execution_count": 221,
   "metadata": {},
   "outputs": [],
   "source": [
    "com_funny = []\n",
    "sem_funny = []\n",
    "for i in new_data.iterrows():\n",
    "    if i[1].funny == \"1\":\n",
    "        com_funny.append(i[1].views)\n",
    "    elif i[1].funny == \"0\":\n",
    "        sem_funny.append(i[1].views)"
   ]
  },
  {
   "cell_type": "code",
   "execution_count": 258,
   "metadata": {},
   "outputs": [
    {
     "data": {
      "image/png": "[encoded data removed]",
      "text/plain": [
       "<Figure size 432x288 with 2 Axes>"
      ]
     },
     "metadata": {
      "needs_background": "light"
     },
     "output_type": "display_data"
    }
   ],
   "source": [
    "fig, axs = plt.subplots(1, 2)\n",
    "\n",
    "axs[0].boxplot(np.log10(com_funny))\n",
    "axs[0].set_title('Com a tag funny')\n",
    "axs[0].set_ylabel('views (10^)')\n",
    "axs[1].boxplot(np.log10(sem_funny))\n",
    "axs[1].set_title('Sem a tag funny')\n",
    "axs[1].set_ylabel('views (10^)');"
   ]
  },
  {
   "cell_type": "markdown",
   "metadata": {
    "collapsed": true
   },
   "source": [
    "o MODELO DE PREDIÇÃO PELA MÉDIA (Sem uso de variável explicativa)."
   ]
  },
  {
   "cell_type": "code",
   "execution_count": null,
   "metadata": {},
   "outputs": [],
   "source": []
  },
  {
   "cell_type": "markdown",
   "metadata": {
    "collapsed": true
   },
   "source": [
    "o MODELO DOS K VIZINHOS MAIS PRÓXIMOS (K-Nearest Neighbors Regression)"
   ]
  },
  {
   "cell_type": "code",
   "execution_count": null,
   "metadata": {},
   "outputs": [],
   "source": []
  },
  {
   "cell_type": "markdown",
   "metadata": {
    "collapsed": true
   },
   "source": [
    "o MODELO DE REGRESSÃO LINEAR (Multiple Linear Regression)"
   ]
  },
  {
   "cell_type": "code",
   "execution_count": null,
   "metadata": {},
   "outputs": [],
   "source": []
  },
  {
   "cell_type": "markdown",
   "metadata": {
    "collapsed": true
   },
   "source": [
    "o MODELO DE ÁRVORES DE REGRESSÃO (Decision Tree Regression)"
   ]
  },
  {
   "cell_type": "code",
   "execution_count": null,
   "metadata": {},
   "outputs": [],
   "source": []
  },
  {
   "cell_type": "markdown",
   "metadata": {
    "collapsed": true
   },
   "source": [
    "___\n",
    "## D. PROCESSO E ESTATÍSTICAS DE VALIDAÇÃO"
   ]
  },
  {
   "cell_type": "markdown",
   "metadata": {},
   "source": [
    "[Esse item depende dos resultados das modelagens anteriores! Organize-os aqui de forma clara!]"
   ]
  },
  {
   "cell_type": "code",
   "execution_count": null,
   "metadata": {},
   "outputs": [],
   "source": []
  },
  {
   "cell_type": "markdown",
   "metadata": {},
   "source": [
    "___\n",
    "## E. CONCLUSÃO"
   ]
  },
  {
   "cell_type": "code",
   "execution_count": null,
   "metadata": {},
   "outputs": [],
   "source": []
  },
  {
   "cell_type": "markdown",
   "metadata": {},
   "source": [
    "___\n",
    "## F. REFERÊNCIAS BIBLIOGRÁFICAS"
   ]
  },
  {
   "cell_type": "code",
   "execution_count": null,
   "metadata": {},
   "outputs": [],
   "source": []
  }
 ],
 "metadata": {
  "anaconda-cloud": {},
  "kernelspec": {
   "display_name": "Python 3",
   "language": "python",
   "name": "python3"
  },
  "language_info": {
   "codemirror_mode": {
    "name": "ipython",
    "version": 3
   },
   "file_extension": ".py",
   "mimetype": "text/x-python",
   "name": "python",
   "nbconvert_exporter": "python",
   "pygments_lexer": "ipython3",
   "version": "3.7.1"
  }
 },
 "nbformat": 4,
 "nbformat_minor": 1
}
