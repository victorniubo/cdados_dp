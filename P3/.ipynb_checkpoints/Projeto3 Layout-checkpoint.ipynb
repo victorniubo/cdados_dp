{
 "cells": [
  {
   "cell_type": "markdown",
   "metadata": {},
   "source": [
    "___\n",
    "## Ciência dos Dados - PROJETO 3 - INSPER"
   ]
  },
  {
   "cell_type": "markdown",
   "metadata": {},
   "source": [
    "___\n",
    "#### Victor Arruda Niubó\n",
    "\n",
    "#### Giovanni Pertence Cardoso dos Santos\n",
    "\n",
    "#### Gustavo Schlieper Tessitore\n",
    "\n",
    "#### Leonardo Cesari Costa\n",
    "___"
   ]
  },
  {
   "cell_type": "markdown",
   "metadata": {},
   "source": [
    "# Previsão da quantidade de views"
   ]
  },
  {
   "cell_type": "markdown",
   "metadata": {},
   "source": [
    "___\n",
    "\n",
    "## A. INTRODUÇÃO"
   ]
  },
  {
   "cell_type": "markdown",
   "metadata": {},
   "source": [
    "O objetivo do projeto é estimar a quantidade de visualizações que um vídeo terá com base no título, horário de publicação e as tags atribuidas aos vídeos."
   ]
  },
  {
   "cell_type": "markdown",
   "metadata": {},
   "source": [
    "___\n",
    "## B. MINERANDO DADOS e CARACTERÍSTICAS DO DATASET"
   ]
  },
  {
   "cell_type": "markdown",
   "metadata": {},
   "source": [
    " "
   ]
  },
  {
   "cell_type": "code",
   "execution_count": 124,
   "metadata": {},
   "outputs": [],
   "source": [
    "from tqdm import tqdm_notebook as tqdm\n",
    "from sklearn.model_selection import train_test_split\n",
    "from sklearn.neighbors import KNeighborsRegressor\n",
    "from sklearn.linear_model import LinearRegression\n",
    "from sklearn.tree import DecisionTreeRegressor\n",
    "from sklearn.metrics import mean_squared_error\n",
    "import matplotlib.pyplot as plt\n",
    "import seaborn as sns\n",
    "import pandas as pd\n",
    "import numpy as np\n",
    "import scipy.stats\n",
    "import itertools\n",
    "import math\n",
    "import json\n",
    "import os\n",
    "from scipy import stats\n",
    "from scipy.stats import norm"
   ]
  },
  {
   "cell_type": "code",
   "execution_count": 125,
   "metadata": {
    "scrolled": true
   },
   "outputs": [
    {
     "name": "stdout",
     "output_type": "stream",
     "text": [
      "Esperamos trabalhar no diretório\n",
      "C:\\Users\\gugat\\Desktop\\Insper DS 2018.1\\2.1 semestre\\Dados\\cdados_dp\\P3\n"
     ]
    }
   ],
   "source": [
    "#remove mesagens de aviso do Pandas\n",
    "pd.options.mode.chained_assignment = None\n",
    "print('Esperamos trabalhar no diretório')\n",
    "print(os.getcwd())"
   ]
  },
  {
   "cell_type": "markdown",
   "metadata": {},
   "source": [
    "### BASE DE DADOS"
   ]
  },
  {
   "cell_type": "code",
   "execution_count": 126,
   "metadata": {
    "scrolled": true
   },
   "outputs": [],
   "source": [
    "# Base de dados dos videos em destaque do youtube US\n",
    "you_data = pd.read_csv(\"USvideos.csv\")\n",
    "\n",
    "you_data.drop_duplicates(subset = 'video_id', keep = 'last', inplace = True)\n",
    "\n",
    "\n",
    "\n",
    "# filtro das variáveis de interesse\n",
    "you_analysis = you_data.loc[you_data.views|you_data.title|you_data.tags|you_data.category_id,\\\n",
    "                           ['views', 'title', 'tags', 'category_id']]\n",
    "you_analysis = you_analysis.reset_index().drop('index',axis=1)\n",
    "\n",
    "# you_analysis = you_analytics.iloc[0:int(you_analytics.index[-1]*0.75), :]\n",
    "# you_test = you_analytics.iloc[int(you_analytics.index[-1]*0.75):, :]\n"
   ]
  },
  {
   "cell_type": "code",
   "execution_count": 127,
   "metadata": {
    "scrolled": true
   },
   "outputs": [],
   "source": [
    "# separação da string das tags em uma lista de strings\n",
    "tags_split = you_analysis.tags.str.split(pat = '|')\n",
    "you_analysis['tags_split'] = tags_split\n",
    "you_analysis.head()\n",
    "you_ifn = you_analysis.copy()"
   ]
  },
  {
   "cell_type": "code",
   "execution_count": 128,
   "metadata": {},
   "outputs": [],
   "source": [
    "# Junta todas as strings em uma lista só para pder fazer um value_counts() e criar um\n",
    "# dataframe com as tags e as frquencias de cada uma\n",
    "merged = list(itertools.chain(*you_analysis.tags_split))\n",
    "contador = pd.DataFrame({'col':merged})\n",
    "limpino = contador[contador.col != '[none]']\n",
    "dfl = limpino.col.value_counts().rename_axis('tags').reset_index(name='counts')\n",
    "dfl = dfl[(dfl['counts'])> 10]"
   ]
  },
  {
   "cell_type": "code",
   "execution_count": 129,
   "metadata": {},
   "outputs": [
    {
     "name": "stdout",
     "output_type": "stream",
     "text": [
      "Stored 'dfl' (DataFrame)\n",
      "Stored 'you_data' (DataFrame)\n"
     ]
    }
   ],
   "source": [
    "%store dfl\n",
    "%store you_data"
   ]
  },
  {
   "cell_type": "code",
   "execution_count": 130,
   "metadata": {},
   "outputs": [
    {
     "data": {
      "application/vnd.jupyter.widget-view+json": {
       "model_id": "5d24363e26884b9b8e7c8366d575f301",
       "version_major": 2,
       "version_minor": 0
      },
      "text/plain": [
       "HBox(children=(IntProgress(value=0, max=1446), HTML(value='')))"
      ]
     },
     "metadata": {},
     "output_type": "display_data"
    },
    {
     "name": "stderr",
     "output_type": "stream",
     "text": [
      "C:\\Users\\gugat\\Anaconda3\\lib\\site-packages\\ipykernel_launcher.py:3: UserWarning: This pattern has match groups. To actually get the groups, use str.extract.\n",
      "  This is separate from the ipykernel package so we can avoid doing imports until\n",
      "C:\\Users\\gugat\\Anaconda3\\lib\\site-packages\\ipykernel_launcher.py:3: UserWarning: This pattern has match groups. To actually get the groups, use str.extract.\n",
      "  This is separate from the ipykernel package so we can avoid doing imports until\n",
      "C:\\Users\\gugat\\Anaconda3\\lib\\site-packages\\ipykernel_launcher.py:3: UserWarning: This pattern has match groups. To actually get the groups, use str.extract.\n",
      "  This is separate from the ipykernel package so we can avoid doing imports until\n"
     ]
    },
    {
     "name": "stdout",
     "output_type": "stream",
     "text": [
      "\n"
     ]
    }
   ],
   "source": [
    "## Separa as linhas que contém certa tag\n",
    "for ind,data in tqdm(dfl.iterrows(), total=dfl.shape[0]):\n",
    "    var_df = you_analysis[you_analysis['tags'].str.contains(data['tags'])]\n",
    "    x = list(var_df.index)\n",
    "    you_analysis[data['tags']+'_freq'] = 0\n",
    "    you_analysis.loc[x,[data['tags']+'_freq']] = data['counts']\n",
    "    \n",
    "# var_df = you_analysis['tags'].str.contains(dfl.tags[0])\n",
    "# list(var_df)"
   ]
  },
  {
   "cell_type": "code",
   "execution_count": 131,
   "metadata": {},
   "outputs": [
    {
     "data": {
      "image/png": "[encoded data removed]",
      "text/plain": [
       "<Figure size 432x288 with 1 Axes>"
      ]
     },
     "metadata": {
      "needs_background": "light"
     },
     "output_type": "display_data"
    }
   ],
   "source": [
    "# Cria dataframe das views e frequência máxima\n",
    "banana = pd.DataFrame()\n",
    "banana['views'] = you_analysis['views']\n",
    "banana['max_freq'] = you_analysis.iloc[:,5:].max(axis=1)\n",
    "\n",
    "# Plota scatter \n",
    "ax = plt.gca()\n",
    "ax.scatter(banana.max_freq, banana.views)\n",
    "ax.set_yscale('log')\n",
    "ax.set_title('Scater plot View x Tag')\n",
    "ax.set_xlabel('frequencia da tag')\n",
    "ax.set_ylabel('views')\n",
    "plt.savefig('img/Scater plot View x Tag.png')"
   ]
  },
  {
   "cell_type": "code",
   "execution_count": 132,
   "metadata": {},
   "outputs": [],
   "source": [
    "# Transpose no dataframe para poder usar .nlargest()\n",
    "you_freqs = you_analysis.iloc[:,5:]\n",
    "trans = you_freqs.T\n"
   ]
  },
  {
   "cell_type": "code",
   "execution_count": 133,
   "metadata": {
    "scrolled": true
   },
   "outputs": [
    {
     "name": "stdout",
     "output_type": "stream",
     "text": [
      "Stored 'trans' (DataFrame)\n",
      "Stored 'you_analysis' (DataFrame)\n",
      "Stored 'banana' (DataFrame)\n"
     ]
    }
   ],
   "source": [
    "#trans.rename(index=str, columns={e: \"vid_{0}\".format(e)})\n",
    "%store trans\n",
    "%store you_analysis\n",
    "%store banana"
   ]
  },
  {
   "cell_type": "code",
   "execution_count": 134,
   "metadata": {},
   "outputs": [
    {
     "data": {
      "application/vnd.jupyter.widget-view+json": {
       "model_id": "0d146290699a4f81bb1894f5f01c64e2",
       "version_major": 2,
       "version_minor": 0
      },
      "text/plain": [
       "HBox(children=(IntProgress(value=0, max=6282), HTML(value='')))"
      ]
     },
     "metadata": {},
     "output_type": "display_data"
    },
    {
     "name": "stdout",
     "output_type": "stream",
     "text": [
      "\n"
     ]
    }
   ],
   "source": [
    "top3_sum = []\n",
    "toto_sum = []\n",
    "for ind, data in tqdm(you_freqs.iterrows(), total=you_freqs.shape[0]):\n",
    "    top3_sum.append(data.nlargest(3).sum())\n",
    "    toto_sum.append(data.sum())"
   ]
  },
  {
   "cell_type": "code",
   "execution_count": 135,
   "metadata": {},
   "outputs": [
    {
     "name": "stdout",
     "output_type": "stream",
     "text": [
      "Stored 'you_ifn' (DataFrame)\n"
     ]
    }
   ],
   "source": [
    "you_ifn['top3_freq']=top3_sum\n",
    "%store you_ifn"
   ]
  },
  {
   "cell_type": "code",
   "execution_count": 136,
   "metadata": {},
   "outputs": [
    {
     "data": {
      "image/png": "[encoded data removed]",
      "text/plain": [
       "<Figure size 432x288 with 1 Axes>"
      ]
     },
     "metadata": {
      "needs_background": "light"
     },
     "output_type": "display_data"
    }
   ],
   "source": [
    "plt.gca().scatter(you_ifn.top3_freq, you_ifn.views)\n",
    "plt.gca().set_yscale('log')"
   ]
  },
  {
   "cell_type": "code",
   "execution_count": 137,
   "metadata": {},
   "outputs": [],
   "source": [
    "import statsmodels.api as sm\n",
    "\n",
    "def Summary(x,y):\n",
    "    xc = sm.add_constant(x)\n",
    "    model = sm.OLS(y,xc)\n",
    "    results = model.fit()\n",
    "    return results.summary()"
   ]
  },
  {
   "cell_type": "code",
   "execution_count": 138,
   "metadata": {
    "scrolled": true
   },
   "outputs": [
    {
     "name": "stdout",
     "output_type": "stream",
     "text": [
      "Stored 's_3plot' (Summary)\n"
     ]
    },
    {
     "data": {
      "image/png": "[encoded data removed]",
      "text/plain": [
       "<Figure size 432x288 with 1 Axes>"
      ]
     },
     "metadata": {
      "needs_background": "light"
     },
     "output_type": "display_data"
    }
   ],
   "source": [
    "def Plot_line(x_dado, y_dado):\n",
    "\n",
    "    x = x_dado\n",
    "    y = y_dado\n",
    "\n",
    "    yb = y.mean()\n",
    "    xb = x.mean()\n",
    "\n",
    "    Sxy = ((x -xb)*(y -yb)).sum()\n",
    "    Sxx = ((x -xb)**2).sum()\n",
    "\n",
    "    b1 = Sxy/Sxx\n",
    "    b0 = yb - b1*xb\n",
    "\n",
    "    x_v = np.linspace(x.min(), x.max(), 500)\n",
    "    y_v = b0 + b1*x_v\n",
    "\n",
    "    plt.plot(x_v,y_v, color=\"r\") # resultados da regressão\n",
    "    plt.scatter(x, y); # dados\n",
    "    plt.gca().set_yscale('log')\n",
    "    plt.ylim((y.min(),y.max()))\n",
    "    \n",
    "Plot_line(you_ifn.top3_freq, np.log10(you_ifn.views))\n",
    "s_3plot = Summary(you_ifn.top3_freq, you_ifn.views)\n",
    "plt.gca().set_title('Scater plot View x top 3 tags')\n",
    "plt.gca().set_xlabel('Soma das frequências das tag')\n",
    "plt.gca().set_ylabel('views')\n",
    "plt.savefig('img/Scater plot View x top 3 tags.png')\n",
    "%store s_3plot"
   ]
  },
  {
   "cell_type": "code",
   "execution_count": 139,
   "metadata": {
    "scrolled": true
   },
   "outputs": [
    {
     "data": {
      "application/vnd.jupyter.widget-view+json": {
       "model_id": "a28c1aeaf7cd4be98c358923aeb30d6a",
       "version_major": 2,
       "version_minor": 0
      },
      "text/plain": [
       "HBox(children=(IntProgress(value=0, max=1446), HTML(value='')))"
      ]
     },
     "metadata": {},
     "output_type": "display_data"
    },
    {
     "name": "stdout",
     "output_type": "stream",
     "text": [
      "\n"
     ]
    }
   ],
   "source": [
    "a = trans.copy().T.astype(str)\n",
    "for i in tqdm(a.columns):\n",
    "    a[i] = a[i].str.replace('[1-9][0-9]*','1')"
   ]
  },
  {
   "cell_type": "code",
   "execution_count": 140,
   "metadata": {},
   "outputs": [
    {
     "data": {
      "application/vnd.jupyter.widget-view+json": {
       "model_id": "d59520f4c388416f8924c4b2ae113f4e",
       "version_major": 2,
       "version_minor": 0
      },
      "text/plain": [
       "HBox(children=(IntProgress(value=0, max=6282), HTML(value='')))"
      ]
     },
     "metadata": {},
     "output_type": "display_data"
    },
    {
     "name": "stdout",
     "output_type": "stream",
     "text": [
      "\n"
     ]
    }
   ],
   "source": [
    "a = a.astype(int)\n",
    "n_tags = []\n",
    "for ind,data in tqdm(a.iterrows(), total=a.shape[0]):\n",
    "    n_tags.append(data.sum())"
   ]
  },
  {
   "cell_type": "code",
   "execution_count": 141,
   "metadata": {},
   "outputs": [
    {
     "name": "stderr",
     "output_type": "stream",
     "text": [
      "C:\\Users\\gugat\\Anaconda3\\lib\\site-packages\\ipykernel_launcher.py:3: RuntimeWarning: invalid value encountered in longlong_scalars\n",
      "  This is separate from the ipykernel package so we can avoid doing imports until\n"
     ]
    }
   ],
   "source": [
    "mean_freqs = []\n",
    "for e in range(len(n_tags)):\n",
    "    mean_freqs.append(toto_sum[e]/n_tags[e])"
   ]
  },
  {
   "cell_type": "markdown",
   "metadata": {},
   "source": [
    "### ANÁLISE DESCRITIVA"
   ]
  },
  {
   "cell_type": "markdown",
   "metadata": {},
   "source": [
    "___\n",
    "## C. MODELOS DE PREDIÇÃO"
   ]
  },
  {
   "cell_type": "code",
   "execution_count": 142,
   "metadata": {},
   "outputs": [
    {
     "name": "stdout",
     "output_type": "stream",
     "text": [
      "Stored 'new_data' (DataFrame)\n"
     ]
    }
   ],
   "source": [
    "new_data = pd.DataFrame()\n",
    "new_data['views'] = you_analysis['views']\n",
    "new_data['top3_freq'] = top3_sum\n",
    "new_data['n_tags'] = n_tags\n",
    "new_data['mean_freqs'] = mean_freqs\n",
    "new_data['funny'] = a['funny_freq']\n",
    "new_data['comedy'] = a['comedy_freq']\n",
    "new_data['humor'] = a['humor_freq']\n",
    "new_data['music'] = a['music_freq']\n",
    "new_data = new_data.dropna()\n",
    "%store new_data\n",
    "\n",
    "nd_treino = new_data.iloc[0:int(new_data.index[-1]*0.75), : ]\n",
    "nd_teste = new_data.iloc[int(new_data.index[-1]*0.75):, : ]\n",
    "\n",
    "X=new_data[['top3_freq','n_tags','mean_freqs']]\n",
    "y=new_data['views']\n",
    "\n",
    "X_treino,X_teste,y_treino,y_teste=train_test_split(X,y,test_size=.25,random_state=0)"
   ]
  },
  {
   "cell_type": "code",
   "execution_count": 143,
   "metadata": {},
   "outputs": [
    {
     "data": {
      "image/png": "[encoded data removed]",
      "text/plain": [
       "<Figure size 432x288 with 1 Axes>"
      ]
     },
     "metadata": {
      "needs_background": "light"
     },
     "output_type": "display_data"
    }
   ],
   "source": [
    "Plot_line(nd_treino.n_tags,np.log10(nd_treino.views))\n",
    "plt.title('Quantidade de Views por Tags')\n",
    "plt.xlabel('Tags')\n",
    "plt.ylabel('Views');\n",
    "plt.savefig('img/Scater plot Quantidade de Views por Tags.png')"
   ]
  },
  {
   "cell_type": "code",
   "execution_count": 144,
   "metadata": {},
   "outputs": [
    {
     "name": "stdout",
     "output_type": "stream",
     "text": [
      "Stored 's_tag' (Summary)\n"
     ]
    }
   ],
   "source": [
    "s_tag = Summary(nd_treino.n_tags,nd_treino.views)\n",
    "%store s_tag"
   ]
  },
  {
   "cell_type": "code",
   "execution_count": 145,
   "metadata": {
    "scrolled": true
   },
   "outputs": [
    {
     "data": {
      "text/html": [
       "<div>\n",
       "<style scoped>\n",
       "    .dataframe tbody tr th:only-of-type {\n",
       "        vertical-align: middle;\n",
       "    }\n",
       "\n",
       "    .dataframe tbody tr th {\n",
       "        vertical-align: top;\n",
       "    }\n",
       "\n",
       "    .dataframe thead th {\n",
       "        text-align: right;\n",
       "    }\n",
       "</style>\n",
       "<table border=\"1\" class=\"dataframe\">\n",
       "  <thead>\n",
       "    <tr style=\"text-align: right;\">\n",
       "      <th></th>\n",
       "      <th>views</th>\n",
       "      <th>top3_freq</th>\n",
       "      <th>n_tags</th>\n",
       "      <th>mean_freqs</th>\n",
       "      <th>funny</th>\n",
       "      <th>comedy</th>\n",
       "      <th>humor</th>\n",
       "      <th>music</th>\n",
       "    </tr>\n",
       "  </thead>\n",
       "  <tbody>\n",
       "    <tr>\n",
       "      <th>0</th>\n",
       "      <td>81377</td>\n",
       "      <td>409</td>\n",
       "      <td>45</td>\n",
       "      <td>46.533333</td>\n",
       "      <td>0</td>\n",
       "      <td>0</td>\n",
       "      <td>0</td>\n",
       "      <td>0</td>\n",
       "    </tr>\n",
       "  </tbody>\n",
       "</table>\n",
       "</div>"
      ],
      "text/plain": [
       "   views  top3_freq  n_tags  mean_freqs  funny  comedy  humor  music\n",
       "0  81377        409      45   46.533333      0       0      0      0"
      ]
     },
     "execution_count": 145,
     "metadata": {},
     "output_type": "execute_result"
    },
    {
     "data": {
      "image/png": "[encoded data removed]",
      "text/plain": [
       "<Figure size 432x288 with 1 Axes>"
      ]
     },
     "metadata": {
      "needs_background": "light"
     },
     "output_type": "display_data"
    }
   ],
   "source": [
    "Plot_line(nd_treino.mean_freqs,np.log10(nd_treino.views))\n",
    "plt.title('Quantidade de Views por média das frequências das Tags')\n",
    "plt.xlabel('Tags')\n",
    "plt.ylabel('Views');\n",
    "plt.savefig('img/Scater plot Quantidade de Views por média das frequências das Tags.png')\n",
    "nd_treino.head(1)"
   ]
  },
  {
   "cell_type": "code",
   "execution_count": 146,
   "metadata": {},
   "outputs": [
    {
     "name": "stdout",
     "output_type": "stream",
     "text": [
      "Stored 's_tagmed' (Summary)\n"
     ]
    }
   ],
   "source": [
    "s_tagmed = Summary(nd_treino.mean_freqs,np.log10(nd_treino.views))\n",
    "%store s_tagmed"
   ]
  },
  {
   "cell_type": "code",
   "execution_count": 147,
   "metadata": {},
   "outputs": [],
   "source": [
    "com_funny = []\n",
    "sem_funny = []\n",
    "\n",
    "com_comedy = []\n",
    "sem_comedy = []\n",
    "\n",
    "com_humor = []\n",
    "sem_humor = []\n",
    "\n",
    "com_music = []\n",
    "sem_music = []\n",
    "\n",
    "for i in new_data.iterrows():\n",
    "    if i[1].funny == 1:\n",
    "        com_funny.append(i[1].views)\n",
    "    elif i[1].funny == 0:\n",
    "        sem_funny.append(i[1].views)\n",
    "        \n",
    "    if i[1].comedy == 1:\n",
    "        com_comedy.append(i[1].views)\n",
    "    elif i[1].comedy == 0:\n",
    "        sem_comedy.append(i[1].views)\n",
    "        \n",
    "    if i[1].humor == 1:\n",
    "        com_humor.append(i[1].views)\n",
    "    elif i[1].humor == 0:\n",
    "        sem_humor.append(i[1].views)\n",
    "        \n",
    "    if i[1].music == 1:\n",
    "        com_music.append(i[1].views)\n",
    "    elif i[1].music == 0:\n",
    "        sem_music.append(i[1].views)\n",
    "        "
   ]
  },
  {
   "cell_type": "code",
   "execution_count": 148,
   "metadata": {},
   "outputs": [
    {
     "data": {
      "image/png": "[encoded data removed]",
      "text/plain": [
       "<Figure size 1080x720 with 8 Axes>"
      ]
     },
     "metadata": {
      "needs_background": "light"
     },
     "output_type": "display_data"
    }
   ],
   "source": [
    "fig, axs = plt.subplots(2, 4, sharey='row', gridspec_kw={'hspace': 0.3, 'wspace': 0})\n",
    "fig.set_size_inches(15, 10)\n",
    "\n",
    "axs[0, 0].boxplot(np.log10(com_funny))\n",
    "axs[0, 0].set_title('Com funny', fontsize= 20)\n",
    "axs[0, 0].set_ylabel('views (10^)')\n",
    "axs[0, 1].boxplot(np.log10(sem_funny))\n",
    "axs[0, 1].set_title('Sem funny', fontsize= 20)\n",
    "\n",
    "axs[0, 2].boxplot(np.log10(com_comedy))\n",
    "axs[0, 2].set_title('Com comedy', fontsize= 20)\n",
    "axs[0, 3].boxplot(np.log10(sem_comedy))\n",
    "axs[0, 3].set_title('Sem comedy', fontsize= 20)\n",
    "\n",
    "axs[1, 0].boxplot(np.log10(com_humor))\n",
    "axs[1, 0].set_title('Com humor', fontsize= 20)\n",
    "axs[1, 0].set_ylabel('views (10^)')\n",
    "axs[1, 1].boxplot(np.log10(sem_humor))\n",
    "axs[1, 1].set_title('Sem humor', fontsize= 20)\n",
    "\n",
    "axs[1, 2].boxplot(np.log10(com_music))\n",
    "axs[1, 2].set_title('Com music', fontsize= 20)\n",
    "axs[1, 3].boxplot(np.log10(sem_music))\n",
    "axs[1, 3].set_title('Sem music', fontsize= 20);\n",
    "plt.savefig('img/Boxplots.png')\n"
   ]
  },
  {
   "cell_type": "markdown",
   "metadata": {},
   "source": [
    "o MODELO DE REGRESSÃO LINEAR (Multiple Linear Regression)"
   ]
  },
  {
   "cell_type": "code",
   "execution_count": 149,
   "metadata": {},
   "outputs": [
    {
     "name": "stdout",
     "output_type": "stream",
     "text": [
      "Stored 'mse_lr' (float64)\n"
     ]
    },
    {
     "data": {
      "text/plain": [
       "67427161575827.04"
      ]
     },
     "execution_count": 149,
     "metadata": {},
     "output_type": "execute_result"
    }
   ],
   "source": [
    "lr = LinearRegression()\n",
    "lr.fit(X_treino,y_treino)\n",
    "y_pred=lr.predict(X_teste)\n",
    "mse_lr = mean_squared_error(y_teste,y_pred)\n",
    "%store mse_lr\n",
    "mse_lr"
   ]
  },
  {
   "cell_type": "markdown",
   "metadata": {
    "collapsed": true
   },
   "source": [
    "o MODELO DE PREDIÇÃO PELA MÉDIA (Sem uso de variável explicativa)."
   ]
  },
  {
   "cell_type": "code",
   "execution_count": 156,
   "metadata": {},
   "outputs": [
    {
     "name": "stdout",
     "output_type": "stream",
     "text": [
      "Stored 'mean_trn' (float)\n",
      "Stored 'mean_tst' (float)\n"
     ]
    }
   ],
   "source": [
    "mean_trn, mean_tst = nd_treino.views.mean(),nd_teste.views.mean()\n",
    "%store mean_trn\n",
    "%store mean_tst"
   ]
  },
  {
   "cell_type": "markdown",
   "metadata": {
    "collapsed": true
   },
   "source": [
    "o MODELO DOS K VIZINHOS MAIS PRÓXIMOS (K-Nearest Neighbors Regression)"
   ]
  },
  {
   "cell_type": "code",
   "execution_count": 169,
   "metadata": {},
   "outputs": [
    {
     "ename": "ValueError",
     "evalue": "Expected 2D array, got 1D array instead:\narray=[ 847817 7547432  196571 ...  351539 1757705 3817594].\nReshape your data either using array.reshape(-1, 1) if your data has a single feature or array.reshape(1, -1) if it contains a single sample.",
     "output_type": "error",
     "traceback": [
      "\u001b[1;31m---------------------------------------------------------------------------\u001b[0m",
      "\u001b[1;31mValueError\u001b[0m                                Traceback (most recent call last)",
      "\u001b[1;32m<ipython-input-169-04a2e8699945>\u001b[0m in \u001b[0;36m<module>\u001b[1;34m\u001b[0m\n\u001b[0;32m      4\u001b[0m \u001b[0mmse_knn\u001b[0m \u001b[1;33m=\u001b[0m \u001b[0mmean_squared_error\u001b[0m\u001b[1;33m(\u001b[0m\u001b[0my_teste\u001b[0m\u001b[1;33m,\u001b[0m\u001b[0my_pred1\u001b[0m\u001b[1;33m)\u001b[0m\u001b[1;33m\u001b[0m\u001b[1;33m\u001b[0m\u001b[0m\n\u001b[0;32m      5\u001b[0m \u001b[1;33m\u001b[0m\u001b[0m\n\u001b[1;32m----> 6\u001b[1;33m \u001b[0mknn\u001b[0m\u001b[1;33m.\u001b[0m\u001b[0mscore\u001b[0m\u001b[1;33m(\u001b[0m\u001b[0my_teste\u001b[0m\u001b[1;33m,\u001b[0m\u001b[0my_pred1\u001b[0m\u001b[1;33m)\u001b[0m\u001b[1;33m\u001b[0m\u001b[1;33m\u001b[0m\u001b[0m\n\u001b[0m\u001b[0;32m      7\u001b[0m \u001b[1;33m\u001b[0m\u001b[0m\n\u001b[0;32m      8\u001b[0m \u001b[0mget_ipython\u001b[0m\u001b[1;33m(\u001b[0m\u001b[1;33m)\u001b[0m\u001b[1;33m.\u001b[0m\u001b[0mrun_line_magic\u001b[0m\u001b[1;33m(\u001b[0m\u001b[1;34m'store'\u001b[0m\u001b[1;33m,\u001b[0m \u001b[1;34m'mse_knn'\u001b[0m\u001b[1;33m)\u001b[0m\u001b[1;33m\u001b[0m\u001b[1;33m\u001b[0m\u001b[0m\n",
      "\u001b[1;32m~\\Anaconda3\\lib\\site-packages\\sklearn\\base.py\u001b[0m in \u001b[0;36mscore\u001b[1;34m(self, X, y, sample_weight)\u001b[0m\n\u001b[0;32m    326\u001b[0m \u001b[1;33m\u001b[0m\u001b[0m\n\u001b[0;32m    327\u001b[0m         \u001b[1;32mfrom\u001b[0m \u001b[1;33m.\u001b[0m\u001b[0mmetrics\u001b[0m \u001b[1;32mimport\u001b[0m \u001b[0mr2_score\u001b[0m\u001b[1;33m\u001b[0m\u001b[1;33m\u001b[0m\u001b[0m\n\u001b[1;32m--> 328\u001b[1;33m         return r2_score(y, self.predict(X), sample_weight=sample_weight,\n\u001b[0m\u001b[0;32m    329\u001b[0m                         multioutput='variance_weighted')\n\u001b[0;32m    330\u001b[0m \u001b[1;33m\u001b[0m\u001b[0m\n",
      "\u001b[1;32m~\\Anaconda3\\lib\\site-packages\\sklearn\\neighbors\\regression.py\u001b[0m in \u001b[0;36mpredict\u001b[1;34m(self, X)\u001b[0m\n\u001b[0;32m    153\u001b[0m                 \u001b[1;34m\"precomputed kernels. Densify your matrix.\"\u001b[0m\u001b[1;33m\u001b[0m\u001b[1;33m\u001b[0m\u001b[0m\n\u001b[0;32m    154\u001b[0m             )\n\u001b[1;32m--> 155\u001b[1;33m         \u001b[0mX\u001b[0m \u001b[1;33m=\u001b[0m \u001b[0mcheck_array\u001b[0m\u001b[1;33m(\u001b[0m\u001b[0mX\u001b[0m\u001b[1;33m,\u001b[0m \u001b[0maccept_sparse\u001b[0m\u001b[1;33m=\u001b[0m\u001b[1;34m'csr'\u001b[0m\u001b[1;33m)\u001b[0m\u001b[1;33m\u001b[0m\u001b[1;33m\u001b[0m\u001b[0m\n\u001b[0m\u001b[0;32m    156\u001b[0m \u001b[1;33m\u001b[0m\u001b[0m\n\u001b[0;32m    157\u001b[0m         \u001b[0mneigh_dist\u001b[0m\u001b[1;33m,\u001b[0m \u001b[0mneigh_ind\u001b[0m \u001b[1;33m=\u001b[0m \u001b[0mself\u001b[0m\u001b[1;33m.\u001b[0m\u001b[0mkneighbors\u001b[0m\u001b[1;33m(\u001b[0m\u001b[0mX\u001b[0m\u001b[1;33m)\u001b[0m\u001b[1;33m\u001b[0m\u001b[1;33m\u001b[0m\u001b[0m\n",
      "\u001b[1;32m~\\Anaconda3\\lib\\site-packages\\sklearn\\utils\\validation.py\u001b[0m in \u001b[0;36mcheck_array\u001b[1;34m(array, accept_sparse, accept_large_sparse, dtype, order, copy, force_all_finite, ensure_2d, allow_nd, ensure_min_samples, ensure_min_features, warn_on_dtype, estimator)\u001b[0m\n\u001b[0;32m    550\u001b[0m                     \u001b[1;34m\"Reshape your data either using array.reshape(-1, 1) if \"\u001b[0m\u001b[1;33m\u001b[0m\u001b[1;33m\u001b[0m\u001b[0m\n\u001b[0;32m    551\u001b[0m                     \u001b[1;34m\"your data has a single feature or array.reshape(1, -1) \"\u001b[0m\u001b[1;33m\u001b[0m\u001b[1;33m\u001b[0m\u001b[0m\n\u001b[1;32m--> 552\u001b[1;33m                     \"if it contains a single sample.\".format(array))\n\u001b[0m\u001b[0;32m    553\u001b[0m \u001b[1;33m\u001b[0m\u001b[0m\n\u001b[0;32m    554\u001b[0m         \u001b[1;31m# in the future np.flexible dtypes will be handled like object dtypes\u001b[0m\u001b[1;33m\u001b[0m\u001b[1;33m\u001b[0m\u001b[1;33m\u001b[0m\u001b[0m\n",
      "\u001b[1;31mValueError\u001b[0m: Expected 2D array, got 1D array instead:\narray=[ 847817 7547432  196571 ...  351539 1757705 3817594].\nReshape your data either using array.reshape(-1, 1) if your data has a single feature or array.reshape(1, -1) if it contains a single sample."
     ]
    }
   ],
   "source": [
    "knn = KNeighborsRegressor(17)\n",
    "knn.fit(X_treino,y_treino)\n",
    "y_pred1 = knn.predict(X_teste)\n",
    "mse_knn = mean_squared_error(y_teste,y_pred1)\n",
    "%store mse_knn"
   ]
  },
  {
   "cell_type": "markdown",
   "metadata": {
    "collapsed": true
   },
   "source": [
    "o MODELO DE ÁRVORES DE REGRESSÃO (Decision Tree Regression)"
   ]
  },
  {
   "cell_type": "code",
   "execution_count": 168,
   "metadata": {},
   "outputs": [
    {
     "name": "stdout",
     "output_type": "stream",
     "text": [
      "Stored 'mse_dtr' (float64)\n"
     ]
    }
   ],
   "source": [
    "Xs_tr = nd_treino.iloc[: , 1:4]\n",
    "y_tr = nd_treino.views\n",
    "\n",
    "Xs_ts = nd_teste.iloc[:, 1:4]\n",
    "\n",
    "y_ts = nd_teste.views\n",
    "regressor = DecisionTreeRegressor(random_state = 0)\n",
    "regressor.fit(Xs_tr, y_tr)\n",
    "\n",
    "y_pred2 = regressor.predict(Xs_ts)\n",
    "mse_dtr = mean_squared_error(y_ts, y_pred2)\n",
    "%store mse_dtr"
   ]
  },
  {
   "cell_type": "markdown",
   "metadata": {
    "collapsed": true
   },
   "source": [
    "___\n",
    "## D. PROCESSO E ESTATÍSTICAS DE VALIDAÇÃO"
   ]
  },
  {
   "cell_type": "markdown",
   "metadata": {},
   "source": [
    "Descrição do processo de construção dos dados e a validação estão no arquivo Comentários.ipynb, assim como a conclusão."
   ]
  },
  {
   "cell_type": "markdown",
   "metadata": {},
   "source": [
    "___\n",
    "## F. REFERÊNCIAS BIBLIOGRÁFICAS"
   ]
  },
  {
   "cell_type": "code",
   "execution_count": null,
   "metadata": {},
   "outputs": [],
   "source": []
  }
 ],
 "metadata": {
  "anaconda-cloud": {},
  "kernelspec": {
   "display_name": "Python 3",
   "language": "python",
   "name": "python3"
  },
  "language_info": {
   "codemirror_mode": {
    "name": "ipython",
    "version": 3
   },
   "file_extension": ".py",
   "mimetype": "text/x-python",
   "name": "python",
   "nbconvert_exporter": "python",
   "pygments_lexer": "ipython3",
   "version": "3.7.1"
  }
 },
 "nbformat": 4,
 "nbformat_minor": 1
}
