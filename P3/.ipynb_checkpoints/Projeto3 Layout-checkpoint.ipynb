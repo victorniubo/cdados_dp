{
 "cells": [
  {
   "cell_type": "markdown",
   "metadata": {},
   "source": [
    "___\n",
    "## Ciência dos Dados - PROJETO 3 - INSPER"
   ]
  },
  {
   "cell_type": "markdown",
   "metadata": {},
   "source": [
    "___\n",
    "#### Victor Arruda Niubó\n",
    "\n",
    "#### Giovanni Pertence Cardoso dos Santos\n",
    "\n",
    "#### Gustavo Schlieper Tessitore\n",
    "\n",
    "#### Leonardo Cesari Costa\n",
    "___"
   ]
  },
  {
   "cell_type": "markdown",
   "metadata": {},
   "source": [
    "# Previsão da quantidade de views"
   ]
  },
  {
   "cell_type": "markdown",
   "metadata": {},
   "source": [
    "___\n",
    "\n",
    "## 1. INTRODUÇÃO"
   ]
  },
  {
   "cell_type": "markdown",
   "metadata": {},
   "source": [
    "O objetivo do projeto é estimar a quantidade de visualizações que um vídeo terá com base no título, horário de publicação e as tags atribuidas aos vídeos."
   ]
  },
  {
   "cell_type": "markdown",
   "metadata": {},
   "source": [
    "___\n",
    "## 2. MINERANDO DADOS e CARACTERÍSTICAS DO DATASET"
   ]
  },
  {
   "cell_type": "markdown",
   "metadata": {},
   "source": [
    " "
   ]
  },
  {
   "cell_type": "code",
   "execution_count": 19,
   "metadata": {},
   "outputs": [],
   "source": [
    "import matplotlib.pyplot as plt\n",
    "import pandas as pd\n",
    "import numpy as np\n",
    "import scipy.stats\n",
    "import itertools\n",
    "import math\n",
    "import json\n",
    "import os\n",
    "from scipy import stats\n",
    "from scipy.stats import norm"
   ]
  },
  {
   "cell_type": "code",
   "execution_count": 20,
   "metadata": {
    "scrolled": true
   },
   "outputs": [
    {
     "name": "stdout",
     "output_type": "stream",
     "text": [
      "Esperamos trabalhar no diretório\n",
      "/Users/giovannid.santos/Documents/Insper/3_Semestre/CDADOS-DP/cdados_dp/P3\n"
     ]
    }
   ],
   "source": [
    "#remove mesagens de aviso do Pandas\n",
    "pd.options.mode.chained_assignment = None\n",
    "print('Esperamos trabalhar no diretório')\n",
    "print(os.getcwd())"
   ]
  },
  {
   "cell_type": "markdown",
   "metadata": {},
   "source": [
    "### BASE DE DADOS"
   ]
  },
  {
   "cell_type": "code",
   "execution_count": 21,
   "metadata": {
    "scrolled": true
   },
   "outputs": [],
   "source": [
    "# Base de dados dos videos em destaque do youtube US\n",
    "you_data = pd.read_csv(\"USvideos.csv\")\n",
    "\n",
    "you_data.drop_duplicates(subset = 'video_id', keep = 'last', inplace = True)\n",
    "\n",
    "# jason que contém a relação id - categoria\n",
    "ids = json.loads(open('US_category_id.json').read())\n",
    "\n",
    "\n",
    "# filtro das variáveis de interesse\n",
    "you_analysis = you_data.loc[you_data.views|you_data.title|you_data.tags|you_data.category_id,\\\n",
    "                           ['views', 'title', 'tags', 'category_id']]\n"
   ]
  },
  {
   "cell_type": "code",
   "execution_count": 22,
   "metadata": {
    "scrolled": true
   },
   "outputs": [],
   "source": [
    "# separação da string das tags em uma lista de strings\n",
    "tags_split = you_analysis.tags.str.split(pat = '|')\n",
    "you_analysis['tags_split'] = tags_split\n",
    "you_analysis.head()\n",
    "you_ifn = you_analysis.copy()"
   ]
  },
  {
   "cell_type": "code",
   "execution_count": 23,
   "metadata": {},
   "outputs": [],
   "source": [
    "# Junta todas as strings em uma lista só para pder fazer um value_counts() e criar um\n",
    "# dataframe com as tags e as frquencias de cada uma\n",
    "merged = list(itertools.chain(*you_analysis.tags_split))\n",
    "contador = pd.DataFrame({'col':merged})\n",
    "limpino = contador[contador.col != '[none]']\n",
    "dfl = limpino.col.value_counts().rename_axis('tags').reset_index(name='counts')\n",
    "dfl = dfl[(dfl['counts'])> 10]"
   ]
  },
  {
   "cell_type": "code",
   "execution_count": 44,
   "metadata": {},
   "outputs": [
    {
     "name": "stdout",
     "output_type": "stream",
     "text": [
      "Stored 'dfl' (DataFrame)\n"
     ]
    }
   ],
   "source": [
    "%store dfl"
   ]
  },
  {
   "cell_type": "code",
   "execution_count": 35,
   "metadata": {
    "scrolled": false
   },
   "outputs": [
    {
     "name": "stderr",
     "output_type": "stream",
     "text": [
      "/Library/Frameworks/Python.framework/Versions/3.7/lib/python3.7/site-packages/ipykernel_launcher.py:4: UserWarning: This pattern has match groups. To actually get the groups, use str.extract.\n",
      "  after removing the cwd from sys.path.\n"
     ]
    }
   ],
   "source": [
    "# Separa as linhas que contém certa tag\n",
    "\n",
    "for e in range(len(dfl.tags)):\n",
    "    var_df = you_analysis[you_analysis['tags'].str.contains(dfl.tags[e])]\n",
    "    x = list(var_df.index)\n",
    "    you_analysis[dfl.tags[e]+'_freq'] = 0\n",
    "    you_analysis.loc[x,[dfl.tags[e]+'_freq']] = {dfl.counts[e]:1}"
   ]
  },
  {
   "cell_type": "code",
   "execution_count": 36,
   "metadata": {},
   "outputs": [
    {
     "data": {
      "image/png": "[encoded data removed]",
      "text/plain": [
       "<Figure size 432x288 with 1 Axes>"
      ]
     },
     "metadata": {
      "needs_background": "light"
     },
     "output_type": "display_data"
    }
   ],
   "source": [
    "# Cria dataframe das views e frequência máxima\n",
    "banana = pd.DataFrame()\n",
    "banana['views'] = you_analysis['views']\n",
    "banana['max_freq'] = you_analysis.iloc[:,5:].max(axis=1)\n",
    "\n",
    "# Plota scatter \n",
    "ax = plt.gca()\n",
    "ax.scatter(banana.max_freq, banana.views)\n",
    "ax.set_yscale('log')"
   ]
  },
  {
   "cell_type": "code",
   "execution_count": 37,
   "metadata": {},
   "outputs": [],
   "source": [
    "# Transpose no dataframe para poder usar .nlargest()\n",
    "trans = you_analysis.iloc[:,5:].transpose()"
   ]
  },
  {
   "cell_type": "code",
   "execution_count": 45,
   "metadata": {
    "scrolled": true
   },
   "outputs": [
    {
     "name": "stdout",
     "output_type": "stream",
     "text": [
      "Stored 'trans' (DataFrame)\n"
     ]
    }
   ],
   "source": [
    "#trans.rename(index=str, columns={e: \"vid_{0}\".format(e)})\n",
    "%store trans"
   ]
  },
  {
   "cell_type": "code",
   "execution_count": 39,
   "metadata": {},
   "outputs": [],
   "source": [
    "# Cria dicionário com chave de index e valor com top 3 frequências\n",
    "ind = list(you_analysis.iloc[:,5:].index)\n",
    "dic = {}\n",
    "for e in ind:\n",
    "    dic[e]= trans.nlargest(3,e)[e].sum()\n"
   ]
  },
  {
   "cell_type": "code",
   "execution_count": 46,
   "metadata": {},
   "outputs": [
    {
     "name": "stdout",
     "output_type": "stream",
     "text": [
      "Stored 'you_ifn' (DataFrame)\n"
     ]
    }
   ],
   "source": [
    "you_ifn['top3_freq']=list(dic.values())\n",
    "%store you_ifn"
   ]
  },
  {
   "cell_type": "code",
   "execution_count": 41,
   "metadata": {},
   "outputs": [],
   "source": [
    "ax.scatter(you_ifn.top3_freq, you_ifn.views)\n",
    "ax.set_yscale('log')"
   ]
  },
  {
   "cell_type": "code",
   "execution_count": 42,
   "metadata": {
    "scrolled": true
   },
   "outputs": [
    {
     "data": {
      "image/png": "[encoded data removed]",
      "text/plain": [
       "<Figure size 432x288 with 1 Axes>"
      ]
     },
     "metadata": {
      "needs_background": "light"
     },
     "output_type": "display_data"
    }
   ],
   "source": [
    "#LEMBRANDO\n",
    "x = you_ifn.top3_freq\n",
    "y = you_ifn.views\n",
    "\n",
    "#beta^0 e beta^1\n",
    "yb = y.mean()\n",
    "xb = x.mean()\n",
    "\n",
    "Sxy = ((x -xb)*(y -yb)).sum()\n",
    "Sxx = ((x -xb)**2).sum()\n",
    "\n",
    "b1 = Sxy/Sxx\n",
    "b0 = yb - b1*xb\n",
    "\n",
    "x_v = np.linspace(x.min(), x.max(), 500)\n",
    "y_v = b0 + b1*x_v\n",
    "\n",
    "plt.plot(x_v,y_v, color=\"r\") # resultados da regressão\n",
    "plt.scatter(x, y); # dados\n",
    "plt.gca().set_yscale('log')\n"
   ]
  },
  {
   "cell_type": "code",
   "execution_count": 43,
   "metadata": {},
   "outputs": [
    {
     "data": {
      "image/png": "[encoded data removed]",
      "text/plain": [
       "<Figure size 432x288 with 1 Axes>"
      ]
     },
     "metadata": {
      "needs_background": "light"
     },
     "output_type": "display_data"
    }
   ],
   "source": [
    "e = y - (b0 + b1*x) # Escreva sua fórmula dos resíduos aqui\n",
    "\n",
    "stats.probplot(e, dist='norm', plot=plt);\n"
   ]
  },
  {
   "cell_type": "markdown",
   "metadata": {},
   "source": [
    "### ANÁLISE DESCRITIVA"
   ]
  },
  {
   "cell_type": "code",
   "execution_count": null,
   "metadata": {},
   "outputs": [],
   "source": []
  },
  {
   "cell_type": "markdown",
   "metadata": {},
   "source": [
    "___\n",
    "## C. MODELOS DE PREDIÇÃO"
   ]
  },
  {
   "cell_type": "code",
   "execution_count": null,
   "metadata": {},
   "outputs": [],
   "source": [
    "new_data = pd.DataFrame()\n",
    "new_data['views'] = you_analysis['views']\n",
    "new_data['top3_freq'] = you_ifn['top3_freq']\n"
   ]
  },
  {
   "cell_type": "markdown",
   "metadata": {
    "collapsed": true
   },
   "source": [
    "o MODELO DE PREDIÇÃO PELA MÉDIA (Sem uso de variável explicativa)."
   ]
  },
  {
   "cell_type": "code",
   "execution_count": null,
   "metadata": {},
   "outputs": [],
   "source": []
  },
  {
   "cell_type": "markdown",
   "metadata": {
    "collapsed": true
   },
   "source": [
    "o MODELO DOS K VIZINHOS MAIS PRÓXIMOS (K-Nearest Neighbors Regression)"
   ]
  },
  {
   "cell_type": "code",
   "execution_count": null,
   "metadata": {},
   "outputs": [],
   "source": []
  },
  {
   "cell_type": "markdown",
   "metadata": {
    "collapsed": true
   },
   "source": [
    "o MODELO DE REGRESSÃO LINEAR (Multiple Linear Regression)"
   ]
  },
  {
   "cell_type": "code",
   "execution_count": null,
   "metadata": {},
   "outputs": [],
   "source": []
  },
  {
   "cell_type": "markdown",
   "metadata": {
    "collapsed": true
   },
   "source": [
    "o MODELO DE ÁRVORES DE REGRESSÃO (Decision Tree Regression)"
   ]
  },
  {
   "cell_type": "code",
   "execution_count": null,
   "metadata": {},
   "outputs": [],
   "source": []
  },
  {
   "cell_type": "markdown",
   "metadata": {
    "collapsed": true
   },
   "source": [
    "___\n",
    "## D. PROCESSO E ESTATÍSTICAS DE VALIDAÇÃO"
   ]
  },
  {
   "cell_type": "markdown",
   "metadata": {},
   "source": [
    "[Esse item depende dos resultados das modelagens anteriores! Organize-os aqui de forma clara!]"
   ]
  },
  {
   "cell_type": "code",
   "execution_count": null,
   "metadata": {},
   "outputs": [],
   "source": []
  },
  {
   "cell_type": "markdown",
   "metadata": {},
   "source": [
    "___\n",
    "## E. CONCLUSÃO"
   ]
  },
  {
   "cell_type": "code",
   "execution_count": null,
   "metadata": {},
   "outputs": [],
   "source": []
  },
  {
   "cell_type": "markdown",
   "metadata": {},
   "source": [
    "___\n",
    "## F. REFERÊNCIAS BIBLIOGRÁFICAS"
   ]
  },
  {
   "cell_type": "code",
   "execution_count": null,
   "metadata": {},
   "outputs": [],
   "source": []
  }
 ],
 "metadata": {
  "anaconda-cloud": {},
  "kernelspec": {
   "display_name": "Python 3",
   "language": "python",
   "name": "python3"
  },
  "language_info": {
   "codemirror_mode": {
    "name": "ipython",
    "version": 3
   },
   "file_extension": ".py",
   "mimetype": "text/x-python",
   "name": "python",
   "nbconvert_exporter": "python",
   "pygments_lexer": "ipython3",
   "version": "3.7.1"
  }
 },
 "nbformat": 4,
 "nbformat_minor": 1
}
