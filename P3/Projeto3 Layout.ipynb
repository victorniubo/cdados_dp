{
 "cells": [
  {
   "cell_type": "markdown",
   "metadata": {},
   "source": [
    "___\n",
    "## Ciência dos Dados - PROJETO 3 - INSPER"
   ]
  },
  {
   "cell_type": "markdown",
   "metadata": {},
   "source": [
    "___\n",
    "#### Victor Arruda Niubó\n",
    "\n",
    "#### Giovanni Pertence Cardoso dos Santos\n",
    "\n",
    "#### Gustavo Schlieper Tessitore\n",
    "\n",
    "#### Leonardo Cesari Costa\n",
    "___"
   ]
  },
  {
   "cell_type": "markdown",
   "metadata": {},
   "source": [
    "# Previsão da quantidade de views"
   ]
  },
  {
   "cell_type": "markdown",
   "metadata": {},
   "source": [
    "___\n",
    "\n",
    "## 1. INTRODUÇÃO"
   ]
  },
  {
   "cell_type": "markdown",
   "metadata": {},
   "source": [
    "O objetivo do projeto é estimar a quantidade de visualizações que um vídeo terá com base no título, horário de publicação e as tags atribuidas aos vídeos."
   ]
  },
  {
   "cell_type": "markdown",
   "metadata": {},
   "source": [
    "___\n",
    "## 2. MINERANDO DADOS e CARACTERÍSTICAS DO DATASET"
   ]
  },
  {
   "cell_type": "markdown",
   "metadata": {},
   "source": [
    " "
   ]
  },
  {
   "cell_type": "code",
   "execution_count": 98,
   "metadata": {},
   "outputs": [],
   "source": [
    "import matplotlib.pyplot as plt\n",
    "import pandas as pd\n",
    "import numpy as np\n",
    "import scipy.stats\n",
    "import itertools\n",
    "import math\n",
    "import json\n",
    "import os\n",
    "from scipy import stats\n",
    "from scipy.stats import norm"
   ]
  },
  {
   "cell_type": "code",
   "execution_count": 33,
   "metadata": {
    "scrolled": true
   },
   "outputs": [
    {
     "name": "stdout",
     "output_type": "stream",
     "text": [
      "Esperamos trabalhar no diretório\n",
      "/Users/giovannid.santos/Documents/Insper/3_Semestre/CDADOS-DP/cdados_dp/P3\n"
     ]
    }
   ],
   "source": [
    "#remove mesagens de aviso do Pandas\n",
    "pd.options.mode.chained_assignment = None\n",
    "print('Esperamos trabalhar no diretório')\n",
    "print(os.getcwd())"
   ]
  },
  {
   "cell_type": "markdown",
   "metadata": {},
   "source": [
    "### BASE DE DADOS"
   ]
  },
  {
   "cell_type": "code",
   "execution_count": 34,
   "metadata": {
    "scrolled": true
   },
   "outputs": [],
   "source": [
    "# Base de dados dos videos em destaque do youtube US\n",
    "you_data = pd.read_csv(\"USvideos.csv\")\n",
    "\n",
    "you_data.drop_duplicates(subset = 'video_id', keep = 'last', inplace = True)\n",
    "\n",
    "# jason que contém a relação id - categoria\n",
    "ids = json.loads(open('US_category_id.json').read())\n",
    "\n",
    "\n",
    "# filtro das variáveis de interesse\n",
    "you_analysis = you_data.loc[you_data.views|you_data.title|you_data.tags|you_data.category_id,\\\n",
    "                           ['views', 'title', 'tags', 'category_id']]\n"
   ]
  },
  {
   "cell_type": "code",
   "execution_count": 35,
   "metadata": {
    "scrolled": true
   },
   "outputs": [],
   "source": [
    "# separação da string das tags em uma lista de strings\n",
    "tags_split = you_analysis.tags.str.split(pat = '|')\n",
    "you_analysis['tags_split'] = tags_split\n",
    "you_analysis.head()\n",
    "you_ifn = you_analysis.copy()"
   ]
  },
  {
   "cell_type": "code",
   "execution_count": 36,
   "metadata": {},
   "outputs": [],
   "source": [
    "# Junta todas as strings em uma lista só para pder fazer um value_counts() e criar um\n",
    "# dataframe com as tags e as frquencias de cada uma\n",
    "merged = list(itertools.chain(*you_analysis.tags_split))\n",
    "contador = pd.DataFrame({'col':merged})\n",
    "limpino = contador[contador.col != '[none]']\n",
    "dfl = limpino.col.value_counts().rename_axis('tags').reset_index(name='counts')\n",
    "dfl = dfl[(dfl['counts'])> 10]"
   ]
  },
  {
   "cell_type": "code",
   "execution_count": 114,
   "metadata": {},
   "outputs": [
    {
     "data": {
      "text/html": [
       "<div>\n",
       "<style scoped>\n",
       "    .dataframe tbody tr th:only-of-type {\n",
       "        vertical-align: middle;\n",
       "    }\n",
       "\n",
       "    .dataframe tbody tr th {\n",
       "        vertical-align: top;\n",
       "    }\n",
       "\n",
       "    .dataframe thead th {\n",
       "        text-align: right;\n",
       "    }\n",
       "</style>\n",
       "<table border=\"1\" class=\"dataframe\">\n",
       "  <thead>\n",
       "    <tr style=\"text-align: right;\">\n",
       "      <th></th>\n",
       "      <th>tags</th>\n",
       "      <th>counts</th>\n",
       "    </tr>\n",
       "  </thead>\n",
       "  <tbody>\n",
       "    <tr>\n",
       "      <th>0</th>\n",
       "      <td>funny</td>\n",
       "      <td>631</td>\n",
       "    </tr>\n",
       "    <tr>\n",
       "      <th>1</th>\n",
       "      <td>comedy</td>\n",
       "      <td>515</td>\n",
       "    </tr>\n",
       "    <tr>\n",
       "      <th>2</th>\n",
       "      <td>humor</td>\n",
       "      <td>277</td>\n",
       "    </tr>\n",
       "    <tr>\n",
       "      <th>3</th>\n",
       "      <td>comedian</td>\n",
       "      <td>227</td>\n",
       "    </tr>\n",
       "    <tr>\n",
       "      <th>4</th>\n",
       "      <td>music</td>\n",
       "      <td>213</td>\n",
       "    </tr>\n",
       "    <tr>\n",
       "      <th>5</th>\n",
       "      <td>celebrities</td>\n",
       "      <td>212</td>\n",
       "    </tr>\n",
       "    <tr>\n",
       "      <th>6</th>\n",
       "      <td>interview</td>\n",
       "      <td>203</td>\n",
       "    </tr>\n",
       "  </tbody>\n",
       "</table>\n",
       "</div>"
      ],
      "text/plain": [
       "          tags  counts\n",
       "0        funny     631\n",
       "1       comedy     515\n",
       "2        humor     277\n",
       "3     comedian     227\n",
       "4        music     213\n",
       "5  celebrities     212\n",
       "6    interview     203"
      ]
     },
     "execution_count": 114,
     "metadata": {},
     "output_type": "execute_result"
    }
   ],
   "source": [
    "dfl.head(7)"
   ]
  },
  {
   "cell_type": "code",
   "execution_count": 38,
   "metadata": {
    "scrolled": false
   },
   "outputs": [
    {
     "name": "stderr",
     "output_type": "stream",
     "text": [
      "/Library/Frameworks/Python.framework/Versions/3.7/lib/python3.7/site-packages/ipykernel_launcher.py:17: UserWarning: This pattern has match groups. To actually get the groups, use str.extract.\n"
     ]
    }
   ],
   "source": [
    "# Separa as linhas que contém certa tag\n",
    "\n",
    "for e in range(len(dfl.tags)):\n",
    "    var_df = you_analysis[you_analysis['tags'].str.contains(dfl.tags[e])]\n",
    "    x = list(var_df.index)\n",
    "    you_analysis[dfl.tags[e]+'_freq'] = 0\n",
    "    you_analysis.loc[x,[dfl.tags[e]+'_freq']] = dfl.counts[e]"
   ]
  },
  {
   "cell_type": "code",
   "execution_count": 118,
   "metadata": {},
   "outputs": [
    {
     "data": {
      "image/png": "[encoded data removed]",
      "text/plain": [
       "<Figure size 432x288 with 1 Axes>"
      ]
     },
     "metadata": {
      "needs_background": "light"
     },
     "output_type": "display_data"
    }
   ],
   "source": [
    "# Cria dataframe das views e frequência máxima\n",
    "banana = pd.DataFrame()\n",
    "banana['views'] = you_analysis['views']\n",
    "banana['max_freq'] = you_analysis.iloc[:,5:].max(axis=1)\n",
    "\n",
    "# Plota scatter \n",
    "ax = plt.gca()\n",
    "ax.scatter(banana.max_freq, banana.views)\n",
    "ax.set_yscale('log')"
   ]
  },
  {
   "cell_type": "code",
   "execution_count": 67,
   "metadata": {},
   "outputs": [],
   "source": [
    "# Transpose no dataframe para poder usar .nlargest()\n",
    "trans = you_analysis.iloc[:,5:].transpose()"
   ]
  },
  {
   "cell_type": "code",
   "execution_count": 115,
   "metadata": {
    "scrolled": true
   },
   "outputs": [
    {
     "data": {
      "text/html": [
       "<div>\n",
       "<style scoped>\n",
       "    .dataframe tbody tr th:only-of-type {\n",
       "        vertical-align: middle;\n",
       "    }\n",
       "\n",
       "    .dataframe tbody tr th {\n",
       "        vertical-align: top;\n",
       "    }\n",
       "\n",
       "    .dataframe thead th {\n",
       "        text-align: right;\n",
       "    }\n",
       "</style>\n",
       "<table border=\"1\" class=\"dataframe\">\n",
       "  <thead>\n",
       "    <tr style=\"text-align: right;\">\n",
       "      <th></th>\n",
       "      <th>10</th>\n",
       "      <th>36</th>\n",
       "      <th>41</th>\n",
       "      <th>55</th>\n",
       "      <th>76</th>\n",
       "      <th>78</th>\n",
       "      <th>102</th>\n",
       "      <th>104</th>\n",
       "      <th>106</th>\n",
       "      <th>117</th>\n",
       "      <th>...</th>\n",
       "      <th>40939</th>\n",
       "      <th>40940</th>\n",
       "      <th>40941</th>\n",
       "      <th>40942</th>\n",
       "      <th>40943</th>\n",
       "      <th>40944</th>\n",
       "      <th>40945</th>\n",
       "      <th>40946</th>\n",
       "      <th>40947</th>\n",
       "      <th>40948</th>\n",
       "    </tr>\n",
       "  </thead>\n",
       "  <tbody>\n",
       "    <tr>\n",
       "      <th>funny_freq</th>\n",
       "      <td>0</td>\n",
       "      <td>0</td>\n",
       "      <td>0</td>\n",
       "      <td>0</td>\n",
       "      <td>0</td>\n",
       "      <td>0</td>\n",
       "      <td>0</td>\n",
       "      <td>0</td>\n",
       "      <td>0</td>\n",
       "      <td>0</td>\n",
       "      <td>...</td>\n",
       "      <td>0</td>\n",
       "      <td>0</td>\n",
       "      <td>0</td>\n",
       "      <td>0</td>\n",
       "      <td>0</td>\n",
       "      <td>0</td>\n",
       "      <td>0</td>\n",
       "      <td>0</td>\n",
       "      <td>0</td>\n",
       "      <td>0</td>\n",
       "    </tr>\n",
       "    <tr>\n",
       "      <th>comedy_freq</th>\n",
       "      <td>0</td>\n",
       "      <td>0</td>\n",
       "      <td>0</td>\n",
       "      <td>0</td>\n",
       "      <td>0</td>\n",
       "      <td>0</td>\n",
       "      <td>515</td>\n",
       "      <td>0</td>\n",
       "      <td>0</td>\n",
       "      <td>0</td>\n",
       "      <td>...</td>\n",
       "      <td>0</td>\n",
       "      <td>0</td>\n",
       "      <td>0</td>\n",
       "      <td>0</td>\n",
       "      <td>0</td>\n",
       "      <td>0</td>\n",
       "      <td>0</td>\n",
       "      <td>0</td>\n",
       "      <td>515</td>\n",
       "      <td>0</td>\n",
       "    </tr>\n",
       "    <tr>\n",
       "      <th>humor_freq</th>\n",
       "      <td>0</td>\n",
       "      <td>0</td>\n",
       "      <td>0</td>\n",
       "      <td>0</td>\n",
       "      <td>0</td>\n",
       "      <td>277</td>\n",
       "      <td>277</td>\n",
       "      <td>0</td>\n",
       "      <td>0</td>\n",
       "      <td>0</td>\n",
       "      <td>...</td>\n",
       "      <td>0</td>\n",
       "      <td>0</td>\n",
       "      <td>0</td>\n",
       "      <td>0</td>\n",
       "      <td>0</td>\n",
       "      <td>0</td>\n",
       "      <td>0</td>\n",
       "      <td>0</td>\n",
       "      <td>0</td>\n",
       "      <td>0</td>\n",
       "    </tr>\n",
       "    <tr>\n",
       "      <th>comedian_freq</th>\n",
       "      <td>0</td>\n",
       "      <td>0</td>\n",
       "      <td>0</td>\n",
       "      <td>0</td>\n",
       "      <td>0</td>\n",
       "      <td>227</td>\n",
       "      <td>0</td>\n",
       "      <td>0</td>\n",
       "      <td>0</td>\n",
       "      <td>0</td>\n",
       "      <td>...</td>\n",
       "      <td>0</td>\n",
       "      <td>0</td>\n",
       "      <td>0</td>\n",
       "      <td>0</td>\n",
       "      <td>0</td>\n",
       "      <td>0</td>\n",
       "      <td>0</td>\n",
       "      <td>0</td>\n",
       "      <td>0</td>\n",
       "      <td>0</td>\n",
       "    </tr>\n",
       "    <tr>\n",
       "      <th>music_freq</th>\n",
       "      <td>0</td>\n",
       "      <td>0</td>\n",
       "      <td>0</td>\n",
       "      <td>0</td>\n",
       "      <td>0</td>\n",
       "      <td>0</td>\n",
       "      <td>0</td>\n",
       "      <td>0</td>\n",
       "      <td>0</td>\n",
       "      <td>0</td>\n",
       "      <td>...</td>\n",
       "      <td>0</td>\n",
       "      <td>0</td>\n",
       "      <td>213</td>\n",
       "      <td>0</td>\n",
       "      <td>213</td>\n",
       "      <td>0</td>\n",
       "      <td>0</td>\n",
       "      <td>0</td>\n",
       "      <td>0</td>\n",
       "      <td>0</td>\n",
       "    </tr>\n",
       "    <tr>\n",
       "      <th>celebrities_freq</th>\n",
       "      <td>0</td>\n",
       "      <td>0</td>\n",
       "      <td>0</td>\n",
       "      <td>0</td>\n",
       "      <td>0</td>\n",
       "      <td>212</td>\n",
       "      <td>0</td>\n",
       "      <td>0</td>\n",
       "      <td>0</td>\n",
       "      <td>0</td>\n",
       "      <td>...</td>\n",
       "      <td>0</td>\n",
       "      <td>0</td>\n",
       "      <td>0</td>\n",
       "      <td>0</td>\n",
       "      <td>212</td>\n",
       "      <td>0</td>\n",
       "      <td>0</td>\n",
       "      <td>0</td>\n",
       "      <td>0</td>\n",
       "      <td>0</td>\n",
       "    </tr>\n",
       "    <tr>\n",
       "      <th>interview_freq</th>\n",
       "      <td>0</td>\n",
       "      <td>0</td>\n",
       "      <td>0</td>\n",
       "      <td>0</td>\n",
       "      <td>0</td>\n",
       "      <td>0</td>\n",
       "      <td>0</td>\n",
       "      <td>0</td>\n",
       "      <td>0</td>\n",
       "      <td>203</td>\n",
       "      <td>...</td>\n",
       "      <td>0</td>\n",
       "      <td>0</td>\n",
       "      <td>0</td>\n",
       "      <td>0</td>\n",
       "      <td>0</td>\n",
       "      <td>0</td>\n",
       "      <td>0</td>\n",
       "      <td>0</td>\n",
       "      <td>0</td>\n",
       "      <td>0</td>\n",
       "    </tr>\n",
       "  </tbody>\n",
       "</table>\n",
       "<p>7 rows × 6282 columns</p>\n",
       "</div>"
      ],
      "text/plain": [
       "                  10     36     41     55     76     78     102    104    \\\n",
       "funny_freq            0      0      0      0      0      0      0      0   \n",
       "comedy_freq           0      0      0      0      0      0    515      0   \n",
       "humor_freq            0      0      0      0      0    277    277      0   \n",
       "comedian_freq         0      0      0      0      0    227      0      0   \n",
       "music_freq            0      0      0      0      0      0      0      0   \n",
       "celebrities_freq      0      0      0      0      0    212      0      0   \n",
       "interview_freq        0      0      0      0      0      0      0      0   \n",
       "\n",
       "                  106    117    ...    40939  40940  40941  40942  40943  \\\n",
       "funny_freq            0      0  ...        0      0      0      0      0   \n",
       "comedy_freq           0      0  ...        0      0      0      0      0   \n",
       "humor_freq            0      0  ...        0      0      0      0      0   \n",
       "comedian_freq         0      0  ...        0      0      0      0      0   \n",
       "music_freq            0      0  ...        0      0    213      0    213   \n",
       "celebrities_freq      0      0  ...        0      0      0      0    212   \n",
       "interview_freq        0    203  ...        0      0      0      0      0   \n",
       "\n",
       "                  40944  40945  40946  40947  40948  \n",
       "funny_freq            0      0      0      0      0  \n",
       "comedy_freq           0      0      0    515      0  \n",
       "humor_freq            0      0      0      0      0  \n",
       "comedian_freq         0      0      0      0      0  \n",
       "music_freq            0      0      0      0      0  \n",
       "celebrities_freq      0      0      0      0      0  \n",
       "interview_freq        0      0      0      0      0  \n",
       "\n",
       "[7 rows x 6282 columns]"
      ]
     },
     "execution_count": 115,
     "metadata": {},
     "output_type": "execute_result"
    }
   ],
   "source": [
    "#trans.rename(index=str, columns={e: \"vid_{0}\".format(e)})\n",
    "trans.head(7)"
   ]
  },
  {
   "cell_type": "code",
   "execution_count": 82,
   "metadata": {},
   "outputs": [
    {
     "data": {
      "text/html": [
       "<div>\n",
       "<style scoped>\n",
       "    .dataframe tbody tr th:only-of-type {\n",
       "        vertical-align: middle;\n",
       "    }\n",
       "\n",
       "    .dataframe tbody tr th {\n",
       "        vertical-align: top;\n",
       "    }\n",
       "\n",
       "    .dataframe thead th {\n",
       "        text-align: right;\n",
       "    }\n",
       "</style>\n",
       "<table border=\"1\" class=\"dataframe\">\n",
       "  <thead>\n",
       "    <tr style=\"text-align: right;\">\n",
       "      <th></th>\n",
       "      <th>views</th>\n",
       "      <th>title</th>\n",
       "      <th>tags</th>\n",
       "      <th>category_id</th>\n",
       "      <th>tags_split</th>\n",
       "      <th>top freq</th>\n",
       "    </tr>\n",
       "  </thead>\n",
       "  <tbody>\n",
       "    <tr>\n",
       "      <th>10</th>\n",
       "      <td>81377</td>\n",
       "      <td>Dion Lewis' 103-Yd Kick Return TD vs. Denver! ...</td>\n",
       "      <td>NFL|Football|offense|defense|afc|nfc|American ...</td>\n",
       "      <td>17</td>\n",
       "      <td>[NFL, Football, offense, defense, afc, nfc, Am...</td>\n",
       "      <td>10</td>\n",
       "    </tr>\n",
       "    <tr>\n",
       "      <th>36</th>\n",
       "      <td>288922</td>\n",
       "      <td>TL;DW - Every DCEU Movie Before Justice League</td>\n",
       "      <td>screenjunkies|screen junkies|sj news|honest tr...</td>\n",
       "      <td>1</td>\n",
       "      <td>[screenjunkies, screen junkies, sj news, hones...</td>\n",
       "      <td>36</td>\n",
       "    </tr>\n",
       "    <tr>\n",
       "      <th>41</th>\n",
       "      <td>34785</td>\n",
       "      <td>Iraq-Iran earthquake: Deadly tremor hits borde...</td>\n",
       "      <td>bbc|bbc news|news|iran|iran news|iraq|iraq new...</td>\n",
       "      <td>25</td>\n",
       "      <td>[bbc, bbc news, news, iran, iran news, iraq, i...</td>\n",
       "      <td>41</td>\n",
       "    </tr>\n",
       "    <tr>\n",
       "      <th>55</th>\n",
       "      <td>1496225</td>\n",
       "      <td>Jason Momoa Wows Hugh Grant With Some Dothraki...</td>\n",
       "      <td>Graham Norton|Graham Norton Show Official|Ente...</td>\n",
       "      <td>24</td>\n",
       "      <td>[Graham Norton, Graham Norton Show Official, E...</td>\n",
       "      <td>55</td>\n",
       "    </tr>\n",
       "    <tr>\n",
       "      <th>76</th>\n",
       "      <td>237307</td>\n",
       "      <td>Mayo Clinic's first face transplant patient me...</td>\n",
       "      <td>Mayo Clinic|Health Care (Issue)|Healthcare Sci...</td>\n",
       "      <td>28</td>\n",
       "      <td>[Mayo Clinic, Health Care (Issue), Healthcare ...</td>\n",
       "      <td>76</td>\n",
       "    </tr>\n",
       "    <tr>\n",
       "      <th>78</th>\n",
       "      <td>1497519</td>\n",
       "      <td>Jason Momoa &amp; Lisa Bonet: Love at First Sight</td>\n",
       "      <td>James Corden|The Late Late Show|Colbert|late n...</td>\n",
       "      <td>24</td>\n",
       "      <td>[James Corden, The Late Late Show, Colbert, la...</td>\n",
       "      <td>78</td>\n",
       "    </tr>\n",
       "    <tr>\n",
       "      <th>102</th>\n",
       "      <td>225286</td>\n",
       "      <td>Mark Wahlberg's Kids Use Him for His Celeb Con...</td>\n",
       "      <td>Late Night|Seth Meyers|Mark Wahlberg|Kids|Cele...</td>\n",
       "      <td>23</td>\n",
       "      <td>[Late Night, Seth Meyers, Mark Wahlberg, Kids,...</td>\n",
       "      <td>102</td>\n",
       "    </tr>\n",
       "    <tr>\n",
       "      <th>104</th>\n",
       "      <td>5476737</td>\n",
       "      <td>Camila Cabello - Havana (Vertical Video) ft. Y...</td>\n",
       "      <td>camila cabello|camila|young thug|havana|fifth ...</td>\n",
       "      <td>10</td>\n",
       "      <td>[camila cabello, camila, young thug, havana, f...</td>\n",
       "      <td>104</td>\n",
       "    </tr>\n",
       "    <tr>\n",
       "      <th>106</th>\n",
       "      <td>304926</td>\n",
       "      <td>Owen Wilson on Meeting Julia Roberts, and Tand...</td>\n",
       "      <td>owen wilson|owen|wilson|julia roberts|tandem b...</td>\n",
       "      <td>24</td>\n",
       "      <td>[owen wilson, owen, wilson, julia roberts, tan...</td>\n",
       "      <td>106</td>\n",
       "    </tr>\n",
       "    <tr>\n",
       "      <th>117</th>\n",
       "      <td>1017803</td>\n",
       "      <td>Meryl Streep Meets Anna Wintour at Vogue</td>\n",
       "      <td>anna wintour|meryl streep|meryl streep intervi...</td>\n",
       "      <td>24</td>\n",
       "      <td>[anna wintour, meryl streep, meryl streep inte...</td>\n",
       "      <td>117</td>\n",
       "    </tr>\n",
       "  </tbody>\n",
       "</table>\n",
       "</div>"
      ],
      "text/plain": [
       "       views                                              title  \\\n",
       "10     81377  Dion Lewis' 103-Yd Kick Return TD vs. Denver! ...   \n",
       "36    288922     TL;DW - Every DCEU Movie Before Justice League   \n",
       "41     34785  Iraq-Iran earthquake: Deadly tremor hits borde...   \n",
       "55   1496225  Jason Momoa Wows Hugh Grant With Some Dothraki...   \n",
       "76    237307  Mayo Clinic's first face transplant patient me...   \n",
       "78   1497519      Jason Momoa & Lisa Bonet: Love at First Sight   \n",
       "102   225286  Mark Wahlberg's Kids Use Him for His Celeb Con...   \n",
       "104  5476737  Camila Cabello - Havana (Vertical Video) ft. Y...   \n",
       "106   304926  Owen Wilson on Meeting Julia Roberts, and Tand...   \n",
       "117  1017803           Meryl Streep Meets Anna Wintour at Vogue   \n",
       "\n",
       "                                                  tags  category_id  \\\n",
       "10   NFL|Football|offense|defense|afc|nfc|American ...           17   \n",
       "36   screenjunkies|screen junkies|sj news|honest tr...            1   \n",
       "41   bbc|bbc news|news|iran|iran news|iraq|iraq new...           25   \n",
       "55   Graham Norton|Graham Norton Show Official|Ente...           24   \n",
       "76   Mayo Clinic|Health Care (Issue)|Healthcare Sci...           28   \n",
       "78   James Corden|The Late Late Show|Colbert|late n...           24   \n",
       "102  Late Night|Seth Meyers|Mark Wahlberg|Kids|Cele...           23   \n",
       "104  camila cabello|camila|young thug|havana|fifth ...           10   \n",
       "106  owen wilson|owen|wilson|julia roberts|tandem b...           24   \n",
       "117  anna wintour|meryl streep|meryl streep intervi...           24   \n",
       "\n",
       "                                            tags_split  top freq  \n",
       "10   [NFL, Football, offense, defense, afc, nfc, Am...        10  \n",
       "36   [screenjunkies, screen junkies, sj news, hones...        36  \n",
       "41   [bbc, bbc news, news, iran, iran news, iraq, i...        41  \n",
       "55   [Graham Norton, Graham Norton Show Official, E...        55  \n",
       "76   [Mayo Clinic, Health Care (Issue), Healthcare ...        76  \n",
       "78   [James Corden, The Late Late Show, Colbert, la...        78  \n",
       "102  [Late Night, Seth Meyers, Mark Wahlberg, Kids,...       102  \n",
       "104  [camila cabello, camila, young thug, havana, f...       104  \n",
       "106  [owen wilson, owen, wilson, julia roberts, tan...       106  \n",
       "117  [anna wintour, meryl streep, meryl streep inte...       117  "
      ]
     },
     "execution_count": 82,
     "metadata": {},
     "output_type": "execute_result"
    }
   ],
   "source": [
    "# Cria dicionário com chave de index e valor com top 3 frequências\n",
    "ind = list(you_analysis.iloc[:,5:].index)\n",
    "dic = {}\n",
    "for e in ind:\n",
    "    dic[e]= trans.nlargest(3,e)[e].sum()\n"
   ]
  },
  {
   "cell_type": "code",
   "execution_count": 116,
   "metadata": {},
   "outputs": [
    {
     "data": {
      "text/html": [
       "<div>\n",
       "<style scoped>\n",
       "    .dataframe tbody tr th:only-of-type {\n",
       "        vertical-align: middle;\n",
       "    }\n",
       "\n",
       "    .dataframe tbody tr th {\n",
       "        vertical-align: top;\n",
       "    }\n",
       "\n",
       "    .dataframe thead th {\n",
       "        text-align: right;\n",
       "    }\n",
       "</style>\n",
       "<table border=\"1\" class=\"dataframe\">\n",
       "  <thead>\n",
       "    <tr style=\"text-align: right;\">\n",
       "      <th></th>\n",
       "      <th>views</th>\n",
       "      <th>title</th>\n",
       "      <th>tags</th>\n",
       "      <th>category_id</th>\n",
       "      <th>tags_split</th>\n",
       "      <th>top freq</th>\n",
       "      <th>top3_freq</th>\n",
       "    </tr>\n",
       "  </thead>\n",
       "  <tbody>\n",
       "    <tr>\n",
       "      <th>10</th>\n",
       "      <td>81377</td>\n",
       "      <td>Dion Lewis' 103-Yd Kick Return TD vs. Denver! ...</td>\n",
       "      <td>NFL|Football|offense|defense|afc|nfc|American ...</td>\n",
       "      <td>17</td>\n",
       "      <td>[NFL, Football, offense, defense, afc, nfc, Am...</td>\n",
       "      <td>409</td>\n",
       "      <td>409</td>\n",
       "    </tr>\n",
       "    <tr>\n",
       "      <th>36</th>\n",
       "      <td>288922</td>\n",
       "      <td>TL;DW - Every DCEU Movie Before Justice League</td>\n",
       "      <td>screenjunkies|screen junkies|sj news|honest tr...</td>\n",
       "      <td>1</td>\n",
       "      <td>[screenjunkies, screen junkies, sj news, hones...</td>\n",
       "      <td>435</td>\n",
       "      <td>435</td>\n",
       "    </tr>\n",
       "    <tr>\n",
       "      <th>41</th>\n",
       "      <td>34785</td>\n",
       "      <td>Iraq-Iran earthquake: Deadly tremor hits borde...</td>\n",
       "      <td>bbc|bbc news|news|iran|iran news|iraq|iraq new...</td>\n",
       "      <td>25</td>\n",
       "      <td>[bbc, bbc news, news, iran, iran news, iraq, i...</td>\n",
       "      <td>309</td>\n",
       "      <td>309</td>\n",
       "    </tr>\n",
       "    <tr>\n",
       "      <th>55</th>\n",
       "      <td>1496225</td>\n",
       "      <td>Jason Momoa Wows Hugh Grant With Some Dothraki...</td>\n",
       "      <td>Graham Norton|Graham Norton Show Official|Ente...</td>\n",
       "      <td>24</td>\n",
       "      <td>[Graham Norton, Graham Norton Show Official, E...</td>\n",
       "      <td>347</td>\n",
       "      <td>347</td>\n",
       "    </tr>\n",
       "    <tr>\n",
       "      <th>76</th>\n",
       "      <td>237307</td>\n",
       "      <td>Mayo Clinic's first face transplant patient me...</td>\n",
       "      <td>Mayo Clinic|Health Care (Issue)|Healthcare Sci...</td>\n",
       "      <td>28</td>\n",
       "      <td>[Mayo Clinic, Health Care (Issue), Healthcare ...</td>\n",
       "      <td>69</td>\n",
       "      <td>69</td>\n",
       "    </tr>\n",
       "    <tr>\n",
       "      <th>78</th>\n",
       "      <td>1497519</td>\n",
       "      <td>Jason Momoa &amp; Lisa Bonet: Love at First Sight</td>\n",
       "      <td>James Corden|The Late Late Show|Colbert|late n...</td>\n",
       "      <td>24</td>\n",
       "      <td>[James Corden, The Late Late Show, Colbert, la...</td>\n",
       "      <td>716</td>\n",
       "      <td>716</td>\n",
       "    </tr>\n",
       "    <tr>\n",
       "      <th>102</th>\n",
       "      <td>225286</td>\n",
       "      <td>Mark Wahlberg's Kids Use Him for His Celeb Con...</td>\n",
       "      <td>Late Night|Seth Meyers|Mark Wahlberg|Kids|Cele...</td>\n",
       "      <td>23</td>\n",
       "      <td>[Late Night, Seth Meyers, Mark Wahlberg, Kids,...</td>\n",
       "      <td>969</td>\n",
       "      <td>969</td>\n",
       "    </tr>\n",
       "  </tbody>\n",
       "</table>\n",
       "</div>"
      ],
      "text/plain": [
       "       views                                              title  \\\n",
       "10     81377  Dion Lewis' 103-Yd Kick Return TD vs. Denver! ...   \n",
       "36    288922     TL;DW - Every DCEU Movie Before Justice League   \n",
       "41     34785  Iraq-Iran earthquake: Deadly tremor hits borde...   \n",
       "55   1496225  Jason Momoa Wows Hugh Grant With Some Dothraki...   \n",
       "76    237307  Mayo Clinic's first face transplant patient me...   \n",
       "78   1497519      Jason Momoa & Lisa Bonet: Love at First Sight   \n",
       "102   225286  Mark Wahlberg's Kids Use Him for His Celeb Con...   \n",
       "\n",
       "                                                  tags  category_id  \\\n",
       "10   NFL|Football|offense|defense|afc|nfc|American ...           17   \n",
       "36   screenjunkies|screen junkies|sj news|honest tr...            1   \n",
       "41   bbc|bbc news|news|iran|iran news|iraq|iraq new...           25   \n",
       "55   Graham Norton|Graham Norton Show Official|Ente...           24   \n",
       "76   Mayo Clinic|Health Care (Issue)|Healthcare Sci...           28   \n",
       "78   James Corden|The Late Late Show|Colbert|late n...           24   \n",
       "102  Late Night|Seth Meyers|Mark Wahlberg|Kids|Cele...           23   \n",
       "\n",
       "                                            tags_split  top freq  top3_freq  \n",
       "10   [NFL, Football, offense, defense, afc, nfc, Am...       409        409  \n",
       "36   [screenjunkies, screen junkies, sj news, hones...       435        435  \n",
       "41   [bbc, bbc news, news, iran, iran news, iraq, i...       309        309  \n",
       "55   [Graham Norton, Graham Norton Show Official, E...       347        347  \n",
       "76   [Mayo Clinic, Health Care (Issue), Healthcare ...        69         69  \n",
       "78   [James Corden, The Late Late Show, Colbert, la...       716        716  \n",
       "102  [Late Night, Seth Meyers, Mark Wahlberg, Kids,...       969        969  "
      ]
     },
     "execution_count": 116,
     "metadata": {},
     "output_type": "execute_result"
    }
   ],
   "source": [
    "you_ifn['top3_freq']=list(dic.values())\n",
    "you_ifn.head(7)"
   ]
  },
  {
   "cell_type": "code",
   "execution_count": 105,
   "metadata": {},
   "outputs": [
    {
     "data": {
      "image/png": "[encoded data removed]",
      "text/plain": [
       "<Figure size 432x288 with 1 Axes>"
      ]
     },
     "metadata": {
      "needs_background": "light"
     },
     "output_type": "display_data"
    }
   ],
   "source": [
    "ax.scatter(you_ifn.top3_freq, you_ifn.views)\n",
    "ax.set_yscale('log')"
   ]
  },
  {
   "cell_type": "code",
   "execution_count": 113,
   "metadata": {
    "scrolled": true
   },
   "outputs": [
    {
     "data": {
      "image/png": "[encoded data removed]",
      "text/plain": [
       "<Figure size 432x288 with 1 Axes>"
      ]
     },
     "metadata": {
      "needs_background": "light"
     },
     "output_type": "display_data"
    }
   ],
   "source": [
    "#LEMBRANDO\n",
    "x = you_ifn.top3_freq\n",
    "y = you_ifn.views\n",
    "\n",
    "#beta^0 e beta^1\n",
    "yb = y.mean()\n",
    "xb = x.mean()\n",
    "\n",
    "Sxy = ((x -xb)*(y -yb)).sum()\n",
    "Sxx = ((x -xb)**2).sum()\n",
    "\n",
    "b1 = Sxy/Sxx\n",
    "b0 = yb - b1*xb\n",
    "\n",
    "x_v = np.linspace(x.min(), x.max(), 500)\n",
    "y_v = b0 + b1*x_v\n",
    "\n",
    "plt.plot(x_v,y_v, color=\"r\") # resultados da regressão\n",
    "plt.scatter(x, y); # dados\n",
    "plt.gca().set_yscale('log')\n"
   ]
  },
  {
   "cell_type": "code",
   "execution_count": 101,
   "metadata": {},
   "outputs": [
    {
     "data": {
      "image/png": "[encoded data removed]",
      "text/plain": [
       "<Figure size 432x288 with 1 Axes>"
      ]
     },
     "metadata": {
      "needs_background": "light"
     },
     "output_type": "display_data"
    }
   ],
   "source": [
    "e = y - (b0 + b1*x) # Escreva sua fórmula dos resíduos aqui\n",
    "\n",
    "stats.probplot(e, dist='norm', plot=plt);\n"
   ]
  },
  {
   "cell_type": "markdown",
   "metadata": {},
   "source": [
    "### ANÁLISE DESCRITIVA"
   ]
  },
  {
   "cell_type": "code",
   "execution_count": null,
   "metadata": {},
   "outputs": [],
   "source": []
  },
  {
   "cell_type": "markdown",
   "metadata": {},
   "source": [
    "___\n",
    "## C. MODELOS DE PREDIÇÃO"
   ]
  },
  {
   "cell_type": "markdown",
   "metadata": {
    "collapsed": true
   },
   "source": [
    "o MODELO DE PREDIÇÃO PELA MÉDIA (Sem uso de variável explicativa)."
   ]
  },
  {
   "cell_type": "code",
   "execution_count": null,
   "metadata": {},
   "outputs": [],
   "source": []
  },
  {
   "cell_type": "markdown",
   "metadata": {
    "collapsed": true
   },
   "source": [
    "o MODELO DOS K VIZINHOS MAIS PRÓXIMOS (K-Nearest Neighbors Regression)"
   ]
  },
  {
   "cell_type": "code",
   "execution_count": null,
   "metadata": {},
   "outputs": [],
   "source": []
  },
  {
   "cell_type": "markdown",
   "metadata": {
    "collapsed": true
   },
   "source": [
    "o MODELO DE REGRESSÃO LINEAR (Multiple Linear Regression)"
   ]
  },
  {
   "cell_type": "code",
   "execution_count": null,
   "metadata": {},
   "outputs": [],
   "source": []
  },
  {
   "cell_type": "markdown",
   "metadata": {
    "collapsed": true
   },
   "source": [
    "o MODELO DE ÁRVORES DE REGRESSÃO (Decision Tree Regression)"
   ]
  },
  {
   "cell_type": "code",
   "execution_count": null,
   "metadata": {},
   "outputs": [],
   "source": []
  },
  {
   "cell_type": "markdown",
   "metadata": {
    "collapsed": true
   },
   "source": [
    "___\n",
    "## D. PROCESSO E ESTATÍSTICAS DE VALIDAÇÃO"
   ]
  },
  {
   "cell_type": "markdown",
   "metadata": {},
   "source": [
    "[Esse item depende dos resultados das modelagens anteriores! Organize-os aqui de forma clara!]"
   ]
  },
  {
   "cell_type": "code",
   "execution_count": null,
   "metadata": {},
   "outputs": [],
   "source": []
  },
  {
   "cell_type": "markdown",
   "metadata": {},
   "source": [
    "___\n",
    "## E. CONCLUSÃO"
   ]
  },
  {
   "cell_type": "code",
   "execution_count": null,
   "metadata": {},
   "outputs": [],
   "source": []
  },
  {
   "cell_type": "markdown",
   "metadata": {},
   "source": [
    "___\n",
    "## F. REFERÊNCIAS BIBLIOGRÁFICAS"
   ]
  },
  {
   "cell_type": "code",
   "execution_count": null,
   "metadata": {},
   "outputs": [],
   "source": []
  }
 ],
 "metadata": {
  "anaconda-cloud": {},
  "kernelspec": {
   "display_name": "Python 3",
   "language": "python",
   "name": "python3"
  },
  "language_info": {
   "codemirror_mode": {
    "name": "ipython",
    "version": 3
   },
   "file_extension": ".py",
   "mimetype": "text/x-python",
   "name": "python",
   "nbconvert_exporter": "python",
   "pygments_lexer": "ipython3",
   "version": "3.6.5"
  }
 },
 "nbformat": 4,
 "nbformat_minor": 1
}
