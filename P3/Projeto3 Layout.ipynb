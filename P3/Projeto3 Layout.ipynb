{
 "cells": [
  {
   "cell_type": "markdown",
   "metadata": {},
   "source": [
    "___\n",
    "## Ciência dos Dados - PROJETO 3 - INSPER"
   ]
  },
  {
   "cell_type": "markdown",
   "metadata": {},
   "source": [
    "___\n",
    "#### Victor Arruda Niubó\n",
    "\n",
    "#### Giovanni Pertence Cardoso dos Santos\n",
    "\n",
    "#### Gustavo Schlieper Tessitore\n",
    "\n",
    "#### Leonardo Cesari Costa\n",
    "___"
   ]
  },
  {
   "cell_type": "markdown",
   "metadata": {},
   "source": [
    "# Previsão da quantidade de views"
   ]
  },
  {
   "cell_type": "markdown",
   "metadata": {},
   "source": [
    "___\n",
    "\n",
    "## A. INTRODUÇÃO"
   ]
  },
  {
   "cell_type": "markdown",
   "metadata": {},
   "source": [
    "O objetivo do projeto é estimar a quantidade de visualizações que um vídeo terá com base no título, horário de publicação e as tags atribuidas aos vídeos."
   ]
  },
  {
   "cell_type": "markdown",
   "metadata": {},
   "source": [
    "___\n",
    "## B. MINERANDO DADOS e CARACTERÍSTICAS DO DATASET"
   ]
  },
  {
   "cell_type": "markdown",
   "metadata": {},
   "source": [
    " "
   ]
  },
  {
   "cell_type": "code",
   "execution_count": 1,
   "metadata": {},
   "outputs": [],
   "source": [
    "from tqdm import tqdm_notebook as tqdm\n",
    "from sklearn.model_selection import train_test_split\n",
    "from sklearn.neighbors import KNeighborsRegressor\n",
    "from sklearn.linear_model import LinearRegression\n",
    "from sklearn.tree import DecisionTreeRegressor\n",
    "from sklearn.metrics import mean_squared_error\n",
    "import matplotlib.pyplot as plt\n",
    "import seaborn as sns\n",
    "import pandas as pd\n",
    "import numpy as np\n",
    "import scipy.stats\n",
    "import itertools\n",
    "import math\n",
    "import json\n",
    "import os\n",
    "from scipy import stats\n",
    "from scipy.stats import norm"
   ]
  },
  {
   "cell_type": "code",
   "execution_count": 2,
   "metadata": {
    "scrolled": true
   },
   "outputs": [
    {
     "name": "stdout",
     "output_type": "stream",
     "text": [
      "Esperamos trabalhar no diretório\n",
      "/Users/giovannid.santos/Documents/Insper/3_Semestre/CDADOS-DP/cdados_dp/P3\n"
     ]
    }
   ],
   "source": [
    "#remove mesagens de aviso do Pandas\n",
    "pd.options.mode.chained_assignment = None\n",
    "print('Esperamos trabalhar no diretório')\n",
    "print(os.getcwd())"
   ]
  },
  {
   "cell_type": "markdown",
   "metadata": {},
   "source": [
    "### BASE DE DADOS"
   ]
  },
  {
   "cell_type": "code",
   "execution_count": 3,
   "metadata": {
    "scrolled": true
   },
   "outputs": [],
   "source": [
    "# Base de dados dos videos em destaque do youtube US\n",
    "you_data = pd.read_csv(\"USvideos.csv\")\n",
    "\n",
    "you_data.drop_duplicates(subset = 'video_id', keep = 'last', inplace = True)\n",
    "\n",
    "\n",
    "\n",
    "# filtro das variáveis de interesse\n",
    "you_analysis = you_data.loc[you_data.views|you_data.title|you_data.tags|you_data.category_id,\\\n",
    "                           ['views', 'title', 'tags', 'category_id']]\n",
    "you_analysis = you_analysis.reset_index().drop('index',axis=1)\n",
    "\n",
    "# you_analysis = you_analytics.iloc[0:int(you_analytics.index[-1]*0.75), :]\n",
    "# you_test = you_analytics.iloc[int(you_analytics.index[-1]*0.75):, :]\n"
   ]
  },
  {
   "cell_type": "code",
   "execution_count": 4,
   "metadata": {
    "scrolled": true
   },
   "outputs": [],
   "source": [
    "# separação da string das tags em uma lista de strings\n",
    "tags_split = you_analysis.tags.str.split(pat = '|')\n",
    "you_analysis['tags_split'] = tags_split\n",
    "you_analysis.head()\n",
    "you_ifn = you_analysis.copy()"
   ]
  },
  {
   "cell_type": "code",
   "execution_count": 5,
   "metadata": {},
   "outputs": [],
   "source": [
    "# Junta todas as strings em uma lista só para pder fazer um value_counts() e criar um\n",
    "# dataframe com as tags e as frquencias de cada uma\n",
    "merged = list(itertools.chain(*you_analysis.tags_split))\n",
    "contador = pd.DataFrame({'col':merged})\n",
    "limpino = contador[contador.col != '[none]']\n",
    "dfl = limpino.col.value_counts().rename_axis('tags').reset_index(name='counts')\n",
    "dfl = dfl[(dfl['counts'])> 10]"
   ]
  },
  {
   "cell_type": "code",
   "execution_count": 6,
   "metadata": {},
   "outputs": [
    {
     "name": "stdout",
     "output_type": "stream",
     "text": [
      "Stored 'dfl' (DataFrame)\n",
      "Stored 'you_data' (DataFrame)\n"
     ]
    }
   ],
   "source": [
    "%store dfl\n",
    "%store you_data"
   ]
  },
  {
   "cell_type": "code",
   "execution_count": 7,
   "metadata": {},
   "outputs": [
    {
     "data": {
      "application/vnd.jupyter.widget-view+json": {
       "model_id": "43a61be420614a9e8e31963acd03e1c7",
       "version_major": 2,
       "version_minor": 0
      },
      "text/plain": [
       "HBox(children=(IntProgress(value=0, max=1446), HTML(value='')))"
      ]
     },
     "metadata": {},
     "output_type": "display_data"
    },
    {
     "name": "stderr",
     "output_type": "stream",
     "text": [
      "/Library/Frameworks/Python.framework/Versions/3.7/lib/python3.7/site-packages/ipykernel_launcher.py:3: UserWarning: This pattern has match groups. To actually get the groups, use str.extract.\n",
      "  This is separate from the ipykernel package so we can avoid doing imports until\n",
      "/Library/Frameworks/Python.framework/Versions/3.7/lib/python3.7/site-packages/ipykernel_launcher.py:3: UserWarning: This pattern has match groups. To actually get the groups, use str.extract.\n",
      "  This is separate from the ipykernel package so we can avoid doing imports until\n",
      "/Library/Frameworks/Python.framework/Versions/3.7/lib/python3.7/site-packages/ipykernel_launcher.py:3: UserWarning: This pattern has match groups. To actually get the groups, use str.extract.\n",
      "  This is separate from the ipykernel package so we can avoid doing imports until\n"
     ]
    },
    {
     "name": "stdout",
     "output_type": "stream",
     "text": [
      "\n"
     ]
    }
   ],
   "source": [
    "## Separa as linhas que contém certa tag\n",
    "for ind,data in tqdm(dfl.iterrows(), total=dfl.shape[0]):\n",
    "    var_df = you_analysis[you_analysis['tags'].str.contains(data['tags'])]\n",
    "    x = list(var_df.index)\n",
    "    you_analysis[data['tags']+'_freq'] = 0\n",
    "    you_analysis.loc[x,[data['tags']+'_freq']] = data['counts']\n",
    "    \n",
    "# var_df = you_analysis['tags'].str.contains(dfl.tags[0])\n",
    "# list(var_df)"
   ]
  },
  {
   "cell_type": "code",
   "execution_count": 8,
   "metadata": {},
   "outputs": [
    {
     "data": {
      "image/png": "[encoded data removed]",
      "text/plain": [
       "<Figure size 432x288 with 1 Axes>"
      ]
     },
     "metadata": {
      "needs_background": "light"
     },
     "output_type": "display_data"
    }
   ],
   "source": [
    "# Cria dataframe das views e frequência máxima\n",
    "banana = pd.DataFrame()\n",
    "banana['views'] = you_analysis['views']\n",
    "banana['max_freq'] = you_analysis.iloc[:,5:].max(axis=1)\n",
    "\n",
    "# Plota scatter \n",
    "ax = plt.gca()\n",
    "ax.scatter(banana.max_freq, banana.views)\n",
    "ax.set_yscale('log')\n",
    "ax.set_title('Scater plot View x Tag')\n",
    "ax.set_xlabel('frequencia da tag')\n",
    "ax.set_ylabel('views')\n",
    "plt.savefig('img/Scater plot View x Tag.png')"
   ]
  },
  {
   "cell_type": "code",
   "execution_count": 9,
   "metadata": {},
   "outputs": [],
   "source": [
    "# Transpose no dataframe para poder usar .nlargest()\n",
    "you_freqs = you_analysis.iloc[:,5:]\n",
    "trans = you_freqs.T\n"
   ]
  },
  {
   "cell_type": "code",
   "execution_count": 10,
   "metadata": {
    "scrolled": true
   },
   "outputs": [
    {
     "name": "stdout",
     "output_type": "stream",
     "text": [
      "Stored 'trans' (DataFrame)\n",
      "Stored 'you_analysis' (DataFrame)\n",
      "Stored 'banana' (DataFrame)\n"
     ]
    }
   ],
   "source": [
    "#trans.rename(index=str, columns={e: \"vid_{0}\".format(e)})\n",
    "%store trans\n",
    "%store you_analysis\n",
    "%store banana"
   ]
  },
  {
   "cell_type": "code",
   "execution_count": 11,
   "metadata": {},
   "outputs": [
    {
     "data": {
      "application/vnd.jupyter.widget-view+json": {
       "model_id": "752ffd8f1f7c4ee09df96724c7cee155",
       "version_major": 2,
       "version_minor": 0
      },
      "text/plain": [
       "HBox(children=(IntProgress(value=0, max=6282), HTML(value='')))"
      ]
     },
     "metadata": {},
     "output_type": "display_data"
    },
    {
     "name": "stdout",
     "output_type": "stream",
     "text": [
      "\n"
     ]
    }
   ],
   "source": [
    "top3_sum = []\n",
    "toto_sum = []\n",
    "for ind, data in tqdm(you_freqs.iterrows(), total=you_freqs.shape[0]):\n",
    "    top3_sum.append(data.nlargest(3).sum())\n",
    "    toto_sum.append(data.sum())"
   ]
  },
  {
   "cell_type": "code",
   "execution_count": 12,
   "metadata": {},
   "outputs": [
    {
     "name": "stdout",
     "output_type": "stream",
     "text": [
      "Stored 'you_ifn' (DataFrame)\n"
     ]
    }
   ],
   "source": [
    "you_ifn['top3_freq']=top3_sum\n",
    "%store you_ifn"
   ]
  },
  {
   "cell_type": "code",
   "execution_count": 13,
   "metadata": {},
   "outputs": [
    {
     "data": {
      "image/png": "[encoded data removed]",
      "text/plain": [
       "<Figure size 432x288 with 1 Axes>"
      ]
     },
     "metadata": {
      "needs_background": "light"
     },
     "output_type": "display_data"
    }
   ],
   "source": [
    "plt.gca().scatter(you_ifn.top3_freq, you_ifn.views)\n",
    "plt.gca().set_yscale('log')"
   ]
  },
  {
   "cell_type": "code",
   "execution_count": 14,
   "metadata": {},
   "outputs": [],
   "source": [
    "import statsmodels.api as sm\n",
    "\n",
    "def Summary(x,y):\n",
    "    xc = sm.add_constant(x)\n",
    "    model = sm.OLS(y,xc)\n",
    "    results = model.fit()\n",
    "    return results.summary()"
   ]
  },
  {
   "cell_type": "code",
   "execution_count": 15,
   "metadata": {
    "scrolled": true
   },
   "outputs": [
    {
     "name": "stdout",
     "output_type": "stream",
     "text": [
      "Stored 's_3plot' (Summary)\n"
     ]
    },
    {
     "data": {
      "image/png": "[encoded data removed]",
      "text/plain": [
       "<Figure size 432x288 with 1 Axes>"
      ]
     },
     "metadata": {
      "needs_background": "light"
     },
     "output_type": "display_data"
    }
   ],
   "source": [
    "def Plot_line(x_dado, y_dado):\n",
    "\n",
    "    x = x_dado\n",
    "    y = y_dado\n",
    "\n",
    "    yb = y.mean()\n",
    "    xb = x.mean()\n",
    "\n",
    "    Sxy = ((x -xb)*(y -yb)).sum()\n",
    "    Sxx = ((x -xb)**2).sum()\n",
    "\n",
    "    b1 = Sxy/Sxx\n",
    "    b0 = yb - b1*xb\n",
    "\n",
    "    x_v = np.linspace(x.min(), x.max(), 500)\n",
    "    y_v = b0 + b1*x_v\n",
    "\n",
    "    plt.plot(x_v,y_v, color=\"r\") # resultados da regressão\n",
    "    plt.scatter(x, y); # dados\n",
    "    plt.gca().set_yscale('log')\n",
    "    plt.ylim((y.min(),y.max()))\n",
    "    \n",
    "Plot_line(you_ifn.top3_freq, np.log10(you_ifn.views))\n",
    "s_3plot = Summary(you_ifn.top3_freq, you_ifn.views)\n",
    "plt.gca().set_title('Scater plot View x top 3 tags')\n",
    "plt.gca().set_xlabel('Soma das frequências das tag')\n",
    "plt.gca().set_ylabel('views')\n",
    "plt.savefig('img/Scater plot View x top 3 tags.png')\n",
    "%store s_3plot"
   ]
  },
  {
   "cell_type": "code",
   "execution_count": 16,
   "metadata": {
    "scrolled": true
   },
   "outputs": [
    {
     "data": {
      "application/vnd.jupyter.widget-view+json": {
       "model_id": "3030921925b34337859970f04c85bcac",
       "version_major": 2,
       "version_minor": 0
      },
      "text/plain": [
       "HBox(children=(IntProgress(value=0, max=1446), HTML(value='')))"
      ]
     },
     "metadata": {},
     "output_type": "display_data"
    },
    {
     "name": "stdout",
     "output_type": "stream",
     "text": [
      "\n"
     ]
    }
   ],
   "source": [
    "a = trans.copy().T.astype(str)\n",
    "for i in tqdm(a.columns):\n",
    "    a[i] = a[i].str.replace('[1-9][0-9]*','1')"
   ]
  },
  {
   "cell_type": "code",
   "execution_count": 17,
   "metadata": {},
   "outputs": [
    {
     "data": {
      "application/vnd.jupyter.widget-view+json": {
       "model_id": "8153e5e211604a2789f52ac9153fdda9",
       "version_major": 2,
       "version_minor": 0
      },
      "text/plain": [
       "HBox(children=(IntProgress(value=0, max=6282), HTML(value='')))"
      ]
     },
     "metadata": {},
     "output_type": "display_data"
    },
    {
     "name": "stdout",
     "output_type": "stream",
     "text": [
      "\n"
     ]
    }
   ],
   "source": [
    "a = a.astype(int)\n",
    "n_tags = []\n",
    "for ind,data in tqdm(a.iterrows(), total=a.shape[0]):\n",
    "    n_tags.append(data.sum())"
   ]
  },
  {
   "cell_type": "code",
   "execution_count": 18,
   "metadata": {},
   "outputs": [
    {
     "name": "stderr",
     "output_type": "stream",
     "text": [
      "/Library/Frameworks/Python.framework/Versions/3.7/lib/python3.7/site-packages/ipykernel_launcher.py:3: RuntimeWarning: invalid value encountered in long_scalars\n",
      "  This is separate from the ipykernel package so we can avoid doing imports until\n"
     ]
    }
   ],
   "source": [
    "mean_freqs = []\n",
    "for e in range(len(n_tags)):\n",
    "    mean_freqs.append(toto_sum[e]/n_tags[e])"
   ]
  },
  {
   "cell_type": "markdown",
   "metadata": {},
   "source": [
    "### ANÁLISE DESCRITIVA"
   ]
  },
  {
   "cell_type": "markdown",
   "metadata": {},
   "source": [
    "___\n",
    "## C. MODELOS DE PREDIÇÃO"
   ]
  },
  {
   "cell_type": "code",
   "execution_count": 19,
   "metadata": {},
   "outputs": [
    {
     "name": "stdout",
     "output_type": "stream",
     "text": [
      "Stored 'new_data' (DataFrame)\n"
     ]
    }
   ],
   "source": [
    "new_data = pd.DataFrame()\n",
    "new_data['views'] = you_analysis['views']\n",
    "new_data['top3_freq'] = top3_sum\n",
    "new_data['n_tags'] = n_tags\n",
    "new_data['mean_freqs'] = mean_freqs\n",
    "new_data['funny'] = a['funny_freq']\n",
    "new_data['comedy'] = a['comedy_freq']\n",
    "new_data['humor'] = a['humor_freq']\n",
    "new_data['music'] = a['music_freq']\n",
    "new_data = new_data.dropna()\n",
    "%store new_data\n",
    "\n",
    "nd_treino = new_data.iloc[0:int(new_data.index[-1]*0.75), : ]\n",
    "nd_teste = new_data.iloc[int(new_data.index[-1]*0.75):, : ]\n",
    "\n",
    "X=new_data[['top3_freq','n_tags','mean_freqs']]\n",
    "y=new_data['views']\n",
    "\n",
    "X_treino,X_teste,y_treino,y_teste=train_test_split(X,y,test_size=.25,random_state=0)"
   ]
  },
  {
   "cell_type": "code",
   "execution_count": 20,
   "metadata": {},
   "outputs": [
    {
     "data": {
      "image/png": "[encoded data removed]",
      "text/plain": [
       "<Figure size 432x288 with 1 Axes>"
      ]
     },
     "metadata": {
      "needs_background": "light"
     },
     "output_type": "display_data"
    }
   ],
   "source": [
    "Plot_line(nd_treino.n_tags,np.log10(nd_treino.views))\n",
    "plt.title('Quantidade de Views por Tags')\n",
    "plt.xlabel('Tags')\n",
    "plt.ylabel('Views');\n",
    "plt.savefig('img/Scater plot Quantidade de Views por Tags.png')"
   ]
  },
  {
   "cell_type": "code",
   "execution_count": 21,
   "metadata": {},
   "outputs": [
    {
     "name": "stdout",
     "output_type": "stream",
     "text": [
      "Stored 's_tag' (Summary)\n"
     ]
    }
   ],
   "source": [
    "s_tag = Summary(nd_treino.n_tags,nd_treino.views)\n",
    "%store s_tag"
   ]
  },
  {
   "cell_type": "code",
   "execution_count": 22,
   "metadata": {
    "scrolled": true
   },
   "outputs": [
    {
     "data": {
      "text/html": [
       "<div>\n",
       "<style scoped>\n",
       "    .dataframe tbody tr th:only-of-type {\n",
       "        vertical-align: middle;\n",
       "    }\n",
       "\n",
       "    .dataframe tbody tr th {\n",
       "        vertical-align: top;\n",
       "    }\n",
       "\n",
       "    .dataframe thead th {\n",
       "        text-align: right;\n",
       "    }\n",
       "</style>\n",
       "<table border=\"1\" class=\"dataframe\">\n",
       "  <thead>\n",
       "    <tr style=\"text-align: right;\">\n",
       "      <th></th>\n",
       "      <th>views</th>\n",
       "      <th>top3_freq</th>\n",
       "      <th>n_tags</th>\n",
       "      <th>mean_freqs</th>\n",
       "      <th>funny</th>\n",
       "      <th>comedy</th>\n",
       "      <th>humor</th>\n",
       "      <th>music</th>\n",
       "    </tr>\n",
       "  </thead>\n",
       "  <tbody>\n",
       "    <tr>\n",
       "      <th>0</th>\n",
       "      <td>81377</td>\n",
       "      <td>409</td>\n",
       "      <td>45</td>\n",
       "      <td>46.533333</td>\n",
       "      <td>0</td>\n",
       "      <td>0</td>\n",
       "      <td>0</td>\n",
       "      <td>0</td>\n",
       "    </tr>\n",
       "  </tbody>\n",
       "</table>\n",
       "</div>"
      ],
      "text/plain": [
       "   views  top3_freq  n_tags  mean_freqs  funny  comedy  humor  music\n",
       "0  81377        409      45   46.533333      0       0      0      0"
      ]
     },
     "execution_count": 22,
     "metadata": {},
     "output_type": "execute_result"
    },
    {
     "data": {
      "image/png": "[encoded data removed]",
      "text/plain": [
       "<Figure size 432x288 with 1 Axes>"
      ]
     },
     "metadata": {
      "needs_background": "light"
     },
     "output_type": "display_data"
    }
   ],
   "source": [
    "Plot_line(nd_treino.mean_freqs,np.log10(nd_treino.views))\n",
    "plt.title('Quantidade de Views por média das frequências das Tags')\n",
    "plt.xlabel('Tags')\n",
    "plt.ylabel('Views');\n",
    "plt.savefig('img/Scater plot Quantidade de Views por média das frequências das Tags.png')\n",
    "nd_treino.head(1)"
   ]
  },
  {
   "cell_type": "code",
   "execution_count": 23,
   "metadata": {},
   "outputs": [
    {
     "name": "stdout",
     "output_type": "stream",
     "text": [
      "Stored 's_tagmed' (Summary)\n"
     ]
    }
   ],
   "source": [
    "s_tagmed = Summary(nd_treino.mean_freqs,np.log10(nd_treino.views))\n",
    "%store s_tagmed"
   ]
  },
  {
   "cell_type": "code",
   "execution_count": 24,
   "metadata": {},
   "outputs": [],
   "source": [
    "com_funny = []\n",
    "sem_funny = []\n",
    "\n",
    "com_comedy = []\n",
    "sem_comedy = []\n",
    "\n",
    "com_humor = []\n",
    "sem_humor = []\n",
    "\n",
    "com_music = []\n",
    "sem_music = []\n",
    "\n",
    "for i in new_data.iterrows():\n",
    "    if i[1].funny == 1:\n",
    "        com_funny.append(i[1].views)\n",
    "    elif i[1].funny == 0:\n",
    "        sem_funny.append(i[1].views)\n",
    "        \n",
    "    if i[1].comedy == 1:\n",
    "        com_comedy.append(i[1].views)\n",
    "    elif i[1].comedy == 0:\n",
    "        sem_comedy.append(i[1].views)\n",
    "        \n",
    "    if i[1].humor == 1:\n",
    "        com_humor.append(i[1].views)\n",
    "    elif i[1].humor == 0:\n",
    "        sem_humor.append(i[1].views)\n",
    "        \n",
    "    if i[1].music == 1:\n",
    "        com_music.append(i[1].views)\n",
    "    elif i[1].music == 0:\n",
    "        sem_music.append(i[1].views)\n",
    "        "
   ]
  },
  {
   "cell_type": "code",
   "execution_count": 25,
   "metadata": {},
   "outputs": [
    {
     "data": {
      "image/png": "[encoded data removed]",
      "text/plain": [
       "<Figure size 1080x720 with 8 Axes>"
      ]
     },
     "metadata": {
      "needs_background": "light"
     },
     "output_type": "display_data"
    }
   ],
   "source": [
    "fig, axs = plt.subplots(2, 4, sharey='row', gridspec_kw={'hspace': 0.3, 'wspace': 0})\n",
    "fig.set_size_inches(15, 10)\n",
    "\n",
    "axs[0, 0].boxplot(np.log10(com_funny))\n",
    "axs[0, 0].set_title('Com funny', fontsize= 20)\n",
    "axs[0, 0].set_ylabel('views (10^)')\n",
    "axs[0, 1].boxplot(np.log10(sem_funny))\n",
    "axs[0, 1].set_title('Sem funny', fontsize= 20)\n",
    "\n",
    "axs[0, 2].boxplot(np.log10(com_comedy))\n",
    "axs[0, 2].set_title('Com comedy', fontsize= 20)\n",
    "axs[0, 3].boxplot(np.log10(sem_comedy))\n",
    "axs[0, 3].set_title('Sem comedy', fontsize= 20)\n",
    "\n",
    "axs[1, 0].boxplot(np.log10(com_humor))\n",
    "axs[1, 0].set_title('Com humor', fontsize= 20)\n",
    "axs[1, 0].set_ylabel('views (10^)')\n",
    "axs[1, 1].boxplot(np.log10(sem_humor))\n",
    "axs[1, 1].set_title('Sem humor', fontsize= 20)\n",
    "\n",
    "axs[1, 2].boxplot(np.log10(com_music))\n",
    "axs[1, 2].set_title('Com music', fontsize= 20)\n",
    "axs[1, 3].boxplot(np.log10(sem_music))\n",
    "axs[1, 3].set_title('Sem music', fontsize= 20);\n",
    "plt.savefig('img/Boxplots.png')\n"
   ]
  },
  {
   "cell_type": "markdown",
   "metadata": {},
   "source": [
    "o MODELO DE REGRESSÃO LINEAR (Multiple Linear Regression)"
   ]
  },
  {
   "cell_type": "code",
   "execution_count": 26,
   "metadata": {},
   "outputs": [
    {
     "name": "stderr",
     "output_type": "stream",
     "text": [
      "/Library/Frameworks/Python.framework/Versions/3.7/lib/python3.7/site-packages/sklearn/linear_model/base.py:485: RuntimeWarning: internal gelsd driver lwork query error, required iwork dimension not returned. This is likely the result of LAPACK bug 0038, fixed in LAPACK 3.2.2 (released July 21, 2010). Falling back to 'gelss' driver.\n",
      "  linalg.lstsq(X, y)\n"
     ]
    },
    {
     "data": {
      "text/plain": [
       "0.0012351957745986297"
      ]
     },
     "execution_count": 26,
     "metadata": {},
     "output_type": "execute_result"
    }
   ],
   "source": [
    "lr = LinearRegression()\n",
    "lr.fit(X_treino,y_treino)\n",
    "y_pred=lr.predict(X_teste)\n",
    "\n",
    "mse_lr = mean_squared_error(y_teste,y_pred)\n",
    "rms_lr = mse_lr**(1/2)\n",
    "\n",
    "u=((y_teste - y_pred) ** 2).sum() \n",
    "v=((y_teste - y_teste.mean()) ** 2).sum()\n",
    "r_sqrd_lr=1-u/v\n",
    "r_sqrd_lr"
   ]
  },
  {
   "cell_type": "markdown",
   "metadata": {
    "collapsed": true
   },
   "source": [
    "o MODELO DE PREDIÇÃO PELA MÉDIA (Sem uso de variável explicativa)."
   ]
  },
  {
   "cell_type": "code",
   "execution_count": 27,
   "metadata": {},
   "outputs": [
    {
     "data": {
      "text/plain": [
       "-0.007888221768102666"
      ]
     },
     "execution_count": 27,
     "metadata": {},
     "output_type": "execute_result"
    }
   ],
   "source": [
    "y_pred4 = [nd_treino.views.mean()]*len(y_teste)\n",
    "\n",
    "mse_mpm = mean_squared_error(y_teste,y_pred4)\n",
    "rms_mpm = mse_mpm**(1/2)\n",
    "\n",
    "u4=((y_teste - y_pred4) ** 2).sum() \n",
    "v4=((y_teste - y_teste.mean()) ** 2).sum()\n",
    "r_sqrd_mpm=1-u4/v4\n",
    "r_sqrd_mpm"
   ]
  },
  {
   "cell_type": "markdown",
   "metadata": {
    "collapsed": true
   },
   "source": [
    "o MODELO DOS K VIZINHOS MAIS PRÓXIMOS (K-Nearest Neighbors Regression)"
   ]
  },
  {
   "cell_type": "code",
   "execution_count": 28,
   "metadata": {},
   "outputs": [
    {
     "data": {
      "text/plain": [
       "-0.0005371314253006521"
      ]
     },
     "execution_count": 28,
     "metadata": {},
     "output_type": "execute_result"
    }
   ],
   "source": [
    "knn = KNeighborsRegressor(100)\n",
    "knn.fit(X_treino,y_treino)\n",
    "y_pred1 = knn.predict(X_teste)\n",
    "\n",
    "mse_knn = mean_squared_error(y_teste,y_pred1)\n",
    "rms_knn = mse_knn**(1/2)\n",
    "\n",
    "u1=((y_teste - y_pred1) ** 2).sum() \n",
    "v1=((y_teste - y_teste.mean()) ** 2).sum()\n",
    "r_sqrd_knn=1-u1/v1\n",
    "r_sqrd_knn"
   ]
  },
  {
   "cell_type": "markdown",
   "metadata": {
    "collapsed": true
   },
   "source": [
    "o MODELO DE ÁRVORES DE REGRESSÃO (Decision Tree Regression)"
   ]
  },
  {
   "cell_type": "code",
   "execution_count": 29,
   "metadata": {
    "scrolled": true
   },
   "outputs": [
    {
     "data": {
      "text/plain": [
       "-0.12301672016121845"
      ]
     },
     "execution_count": 29,
     "metadata": {},
     "output_type": "execute_result"
    }
   ],
   "source": [
    "Xs_tr = nd_treino.iloc[: , 1:4]\n",
    "y_tr = nd_treino.views\n",
    "\n",
    "Xs_ts = nd_teste.iloc[:, 1:4]\n",
    "\n",
    "y_ts = nd_teste.views\n",
    "regressor = DecisionTreeRegressor(random_state = 0)\n",
    "regressor.fit(Xs_tr, y_tr)\n",
    "\n",
    "y_pred2 = regressor.predict(Xs_ts)\n",
    "\n",
    "mse_dtr = mean_squared_error(y_ts, y_pred2)\n",
    "rms_dtr = mse_dtr**(1/2)\n",
    "\n",
    "u2=((y_ts - y_pred2) ** 2).sum() \n",
    "v2=((y_ts - y_ts.mean()) ** 2).sum()\n",
    "r_sqrd_dtr=1-u2/v2\n",
    "r_sqrd_dtr"
   ]
  },
  {
   "cell_type": "code",
   "execution_count": 31,
   "metadata": {},
   "outputs": [
    {
     "name": "stdout",
     "output_type": "stream",
     "text": [
      "Stored 'conc' (DataFrame)\n"
     ]
    },
    {
     "data": {
      "text/html": [
       "<div>\n",
       "<style scoped>\n",
       "    .dataframe tbody tr th:only-of-type {\n",
       "        vertical-align: middle;\n",
       "    }\n",
       "\n",
       "    .dataframe tbody tr th {\n",
       "        vertical-align: top;\n",
       "    }\n",
       "\n",
       "    .dataframe thead th {\n",
       "        text-align: right;\n",
       "    }\n",
       "</style>\n",
       "<table border=\"1\" class=\"dataframe\">\n",
       "  <thead>\n",
       "    <tr style=\"text-align: right;\">\n",
       "      <th></th>\n",
       "      <th>Models</th>\n",
       "      <th>MSE</th>\n",
       "      <th>RMS</th>\n",
       "      <th>Rˆ2</th>\n",
       "    </tr>\n",
       "  </thead>\n",
       "  <tbody>\n",
       "    <tr>\n",
       "      <th>0</th>\n",
       "      <td>Linear Regression</td>\n",
       "      <td>6.742716e+13</td>\n",
       "      <td>8.211404e+06</td>\n",
       "      <td>0.001235</td>\n",
       "    </tr>\n",
       "    <tr>\n",
       "      <th>1</th>\n",
       "      <td>Mean Prediction</td>\n",
       "      <td>6.804309e+13</td>\n",
       "      <td>8.248823e+06</td>\n",
       "      <td>-0.007888</td>\n",
       "    </tr>\n",
       "    <tr>\n",
       "      <th>2</th>\n",
       "      <td>KNN Regression</td>\n",
       "      <td>6.754681e+13</td>\n",
       "      <td>8.218687e+06</td>\n",
       "      <td>-0.000537</td>\n",
       "    </tr>\n",
       "    <tr>\n",
       "      <th>3</th>\n",
       "      <td>Decision Tree Regression</td>\n",
       "      <td>1.497416e+14</td>\n",
       "      <td>1.223690e+07</td>\n",
       "      <td>-0.123017</td>\n",
       "    </tr>\n",
       "  </tbody>\n",
       "</table>\n",
       "</div>"
      ],
      "text/plain": [
       "                     Models           MSE           RMS       Rˆ2\n",
       "0         Linear Regression  6.742716e+13  8.211404e+06  0.001235\n",
       "1           Mean Prediction  6.804309e+13  8.248823e+06 -0.007888\n",
       "2            KNN Regression  6.754681e+13  8.218687e+06 -0.000537\n",
       "3  Decision Tree Regression  1.497416e+14  1.223690e+07 -0.123017"
      ]
     },
     "execution_count": 31,
     "metadata": {},
     "output_type": "execute_result"
    }
   ],
   "source": [
    "conc = pd.DataFrame()\n",
    "conc['Models']=['Linear Regression','Mean Prediction','KNN Regression','Decision Tree Regression']\n",
    "conc['MSE']=[mse_lr,mse_mpm,mse_knn,mse_dtr]\n",
    "conc['RMS']=[rms_lr,rms_mpm,rms_knn,rms_dtr]\n",
    "conc['Rˆ2']=[r_sqrd_lr,r_sqrd_mpm,r_sqrd_knn,r_sqrd_dtr]\n",
    "%store conc\n",
    "conc"
   ]
  },
  {
   "cell_type": "markdown",
   "metadata": {
    "collapsed": true
   },
   "source": [
    "___\n",
    "## D. PROCESSO E ESTATÍSTICAS DE VALIDAÇÃO"
   ]
  },
  {
   "cell_type": "markdown",
   "metadata": {},
   "source": [
    "Descrição do processo de construção dos dados e a validação estão no arquivo Comentários.ipynb, assim como a conclusão."
   ]
  },
  {
   "cell_type": "markdown",
   "metadata": {},
   "source": [
    "___\n",
    "## F. REFERÊNCIAS BIBLIOGRÁFICAS"
   ]
  },
  {
   "cell_type": "markdown",
   "metadata": {},
   "source": [
    "- https://engineering.upside.com/a-beginners-guide-to-optimizing-pandas-code-for-speed-c09ef2c6a4d6\n",
    "- https://ensinandomaquinasblog.wordpress.com/2017/12/15/modelos-preditivos-de-notas-de-redacao-do-enem-2015/\n",
    "- https://scikit-learn.org/\n",
    "- https://matplotlib.org"
   ]
  },
  {
   "cell_type": "code",
   "execution_count": null,
   "metadata": {},
   "outputs": [],
   "source": []
  }
 ],
 "metadata": {
  "anaconda-cloud": {},
  "kernelspec": {
   "display_name": "Python 3",
   "language": "python",
   "name": "python3"
  },
  "language_info": {
   "codemirror_mode": {
    "name": "ipython",
    "version": 3
   },
   "file_extension": ".py",
   "mimetype": "text/x-python",
   "name": "python",
   "nbconvert_exporter": "python",
   "pygments_lexer": "ipython3",
   "version": "3.7.1"
  }
 },
 "nbformat": 4,
 "nbformat_minor": 1
}
