{
 "cells": [
  {
   "cell_type": "markdown",
   "metadata": {},
   "source": [
    "___\n",
    "## Ciência dos Dados - PROJETO 3 - INSPER"
   ]
  },
  {
   "cell_type": "markdown",
   "metadata": {},
   "source": [
    "___\n",
    "#### Victor Arruda Niubó\n",
    "\n",
    "#### Giovanni Pertence Cardoso dos Santos\n",
    "\n",
    "#### Gustavo Schlieper Tessitore\n",
    "\n",
    "#### Leonardo Cesari Costa\n",
    "___"
   ]
  },
  {
   "cell_type": "markdown",
   "metadata": {},
   "source": [
    "# Previsão da quantidade de views"
   ]
  },
  {
   "cell_type": "markdown",
   "metadata": {},
   "source": [
    "___\n",
    "\n",
    "## 1. INTRODUÇÃO"
   ]
  },
  {
   "cell_type": "markdown",
   "metadata": {},
   "source": [
    "O objetivo do projeto é estimar a quantidade de visualizações que um vídeo terá com base no título, horário de publicação e as tags atribuidas aos vídeos."
   ]
  },
  {
   "cell_type": "markdown",
   "metadata": {},
   "source": [
    "___\n",
    "## 2. MINERANDO DADOS e CARACTERÍSTICAS DO DATASET"
   ]
  },
  {
   "cell_type": "markdown",
   "metadata": {},
   "source": []
  },
  {
   "cell_type": "code",
   "execution_count": 26,
   "metadata": {},
   "outputs": [],
   "source": [
    "import pandas as pd\n",
    "import numpy as np\n",
    "import json\n",
    "import os"
   ]
  },
  {
   "cell_type": "code",
   "execution_count": 2,
   "metadata": {
    "scrolled": true
   },
   "outputs": [
    {
     "name": "stdout",
     "output_type": "stream",
     "text": [
      "Esperamos trabalhar no diretório\n",
      "C:\\Users\\gugat\\Desktop\\Insper DS 2018.1\\2.1 semestre\\Dados\\cdados_dp\\P3\n"
     ]
    }
   ],
   "source": [
    "print('Esperamos trabalhar no diretório')\n",
    "print(os.getcwd())"
   ]
  },
  {
   "cell_type": "markdown",
   "metadata": {},
   "source": [
    "### BASE DE DADOS"
   ]
  },
  {
   "cell_type": "code",
   "execution_count": 82,
   "metadata": {
    "scrolled": true
   },
   "outputs": [
    {
     "data": {
      "text/html": [
       "<div>\n",
       "<style scoped>\n",
       "    .dataframe tbody tr th:only-of-type {\n",
       "        vertical-align: middle;\n",
       "    }\n",
       "\n",
       "    .dataframe tbody tr th {\n",
       "        vertical-align: top;\n",
       "    }\n",
       "\n",
       "    .dataframe thead th {\n",
       "        text-align: right;\n",
       "    }\n",
       "</style>\n",
       "<table border=\"1\" class=\"dataframe\">\n",
       "  <thead>\n",
       "    <tr style=\"text-align: right;\">\n",
       "      <th></th>\n",
       "      <th>views</th>\n",
       "      <th>title</th>\n",
       "      <th>tags</th>\n",
       "      <th>category_id</th>\n",
       "    </tr>\n",
       "  </thead>\n",
       "  <tbody>\n",
       "    <tr>\n",
       "      <th>0</th>\n",
       "      <td>748374</td>\n",
       "      <td>WE WANT TO TALK ABOUT OUR MARRIAGE</td>\n",
       "      <td>SHANtell martin</td>\n",
       "      <td>22</td>\n",
       "    </tr>\n",
       "    <tr>\n",
       "      <th>1</th>\n",
       "      <td>2418783</td>\n",
       "      <td>The Trump Presidency: Last Week Tonight with J...</td>\n",
       "      <td>last week tonight trump presidency|\"last week ...</td>\n",
       "      <td>24</td>\n",
       "    </tr>\n",
       "    <tr>\n",
       "      <th>2</th>\n",
       "      <td>3191434</td>\n",
       "      <td>Racist Superman | Rudy Mancuso, King Bach &amp; Le...</td>\n",
       "      <td>racist superman|\"rudy\"|\"mancuso\"|\"king\"|\"bach\"...</td>\n",
       "      <td>23</td>\n",
       "    </tr>\n",
       "    <tr>\n",
       "      <th>3</th>\n",
       "      <td>343168</td>\n",
       "      <td>Nickelback Lyrics: Real or Fake?</td>\n",
       "      <td>rhett and link|\"gmm\"|\"good mythical morning\"|\"...</td>\n",
       "      <td>24</td>\n",
       "    </tr>\n",
       "    <tr>\n",
       "      <th>4</th>\n",
       "      <td>2095731</td>\n",
       "      <td>I Dare You: GOING BALD!?</td>\n",
       "      <td>ryan|\"higa\"|\"higatv\"|\"nigahiga\"|\"i dare you\"|\"...</td>\n",
       "      <td>24</td>\n",
       "    </tr>\n",
       "  </tbody>\n",
       "</table>\n",
       "</div>"
      ],
      "text/plain": [
       "     views                                              title  \\\n",
       "0   748374                 WE WANT TO TALK ABOUT OUR MARRIAGE   \n",
       "1  2418783  The Trump Presidency: Last Week Tonight with J...   \n",
       "2  3191434  Racist Superman | Rudy Mancuso, King Bach & Le...   \n",
       "3   343168                   Nickelback Lyrics: Real or Fake?   \n",
       "4  2095731                           I Dare You: GOING BALD!?   \n",
       "\n",
       "                                                tags  category_id  \n",
       "0                                    SHANtell martin           22  \n",
       "1  last week tonight trump presidency|\"last week ...           24  \n",
       "2  racist superman|\"rudy\"|\"mancuso\"|\"king\"|\"bach\"...           23  \n",
       "3  rhett and link|\"gmm\"|\"good mythical morning\"|\"...           24  \n",
       "4  ryan|\"higa\"|\"higatv\"|\"nigahiga\"|\"i dare you\"|\"...           24  "
      ]
     },
     "execution_count": 82,
     "metadata": {},
     "output_type": "execute_result"
    }
   ],
   "source": [
    "you_data = pd.read_csv(\"USvideos.csv\")\n",
    "ids = json.loads(open('US_category_id.json').read())\n",
    "\n",
    "you_analysis = you_data.loc[you_data.views|you_data.title|you_data.tags|you_data.category_id,\\\n",
    "                           ['views', 'title', 'tags', 'category_id']]\n",
    "\n",
    "you_analysis.head()"
   ]
  },
  {
   "cell_type": "markdown",
   "metadata": {},
   "source": [
    "### ANÁLISE DESCRITIVA"
   ]
  },
  {
   "cell_type": "code",
   "execution_count": 83,
   "metadata": {},
   "outputs": [
    {
     "data": {
      "text/plain": [
       "0                                          SHANtell martin\n",
       "1        last week tonight trump presidency|\"last week ...\n",
       "2        racist superman|\"rudy\"|\"mancuso\"|\"king\"|\"bach\"...\n",
       "3        rhett and link|\"gmm\"|\"good mythical morning\"|\"...\n",
       "4        ryan|\"higa\"|\"higatv\"|\"nigahiga\"|\"i dare you\"|\"...\n",
       "5        ijustine|\"week with iPhone X\"|\"iphone x\"|\"appl...\n",
       "6        SNL|\"Saturday Night Live\"|\"SNL Season 43\"|\"Epi...\n",
       "7        5 Ice Cream Gadgets|\"Ice Cream\"|\"Cream Sandwic...\n",
       "8        Trailer|\"Hugh Jackman\"|\"Michelle Williams\"|\"Za...\n",
       "9        vox.com|\"vox\"|\"explain\"|\"shift change\"|\"future...\n",
       "10       NFL|\"Football\"|\"offense\"|\"defense\"|\"afc\"|\"nfc\"...\n",
       "11       The Walking Dead|\"shiva\"|\"tiger\"|\"king ezekiel...\n",
       "12       marshmello|\"blocks\"|\"marshmello blocks\"|\"block...\n",
       "13       nowthis|\"nowthis world\"|\"world news\"|\"nowthis ...\n",
       "14       shopping for new fish|\"new fish\"|\"aquarium fis...\n",
       "15       Robots|\"Boston Dynamics\"|\"SpotMini\"|\"Legged Lo...\n",
       "16       pacific rim|\"pacific rim 2\"|\"pacific rim seque...\n",
       "17       TED|\"TED-Ed\"|\"TED Education\"|\"TED Ed\"|\"Hilary ...\n",
       "18       ultralight|\"airplane\"|\"homemade\"|\"DIY\"|\"hoverb...\n",
       "19       SciShow|\"science\"|\"Hank\"|\"Green\"|\"education\"|\"...\n",
       "20       life noggin|\"life noggin youtube\"|\"youtube lif...\n",
       "21       tested|\"testedcom\"|\"designercon 2017\"|\"preview...\n",
       "22       tom scott|\"tomscott\"|\"built for science\"|\"nati...\n",
       "23       refinery29|\"refinery 29\"|\"r29\"|\"r29 video\"|\"vi...\n",
       "24       using other peoples showers|\"gus\"|\"gus shower\"...\n",
       "25       spaghetti burrito|\"diy burrito\"|\"spaghetti\"|\"b...\n",
       "26               numberphile|\"prime numbers\"|\"proth prime\"\n",
       "27       Smart mug|\"Heated thermos\"|\"tech\"|\"gift idea\"|...\n",
       "28                                       auth-jvardon-auth\n",
       "29       freaks and geeks|\"jason segel\"|\"judd apatow\"|\"...\n",
       "                               ...                        \n",
       "40919    fortnite|\"fortnite pc\"|\"fortnite battle royale...\n",
       "40920    Christina Aguilera feat. Demi Lovato|\"Fall In ...\n",
       "40921    James Bay|\"Taylor Swift\"|\"Delicate\"|\"BBC\"|\"Rad...\n",
       "40922    The Tonight Show|\"Jimmy Fallon\"|\"Mindy Kaling\"...\n",
       "40923    camels|\"cactus\"|\"pets\"|\"livestock\"|\"animals\"|\"...\n",
       "40924    Matt Stonie|\"Megatoad\"|\"Competitive Eating\"|\"F...\n",
       "40925    Welcome to the party|\"Diplo\"|\"Lil Pump\"|\"Frenc...\n",
       "40926    tyler the creator|\"435\"|\"nice toenails\"|\"golf ...\n",
       "40927    dinosaurs|\"dinos\"|\"paleo\"|\"paleontology\"|\"scis...\n",
       "40928    nat geo wild|\"national geographic\"|\"wild\"|\"wil...\n",
       "40929    Mustard|\"Nick\"|\"Jonas\"|\"Anywhere\"|\"10\"|\"Summer...\n",
       "40930    ABC|\"americanidol\"|\"idol\"|\"american idol\"|\"rya...\n",
       "40931    terrible magicians|\"rudy\"|\"mancuso\"|\"juanpa\"|\"...\n",
       "40932    the voice season 14|\"the voice finale performa...\n",
       "40933    SciShow|\"science\"|\"Hank\"|\"Green\"|\"education\"|\"...\n",
       "40934    SNL|\"Saturday Night Live\"|\"SNL Season 43\"|\"SNL...\n",
       "40935    Nicki Minaj new music|\"Nicki Minaj Queen\"|\"Nic...\n",
       "40936    miniminter|\"mm7games\"|\"simon\"|\"random\"|\"lie de...\n",
       "40937     LucastheSpider|\"Animation\"|\"3D Animation\"|\"Cute\"\n",
       "40938    daddy yankee reggaeton|\"daddy yankee youtube\"|...\n",
       "40939    Garden (Say It Like Dat)|\"R&B\"|\"SZA\"|\"Top Dawg...\n",
       "40940    Graham Norton|\"Graham Norton Show Official\"|\"E...\n",
       "40941    wedding video|\"heartfelt wedding video\"|\"emoti...\n",
       "40942    fifth hamony|\"harmonizers\"|\"lauren\"|\"ally\"|\"no...\n",
       "40943    BuzzFeed|\"BuzzFeedVideo\"|\"Puppy Interview\"|\"pu...\n",
       "40944    aarons animals|\"aarons\"|\"animals\"|\"cat\"|\"cats\"...\n",
       "40945                                               [none]\n",
       "40946    I gave safiya nygaard a perfect hair makeover ...\n",
       "40947    Black Panther|\"HISHE\"|\"Marvel\"|\"Infinity War\"|...\n",
       "40948        call of duty|\"cod\"|\"activision\"|\"Black Ops 4\"\n",
       "Name: tags, Length: 40949, dtype: object"
      ]
     },
     "execution_count": 83,
     "metadata": {},
     "output_type": "execute_result"
    }
   ],
   "source": [
    "you_analysis.tags"
   ]
  },
  {
   "cell_type": "code",
   "execution_count": null,
   "metadata": {},
   "outputs": [],
   "source": []
  },
  {
   "cell_type": "code",
   "execution_count": null,
   "metadata": {},
   "outputs": [],
   "source": []
  },
  {
   "cell_type": "code",
   "execution_count": null,
   "metadata": {},
   "outputs": [],
   "source": []
  },
  {
   "cell_type": "markdown",
   "metadata": {},
   "source": [
    "___\n",
    "## C. MODELOS DE PREDIÇÃO"
   ]
  },
  {
   "cell_type": "markdown",
   "metadata": {
    "collapsed": true
   },
   "source": [
    "o MODELO DE PREDIÇÃO PELA MÉDIA (Sem uso de variável explicativa)."
   ]
  },
  {
   "cell_type": "code",
   "execution_count": null,
   "metadata": {},
   "outputs": [],
   "source": []
  },
  {
   "cell_type": "code",
   "execution_count": null,
   "metadata": {},
   "outputs": [],
   "source": []
  },
  {
   "cell_type": "markdown",
   "metadata": {
    "collapsed": true
   },
   "source": [
    "o MODELO DOS K VIZINHOS MAIS PRÓXIMOS (K-Nearest Neighbors Regression)"
   ]
  },
  {
   "cell_type": "code",
   "execution_count": null,
   "metadata": {},
   "outputs": [],
   "source": []
  },
  {
   "cell_type": "code",
   "execution_count": null,
   "metadata": {},
   "outputs": [],
   "source": []
  },
  {
   "cell_type": "markdown",
   "metadata": {
    "collapsed": true
   },
   "source": [
    "o MODELO DE REGRESSÃO LINEAR (Multiple Linear Regression)"
   ]
  },
  {
   "cell_type": "code",
   "execution_count": null,
   "metadata": {},
   "outputs": [],
   "source": []
  },
  {
   "cell_type": "code",
   "execution_count": null,
   "metadata": {},
   "outputs": [],
   "source": []
  },
  {
   "cell_type": "markdown",
   "metadata": {
    "collapsed": true
   },
   "source": [
    "o MODELO DE ÁRVORES DE REGRESSÃO (Decision Tree Regression)"
   ]
  },
  {
   "cell_type": "code",
   "execution_count": null,
   "metadata": {},
   "outputs": [],
   "source": []
  },
  {
   "cell_type": "code",
   "execution_count": null,
   "metadata": {},
   "outputs": [],
   "source": []
  },
  {
   "cell_type": "markdown",
   "metadata": {
    "collapsed": true
   },
   "source": [
    "___\n",
    "## D. PROCESSO E ESTATÍSTICAS DE VALIDAÇÃO"
   ]
  },
  {
   "cell_type": "markdown",
   "metadata": {},
   "source": [
    "[Esse item depende dos resultados das modelagens anteriores! Organize-os aqui de forma clara!]"
   ]
  },
  {
   "cell_type": "code",
   "execution_count": null,
   "metadata": {},
   "outputs": [],
   "source": []
  },
  {
   "cell_type": "code",
   "execution_count": null,
   "metadata": {},
   "outputs": [],
   "source": []
  },
  {
   "cell_type": "code",
   "execution_count": null,
   "metadata": {},
   "outputs": [],
   "source": []
  },
  {
   "cell_type": "code",
   "execution_count": null,
   "metadata": {},
   "outputs": [],
   "source": []
  },
  {
   "cell_type": "markdown",
   "metadata": {},
   "source": [
    "___\n",
    "## E. CONCLUSÃO"
   ]
  },
  {
   "cell_type": "code",
   "execution_count": null,
   "metadata": {},
   "outputs": [],
   "source": []
  },
  {
   "cell_type": "code",
   "execution_count": null,
   "metadata": {},
   "outputs": [],
   "source": []
  },
  {
   "cell_type": "code",
   "execution_count": null,
   "metadata": {},
   "outputs": [],
   "source": []
  },
  {
   "cell_type": "code",
   "execution_count": null,
   "metadata": {},
   "outputs": [],
   "source": []
  },
  {
   "cell_type": "markdown",
   "metadata": {},
   "source": [
    "___\n",
    "## F. REFERÊNCIAS BIBLIOGRÁFICAS"
   ]
  },
  {
   "cell_type": "code",
   "execution_count": null,
   "metadata": {},
   "outputs": [],
   "source": []
  },
  {
   "cell_type": "code",
   "execution_count": null,
   "metadata": {},
   "outputs": [],
   "source": []
  },
  {
   "cell_type": "code",
   "execution_count": null,
   "metadata": {},
   "outputs": [],
   "source": []
  },
  {
   "cell_type": "code",
   "execution_count": null,
   "metadata": {},
   "outputs": [],
   "source": []
  }
 ],
 "metadata": {
  "anaconda-cloud": {},
  "kernelspec": {
   "display_name": "Python 3",
   "language": "python",
   "name": "python3"
  },
  "language_info": {
   "codemirror_mode": {
    "name": "ipython",
    "version": 3
   },
   "file_extension": ".py",
   "mimetype": "text/x-python",
   "name": "python",
   "nbconvert_exporter": "python",
   "pygments_lexer": "ipython3",
   "version": "3.7.1"
  }
 },
 "nbformat": 4,
 "nbformat_minor": 1
}
