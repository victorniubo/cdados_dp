{
 "cells": [
  {
   "cell_type": "markdown",
   "metadata": {},
   "source": [
    "___\n",
    "## Ciência dos Dados - PROJETO 3 - INSPER"
   ]
  },
  {
   "cell_type": "markdown",
   "metadata": {},
   "source": [
    "___\n",
    "#### Victor Arruda Niubó\n",
    "\n",
    "#### Giovanni Pertence Cardoso dos Santos\n",
    "\n",
    "#### Gustavo Schlieper Tessitore\n",
    "\n",
    "#### Leonardo Cesari Costa\n",
    "___"
   ]
  },
  {
   "cell_type": "markdown",
   "metadata": {},
   "source": [
    "# Previsão da quantidade de views"
   ]
  },
  {
   "cell_type": "markdown",
   "metadata": {},
   "source": [
    "___\n",
    "\n",
    "## 1. INTRODUÇÃO"
   ]
  },
  {
   "cell_type": "markdown",
   "metadata": {},
   "source": [
    "O objetivo do projeto é estimar a quantidade de visualizações que um vídeo terá com base no título, horário de publicação e as tags atribuidas aos vídeos."
   ]
  },
  {
   "cell_type": "markdown",
   "metadata": {},
   "source": [
    "___\n",
    "## 2. MINERANDO DADOS e CARACTERÍSTICAS DO DATASET"
   ]
  },
  {
   "cell_type": "markdown",
   "metadata": {},
   "source": [
    " "
   ]
  },
  {
   "cell_type": "code",
   "execution_count": 1,
   "metadata": {},
   "outputs": [],
   "source": [
    "import pandas as pd\n",
    "import numpy as np\n",
    "import itertools\n",
    "import json\n",
    "import os"
   ]
  },
  {
   "cell_type": "code",
   "execution_count": 2,
   "metadata": {
    "scrolled": true
   },
   "outputs": [
    {
     "name": "stdout",
     "output_type": "stream",
     "text": [
      "Esperamos trabalhar no diretório\n",
      "C:\\Users\\gugat\\Desktop\\Insper DS 2018.1\\2.1 semestre\\Dados\\cdados_dp\\P3\n"
     ]
    }
   ],
   "source": [
    "print('Esperamos trabalhar no diretório')\n",
    "print(os.getcwd())"
   ]
  },
  {
   "cell_type": "markdown",
   "metadata": {},
   "source": [
    "### BASE DE DADOS"
   ]
  },
  {
   "cell_type": "code",
   "execution_count": 3,
   "metadata": {
    "scrolled": true
   },
   "outputs": [
    {
     "data": {
      "text/html": [
       "<div>\n",
       "<style scoped>\n",
       "    .dataframe tbody tr th:only-of-type {\n",
       "        vertical-align: middle;\n",
       "    }\n",
       "\n",
       "    .dataframe tbody tr th {\n",
       "        vertical-align: top;\n",
       "    }\n",
       "\n",
       "    .dataframe thead th {\n",
       "        text-align: right;\n",
       "    }\n",
       "</style>\n",
       "<table border=\"1\" class=\"dataframe\">\n",
       "  <thead>\n",
       "    <tr style=\"text-align: right;\">\n",
       "      <th></th>\n",
       "      <th>views</th>\n",
       "      <th>title</th>\n",
       "      <th>tags</th>\n",
       "      <th>category_id</th>\n",
       "    </tr>\n",
       "  </thead>\n",
       "  <tbody>\n",
       "    <tr>\n",
       "      <th>0</th>\n",
       "      <td>748374</td>\n",
       "      <td>WE WANT TO TALK ABOUT OUR MARRIAGE</td>\n",
       "      <td>SHANtell martin</td>\n",
       "      <td>22</td>\n",
       "    </tr>\n",
       "    <tr>\n",
       "      <th>1</th>\n",
       "      <td>2418783</td>\n",
       "      <td>The Trump Presidency: Last Week Tonight with J...</td>\n",
       "      <td>last week tonight trump presidency|last week t...</td>\n",
       "      <td>24</td>\n",
       "    </tr>\n",
       "    <tr>\n",
       "      <th>2</th>\n",
       "      <td>3191434</td>\n",
       "      <td>Racist Superman | Rudy Mancuso, King Bach &amp; Le...</td>\n",
       "      <td>racist superman|rudy|mancuso|king|bach|racist|...</td>\n",
       "      <td>23</td>\n",
       "    </tr>\n",
       "    <tr>\n",
       "      <th>3</th>\n",
       "      <td>343168</td>\n",
       "      <td>Nickelback Lyrics: Real or Fake?</td>\n",
       "      <td>rhett and link|gmm|good mythical morning|rhett...</td>\n",
       "      <td>24</td>\n",
       "    </tr>\n",
       "    <tr>\n",
       "      <th>4</th>\n",
       "      <td>2095731</td>\n",
       "      <td>I Dare You: GOING BALD!?</td>\n",
       "      <td>ryan|higa|higatv|nigahiga|i dare you|idy|rhpc|...</td>\n",
       "      <td>24</td>\n",
       "    </tr>\n",
       "  </tbody>\n",
       "</table>\n",
       "</div>"
      ],
      "text/plain": [
       "     views                                              title  \\\n",
       "0   748374                 WE WANT TO TALK ABOUT OUR MARRIAGE   \n",
       "1  2418783  The Trump Presidency: Last Week Tonight with J...   \n",
       "2  3191434  Racist Superman | Rudy Mancuso, King Bach & Le...   \n",
       "3   343168                   Nickelback Lyrics: Real or Fake?   \n",
       "4  2095731                           I Dare You: GOING BALD!?   \n",
       "\n",
       "                                                tags  category_id  \n",
       "0                                    SHANtell martin           22  \n",
       "1  last week tonight trump presidency|last week t...           24  \n",
       "2  racist superman|rudy|mancuso|king|bach|racist|...           23  \n",
       "3  rhett and link|gmm|good mythical morning|rhett...           24  \n",
       "4  ryan|higa|higatv|nigahiga|i dare you|idy|rhpc|...           24  "
      ]
     },
     "execution_count": 3,
     "metadata": {},
     "output_type": "execute_result"
    }
   ],
   "source": [
    "# Base de dados dos videos em destaque do youtube US\n",
    "you_data = pd.read_csv(\"USvideos.csv\")\n",
    "# jason que contém a relação id - categoria\n",
    "ids = json.loads(open('US_category_id.json').read())\n",
    "\n",
    "# filtro das variáveis de interesse\n",
    "you_analysis = you_data.loc[you_data.views|you_data.title|you_data.tags|you_data.category_id,\\\n",
    "                           ['views', 'title', 'tags', 'category_id']]\n",
    "\n",
    "you_analysis.head()"
   ]
  },
  {
   "cell_type": "code",
   "execution_count": 4,
   "metadata": {
    "scrolled": true
   },
   "outputs": [
    {
     "data": {
      "text/html": [
       "<div>\n",
       "<style scoped>\n",
       "    .dataframe tbody tr th:only-of-type {\n",
       "        vertical-align: middle;\n",
       "    }\n",
       "\n",
       "    .dataframe tbody tr th {\n",
       "        vertical-align: top;\n",
       "    }\n",
       "\n",
       "    .dataframe thead th {\n",
       "        text-align: right;\n",
       "    }\n",
       "</style>\n",
       "<table border=\"1\" class=\"dataframe\">\n",
       "  <thead>\n",
       "    <tr style=\"text-align: right;\">\n",
       "      <th></th>\n",
       "      <th>views</th>\n",
       "      <th>title</th>\n",
       "      <th>tags</th>\n",
       "      <th>category_id</th>\n",
       "      <th>tags_split</th>\n",
       "    </tr>\n",
       "  </thead>\n",
       "  <tbody>\n",
       "    <tr>\n",
       "      <th>0</th>\n",
       "      <td>748374</td>\n",
       "      <td>WE WANT TO TALK ABOUT OUR MARRIAGE</td>\n",
       "      <td>SHANtell martin</td>\n",
       "      <td>22</td>\n",
       "      <td>[SHANtell martin]</td>\n",
       "    </tr>\n",
       "    <tr>\n",
       "      <th>1</th>\n",
       "      <td>2418783</td>\n",
       "      <td>The Trump Presidency: Last Week Tonight with J...</td>\n",
       "      <td>last week tonight trump presidency|last week t...</td>\n",
       "      <td>24</td>\n",
       "      <td>[last week tonight trump presidency, last week...</td>\n",
       "    </tr>\n",
       "    <tr>\n",
       "      <th>2</th>\n",
       "      <td>3191434</td>\n",
       "      <td>Racist Superman | Rudy Mancuso, King Bach &amp; Le...</td>\n",
       "      <td>racist superman|rudy|mancuso|king|bach|racist|...</td>\n",
       "      <td>23</td>\n",
       "      <td>[racist superman, rudy, mancuso, king, bach, r...</td>\n",
       "    </tr>\n",
       "  </tbody>\n",
       "</table>\n",
       "</div>"
      ],
      "text/plain": [
       "     views                                              title  \\\n",
       "0   748374                 WE WANT TO TALK ABOUT OUR MARRIAGE   \n",
       "1  2418783  The Trump Presidency: Last Week Tonight with J...   \n",
       "2  3191434  Racist Superman | Rudy Mancuso, King Bach & Le...   \n",
       "\n",
       "                                                tags  category_id  \\\n",
       "0                                    SHANtell martin           22   \n",
       "1  last week tonight trump presidency|last week t...           24   \n",
       "2  racist superman|rudy|mancuso|king|bach|racist|...           23   \n",
       "\n",
       "                                          tags_split  \n",
       "0                                  [SHANtell martin]  \n",
       "1  [last week tonight trump presidency, last week...  \n",
       "2  [racist superman, rudy, mancuso, king, bach, r...  "
      ]
     },
     "execution_count": 4,
     "metadata": {},
     "output_type": "execute_result"
    }
   ],
   "source": [
    "# separação da string das tags em uma lista de strings\n",
    "tags_split = you_analysis.tags.str.split(pat = '|')\n",
    "you_analysis['tags_split'] = tags_split\n",
    "you_analysis.head(3)"
   ]
  },
  {
   "cell_type": "markdown",
   "metadata": {},
   "source": [
    "### ANÁLISE DESCRITIVA"
   ]
  },
  {
   "cell_type": "code",
   "execution_count": 91,
   "metadata": {},
   "outputs": [
    {
     "data": {
      "text/plain": [
       "funny                             3603\n",
       "comedy                            2931\n",
       "how to                            1604\n",
       "music                             1302\n",
       "Pop                               1280\n",
       "2018                              1275\n",
       "humor                             1185\n",
       "food                              1159\n",
       "science                           1111\n",
       "review                            1005\n",
       "makeup                             990\n",
       "news                               988\n",
       "celebrity                          930\n",
       "vlog                               928\n",
       "video                              890\n",
       "tutorial                           864\n",
       "live                               862\n",
       "comedian                           861\n",
       "interview                          845\n",
       "cooking                            802\n",
       "television                         779\n",
       "celebrities                        769\n",
       "fun                                737\n",
       "movie                              734\n",
       "cute                               730\n",
       "family friendly                    719\n",
       "Comedy                             716\n",
       "trailer                            711\n",
       "Trailer                            702\n",
       "beauty                             695\n",
       "                                  ... \n",
       "asus zenfone 5 unboxing              1\n",
       "online trading                       1\n",
       "Ashley Graham Live Boldly            1\n",
       "acoustic indie                       1\n",
       "the jaguar                           1\n",
       "rookie-sophomore                     1\n",
       "iisuperwomanii shane daeson          1\n",
       "roland garros                        1\n",
       "rat takes shower like human          1\n",
       "iPhone 10 review                     1\n",
       "ted                                  1\n",
       "nano kitty                           1\n",
       "lebron jr smith                      1\n",
       "ROV                                  1\n",
       "internet service providers           1\n",
       "cracker spread                       1\n",
       "meatless mondays                     1\n",
       "one handed ucf football player       1\n",
       "conor mcgregor barclays              1\n",
       "ozgo                                 1\n",
       "liam hemsworth                       1\n",
       "momiji                               1\n",
       "Raquel Zimmerman                     1\n",
       "super bowl xxxix                     1\n",
       "rosie huntington                     1\n",
       "foles eagles                         1\n",
       "Twenty one pilots                    1\n",
       "Baby Bump                            1\n",
       "wimbledon                            1\n",
       "pet snail                            1\n",
       "Name: col, Length: 56691, dtype: int64"
      ]
     },
     "execution_count": 91,
     "metadata": {},
     "output_type": "execute_result"
    }
   ],
   "source": [
    "merged = list(itertools.chain(*you_analysis.tags_split))\n",
    "contador = pd.DataFrame({'col':merged})\n",
    "limpino = contador[contador.col != '[none]']\n",
    "limpino.col.value_counts()"
   ]
  },
  {
   "cell_type": "markdown",
   "metadata": {},
   "source": [
    "___\n",
    "## C. MODELOS DE PREDIÇÃO"
   ]
  },
  {
   "cell_type": "markdown",
   "metadata": {
    "collapsed": true
   },
   "source": [
    "o MODELO DE PREDIÇÃO PELA MÉDIA (Sem uso de variável explicativa)."
   ]
  },
  {
   "cell_type": "code",
   "execution_count": null,
   "metadata": {},
   "outputs": [],
   "source": []
  },
  {
   "cell_type": "code",
   "execution_count": null,
   "metadata": {},
   "outputs": [],
   "source": []
  },
  {
   "cell_type": "markdown",
   "metadata": {
    "collapsed": true
   },
   "source": [
    "o MODELO DOS K VIZINHOS MAIS PRÓXIMOS (K-Nearest Neighbors Regression)"
   ]
  },
  {
   "cell_type": "code",
   "execution_count": null,
   "metadata": {},
   "outputs": [],
   "source": []
  },
  {
   "cell_type": "code",
   "execution_count": null,
   "metadata": {},
   "outputs": [],
   "source": []
  },
  {
   "cell_type": "markdown",
   "metadata": {
    "collapsed": true
   },
   "source": [
    "o MODELO DE REGRESSÃO LINEAR (Multiple Linear Regression)"
   ]
  },
  {
   "cell_type": "code",
   "execution_count": null,
   "metadata": {},
   "outputs": [],
   "source": []
  },
  {
   "cell_type": "code",
   "execution_count": null,
   "metadata": {},
   "outputs": [],
   "source": []
  },
  {
   "cell_type": "markdown",
   "metadata": {
    "collapsed": true
   },
   "source": [
    "o MODELO DE ÁRVORES DE REGRESSÃO (Decision Tree Regression)"
   ]
  },
  {
   "cell_type": "code",
   "execution_count": null,
   "metadata": {},
   "outputs": [],
   "source": []
  },
  {
   "cell_type": "code",
   "execution_count": null,
   "metadata": {},
   "outputs": [],
   "source": []
  },
  {
   "cell_type": "markdown",
   "metadata": {
    "collapsed": true
   },
   "source": [
    "___\n",
    "## D. PROCESSO E ESTATÍSTICAS DE VALIDAÇÃO"
   ]
  },
  {
   "cell_type": "markdown",
   "metadata": {},
   "source": [
    "[Esse item depende dos resultados das modelagens anteriores! Organize-os aqui de forma clara!]"
   ]
  },
  {
   "cell_type": "code",
   "execution_count": null,
   "metadata": {},
   "outputs": [],
   "source": []
  },
  {
   "cell_type": "code",
   "execution_count": null,
   "metadata": {},
   "outputs": [],
   "source": []
  },
  {
   "cell_type": "code",
   "execution_count": null,
   "metadata": {},
   "outputs": [],
   "source": []
  },
  {
   "cell_type": "code",
   "execution_count": null,
   "metadata": {},
   "outputs": [],
   "source": []
  },
  {
   "cell_type": "markdown",
   "metadata": {},
   "source": [
    "___\n",
    "## E. CONCLUSÃO"
   ]
  },
  {
   "cell_type": "code",
   "execution_count": null,
   "metadata": {},
   "outputs": [],
   "source": []
  },
  {
   "cell_type": "code",
   "execution_count": null,
   "metadata": {},
   "outputs": [],
   "source": []
  },
  {
   "cell_type": "code",
   "execution_count": null,
   "metadata": {},
   "outputs": [],
   "source": []
  },
  {
   "cell_type": "code",
   "execution_count": null,
   "metadata": {},
   "outputs": [],
   "source": []
  },
  {
   "cell_type": "markdown",
   "metadata": {},
   "source": [
    "___\n",
    "## F. REFERÊNCIAS BIBLIOGRÁFICAS"
   ]
  },
  {
   "cell_type": "code",
   "execution_count": null,
   "metadata": {},
   "outputs": [],
   "source": []
  },
  {
   "cell_type": "code",
   "execution_count": null,
   "metadata": {},
   "outputs": [],
   "source": []
  },
  {
   "cell_type": "code",
   "execution_count": null,
   "metadata": {},
   "outputs": [],
   "source": []
  },
  {
   "cell_type": "code",
   "execution_count": null,
   "metadata": {},
   "outputs": [],
   "source": []
  }
 ],
 "metadata": {
  "anaconda-cloud": {},
  "kernelspec": {
   "display_name": "Python 3",
   "language": "python",
   "name": "python3"
  },
  "language_info": {
   "codemirror_mode": {
    "name": "ipython",
    "version": 3
   },
   "file_extension": ".py",
   "mimetype": "text/x-python",
   "name": "python",
   "nbconvert_exporter": "python",
   "pygments_lexer": "ipython3",
   "version": "3.7.1"
  }
 },
 "nbformat": 4,
 "nbformat_minor": 1
}
