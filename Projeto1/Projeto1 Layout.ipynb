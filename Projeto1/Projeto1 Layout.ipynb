{
 "cells": [
  {
   "cell_type": "markdown",
   "metadata": {},
   "source": [
    "___\n",
    "# Ciência dos Dados - PROJETO 1"
   ]
  },
  {
   "cell_type": "markdown",
   "metadata": {},
   "source": [
    "### Victor Arruda Niubó e Bruno Morales Balkins\n",
    "\n",
    "    "
   ]
  },
  {
   "cell_type": "markdown",
   "metadata": {},
   "source": [
    "## Perfil das mulheres como chefes de família:"
   ]
  },
  {
   "cell_type": "markdown",
   "metadata": {},
   "source": [
    "___\n",
    "## Introdução\n",
    "\n",
    "\n",
    "Nesse projeto iremos analisar o perfil de mulheres no papel de chefes de família e comparar com homens no mesmo papel, para isso escolhemos as seguintes variáveis do banco de dados:\n",
    "    - V0302: Sexo.\n",
    "    - V8005: Idade.\n",
    "    - V0402: Condição na familia\n",
    "    - V4704: Condição de atividade na semana de referência para pessoas de 10 anos ou mais de idade.\n",
    "    - V4805: Condição de ocupação na semana de referência para pessoas de 10 anos ou mais de idade.\n",
    "    - V4706: Posição na ocupação no trabalho principal da semana de referência para pessoas de 10 anos ou mais de \n",
    "    idade."
   ]
  },
  {
   "cell_type": "markdown",
   "metadata": {},
   "source": [
    "## Pergunta:\n",
    "### Quais as diferenças entre homens e mulheres chefes de família?"
   ]
  },
  {
   "cell_type": "markdown",
   "metadata": {},
   "source": [
    "___\n",
    "## Filtros da base de dados"
   ]
  },
  {
   "cell_type": "code",
   "execution_count": 1,
   "metadata": {},
   "outputs": [],
   "source": [
    "%matplotlib inline\n",
    "import pandas as pd\n",
    "import matplotlib.pyplot as plt\n",
    "import numpy as np\n",
    "import os"
   ]
  },
  {
   "cell_type": "code",
   "execution_count": 2,
   "metadata": {},
   "outputs": [],
   "source": [
    "dados = pd.read_csv('PES2015.csv',sep=',')"
   ]
  },
  {
   "cell_type": "code",
   "execution_count": 3,
   "metadata": {},
   "outputs": [],
   "source": [
    "#Filtro de dados:\n",
    "\n",
    "dados_filtrados = dados.loc[(dados.V0302)|(dados.V8005)|(dados.V0402)|(dados.V4704)|(dados.V4805)|(dados.V4706), \\\n",
    "          ['V0302','V8005','V0402','V4704','V4805','V4706']]\n",
    "\n",
    "#Mudando nomes das colunas:\n",
    "\n",
    "dados_filtrados.rename(columns={'V0302':'Sexo','V8005':'Idade','V0402':'Condicao_familia',\\\n",
    "                                'V4704':'Atividade_na_semana','V4805':'Ocupação_na_semana',\\\n",
    "                                'V4706':'Posicao_no_Trabalho'}, inplace=True)\n"
   ]
  },
  {
   "cell_type": "code",
   "execution_count": 4,
   "metadata": {},
   "outputs": [],
   "source": [
    "df2 = dados_filtrados.dropna(subset = ['Atividade_na_semana','Ocupação_na_semana','Posicao_no_Trabalho'])"
   ]
  },
  {
   "cell_type": "code",
   "execution_count": 5,
   "metadata": {},
   "outputs": [],
   "source": [
    "df2 = df2[(df2['Condicao_familia'])== 1]\n",
    "df2 = df2[(df2['Atividade_na_semana'])== 1]\n",
    "df2 = df2[(df2['Ocupação_na_semana'])== 1]\n",
    "df2 = df2[(df2['Posicao_no_Trabalho'])!= 13]"
   ]
  },
  {
   "cell_type": "code",
   "execution_count": 6,
   "metadata": {},
   "outputs": [],
   "source": [
    "df2.Sexo = df2.Sexo.astype('category')\n",
    "df2.Idade = df2.Idade.astype('float')\n",
    "df2['Condicao_familia'] = df2['Condicao_familia'].astype('category')\n",
    "df2['Atividade_na_semana'] = df2['Atividade_na_semana'].astype('category')\n",
    "df2['Ocupação_na_semana'] = df2['Ocupação_na_semana'].astype('category')\n",
    "df2['Posicao_no_Trabalho'] = df2['Posicao_no_Trabalho'].astype('category')"
   ]
  },
  {
   "cell_type": "code",
   "execution_count": 7,
   "metadata": {},
   "outputs": [],
   "source": [
    "df2.Sexo.cat.categories = (['M','F'])\n",
    "df2['Condicao_familia'].cat.categories = (['Pessoa de referência'])\n",
    "df2['Atividade_na_semana'].cat.categories = (['Economicamente ativa'])\n",
    "df2['Ocupação_na_semana'].cat.categories = (['Ocupada'])\n",
    "df2['Posicao_no_Trabalho'].cat.categories = (['Empregado com carteira de trabalho assinada','Militar',\\\n",
    "                                              'Funcionário público estatutário',\\\n",
    "                                              'Outro empregado sem carteira de trabalho assinada',\\\n",
    "                                              'Trabalhador doméstico com carteira de trabalho assinada',\\\n",
    "                                             'Trabalhador doméstico sem carteira  de trabalho assinada',\\\n",
    "                                             'Conta própria','Empregador','Trabalhador na produção para o próprio consumo',\\\n",
    "                                             'Trabalhador na construção para o próprio uso'])\n",
    "\n",
    "\n"
   ]
  },
  {
   "cell_type": "code",
   "execution_count": 8,
   "metadata": {},
   "outputs": [
    {
     "data": {
      "text/html": [
       "<div>\n",
       "<style scoped>\n",
       "    .dataframe tbody tr th:only-of-type {\n",
       "        vertical-align: middle;\n",
       "    }\n",
       "\n",
       "    .dataframe tbody tr th {\n",
       "        vertical-align: top;\n",
       "    }\n",
       "\n",
       "    .dataframe thead th {\n",
       "        text-align: right;\n",
       "    }\n",
       "</style>\n",
       "<table border=\"1\" class=\"dataframe\">\n",
       "  <thead>\n",
       "    <tr style=\"text-align: right;\">\n",
       "      <th>Posicao_no_Trabalho</th>\n",
       "      <th>Empregado com carteira de trabalho assinada</th>\n",
       "      <th>Militar</th>\n",
       "      <th>Funcionário público estatutário</th>\n",
       "      <th>Outro empregado sem carteira de trabalho assinada</th>\n",
       "      <th>Trabalhador doméstico com carteira de trabalho assinada</th>\n",
       "      <th>Trabalhador doméstico sem carteira  de trabalho assinada</th>\n",
       "      <th>Conta própria</th>\n",
       "      <th>Empregador</th>\n",
       "      <th>Trabalhador na produção para o próprio consumo</th>\n",
       "      <th>Trabalhador na construção para o próprio uso</th>\n",
       "    </tr>\n",
       "    <tr>\n",
       "      <th>Sexo</th>\n",
       "      <th></th>\n",
       "      <th></th>\n",
       "      <th></th>\n",
       "      <th></th>\n",
       "      <th></th>\n",
       "      <th></th>\n",
       "      <th></th>\n",
       "      <th></th>\n",
       "      <th></th>\n",
       "      <th></th>\n",
       "    </tr>\n",
       "  </thead>\n",
       "  <tbody>\n",
       "    <tr>\n",
       "      <th>M</th>\n",
       "      <td>21021</td>\n",
       "      <td>281</td>\n",
       "      <td>3596</td>\n",
       "      <td>7308</td>\n",
       "      <td>315</td>\n",
       "      <td>315</td>\n",
       "      <td>17772</td>\n",
       "      <td>3290</td>\n",
       "      <td>1577</td>\n",
       "      <td>96</td>\n",
       "    </tr>\n",
       "    <tr>\n",
       "      <th>F</th>\n",
       "      <td>8031</td>\n",
       "      <td>21</td>\n",
       "      <td>3065</td>\n",
       "      <td>2686</td>\n",
       "      <td>1345</td>\n",
       "      <td>3226</td>\n",
       "      <td>5594</td>\n",
       "      <td>662</td>\n",
       "      <td>875</td>\n",
       "      <td>10</td>\n",
       "    </tr>\n",
       "  </tbody>\n",
       "</table>\n",
       "</div>"
      ],
      "text/plain": [
       "Posicao_no_Trabalho  Empregado com carteira de trabalho assinada  Militar  \\\n",
       "Sexo                                                                        \n",
       "M                                                          21021      281   \n",
       "F                                                           8031       21   \n",
       "\n",
       "Posicao_no_Trabalho  Funcionário público estatutário  \\\n",
       "Sexo                                                   \n",
       "M                                               3596   \n",
       "F                                               3065   \n",
       "\n",
       "Posicao_no_Trabalho  Outro empregado sem carteira de trabalho assinada  \\\n",
       "Sexo                                                                     \n",
       "M                                                                 7308   \n",
       "F                                                                 2686   \n",
       "\n",
       "Posicao_no_Trabalho  Trabalhador doméstico com carteira de trabalho assinada  \\\n",
       "Sexo                                                                           \n",
       "M                                                                  315         \n",
       "F                                                                 1345         \n",
       "\n",
       "Posicao_no_Trabalho  Trabalhador doméstico sem carteira  de trabalho assinada  \\\n",
       "Sexo                                                                            \n",
       "M                                                                  315          \n",
       "F                                                                 3226          \n",
       "\n",
       "Posicao_no_Trabalho  Conta própria  Empregador  \\\n",
       "Sexo                                             \n",
       "M                            17772        3290   \n",
       "F                             5594         662   \n",
       "\n",
       "Posicao_no_Trabalho  Trabalhador na produção para o próprio consumo  \\\n",
       "Sexo                                                                  \n",
       "M                                                              1577   \n",
       "F                                                               875   \n",
       "\n",
       "Posicao_no_Trabalho  Trabalhador na construção para o próprio uso  \n",
       "Sexo                                                               \n",
       "M                                                              96  \n",
       "F                                                              10  "
      ]
     },
     "execution_count": 8,
     "metadata": {},
     "output_type": "execute_result"
    }
   ],
   "source": [
    "pd.crosstab(index=[df2.Sexo], columns=[df2.Posicao_no_Trabalho])"
   ]
  },
  {
   "cell_type": "code",
   "execution_count": 9,
   "metadata": {},
   "outputs": [
    {
     "name": "stdout",
     "output_type": "stream",
     "text": [
      "M    55571\n",
      "F    25515\n",
      "Name: Sexo, dtype: int64 \n",
      "\n"
     ]
    }
   ],
   "source": [
    "ut1 = df2.Sexo.value_counts(sort=False)\n",
    "print(ut1,'\\n')"
   ]
  },
  {
   "cell_type": "code",
   "execution_count": 10,
   "metadata": {},
   "outputs": [
    {
     "name": "stdout",
     "output_type": "stream",
     "text": [
      "Empregado com carteira de trabalho assinada                 29052\n",
      "Militar                                                       302\n",
      "Funcionário público estatutário                              6661\n",
      "Outro empregado sem carteira de trabalho assinada            9994\n",
      "Trabalhador doméstico com carteira de trabalho assinada      1660\n",
      "Trabalhador doméstico sem carteira  de trabalho assinada     3541\n",
      "Conta própria                                               23366\n",
      "Empregador                                                   3952\n",
      "Trabalhador na produção para o próprio consumo               2452\n",
      "Trabalhador na construção para o próprio uso                  106\n",
      "Name: Posicao_no_Trabalho, dtype: int64 \n",
      "\n"
     ]
    }
   ],
   "source": [
    "ut3 = df2.Posicao_no_Trabalho.value_counts(sort=False)\n",
    "print(ut3,'\\n')"
   ]
  },
  {
   "cell_type": "code",
   "execution_count": 11,
   "metadata": {},
   "outputs": [
    {
     "name": "stdout",
     "output_type": "stream",
     "text": [
      "M    68.5\n",
      "F    31.5\n",
      "Name: Sexo, dtype: float64 \n",
      "\n",
      "Empregado com carteira de trabalho assinada                 35.8\n",
      "Conta própria                                               28.8\n",
      "Outro empregado sem carteira de trabalho assinada           12.3\n",
      "Funcionário público estatutário                              8.2\n",
      "Empregador                                                   4.9\n",
      "Trabalhador doméstico sem carteira  de trabalho assinada     4.4\n",
      "Trabalhador na produção para o próprio consumo               3.0\n",
      "Trabalhador doméstico com carteira de trabalho assinada      2.0\n",
      "Militar                                                      0.4\n",
      "Trabalhador na construção para o próprio uso                 0.1\n",
      "Name: Posicao_no_Trabalho, dtype: float64 \n",
      "\n"
     ]
    }
   ],
   "source": [
    "\n",
    "ut1 = (df2.Sexo.value_counts(sort=False, normalize=True)*100).round(decimals=1)\n",
    "print(ut1,'\\n')\n",
    "\n",
    "ut3 = (df2.Posicao_no_Trabalho.value_counts(sort=True, normalize=True)*100).round(decimals=1)\n",
    "print(ut3,'\\n')\n"
   ]
  },
  {
   "cell_type": "markdown",
   "metadata": {},
   "source": [
    "___\n",
    "## Análise e Resultados"
   ]
  },
  {
   "cell_type": "code",
   "execution_count": 12,
   "metadata": {},
   "outputs": [
    {
     "data": {
      "image/png": "[encoded data removed]",
      "text/plain": [
       "<Figure size 432x432 with 1 Axes>"
      ]
     },
     "metadata": {
      "needs_background": "light"
     },
     "output_type": "display_data"
    }
   ],
   "source": [
    "plot = ut1.plot(kind='bar',title='SEXO',figsize=(6, 6),color=('b','g'))\n",
    "plt.ylabel('Freq.Relativa (em %)')\n",
    "plt.xlabel('Sexo')\n",
    "plt.show()"
   ]
  },
  {
   "cell_type": "markdown",
   "metadata": {},
   "source": [
    "#### Percebe-se por esse gráfico que a proporção de homens e mulheres como pessoas de referência em suas casas é de aproximadamente 70% e 30%. O que mostra uma desigualdade significativa no papel de lider do lar."
   ]
  },
  {
   "cell_type": "markdown",
   "metadata": {},
   "source": [
    " \n",
    " "
   ]
  },
  {
   "cell_type": "markdown",
   "metadata": {},
   "source": [
    " "
   ]
  },
  {
   "cell_type": "markdown",
   "metadata": {},
   "source": [
    " "
   ]
  },
  {
   "cell_type": "code",
   "execution_count": 13,
   "metadata": {},
   "outputs": [
    {
     "data": {
      "image/png": "[encoded data removed]",
      "text/plain": [
       "<Figure size 432x432 with 1 Axes>"
      ]
     },
     "metadata": {
      "needs_background": "light"
     },
     "output_type": "display_data"
    }
   ],
   "source": [
    "plot = ut3.plot(kind='bar',title='POSICAO NO TRABALHO',figsize=(6, 6),color=('b','g','r','c','m'))\n",
    "plt.ylabel('Freq.Relativa (em %)')\n",
    "plt.xlabel('Posicao no trabalho')\n",
    "plt.show()"
   ]
  },
  {
   "cell_type": "markdown",
   "metadata": {},
   "source": [
    "#### Aqui percebemos que empregados com carteira assinada dominam os números de chefes de família, o que é compreensível uma vez que a maioria dos trabalhadores pertencem a essa categoria, porém o fato de trabalhadores por conta própria ocupar o segundo lugar nos deixou intrigados, pois na nossa concepção existe um número muito menor de trabalhadores autonomos do que empregados, tanto com quanto sem carteira assinada."
   ]
  },
  {
   "cell_type": "markdown",
   "metadata": {},
   "source": [
    " "
   ]
  },
  {
   "cell_type": "markdown",
   "metadata": {},
   "source": [
    " "
   ]
  },
  {
   "cell_type": "markdown",
   "metadata": {},
   "source": [
    " "
   ]
  },
  {
   "cell_type": "code",
   "execution_count": 14,
   "metadata": {},
   "outputs": [
    {
     "data": {
      "text/html": [
       "<div>\n",
       "<style scoped>\n",
       "    .dataframe tbody tr th:only-of-type {\n",
       "        vertical-align: middle;\n",
       "    }\n",
       "\n",
       "    .dataframe tbody tr th {\n",
       "        vertical-align: top;\n",
       "    }\n",
       "\n",
       "    .dataframe thead th {\n",
       "        text-align: right;\n",
       "    }\n",
       "</style>\n",
       "<table border=\"1\" class=\"dataframe\">\n",
       "  <thead>\n",
       "    <tr style=\"text-align: right;\">\n",
       "      <th>SEXO</th>\n",
       "      <th>M</th>\n",
       "      <th>F</th>\n",
       "      <th>All</th>\n",
       "    </tr>\n",
       "    <tr>\n",
       "      <th>POSICAO NO TRABALHO</th>\n",
       "      <th></th>\n",
       "      <th></th>\n",
       "      <th></th>\n",
       "    </tr>\n",
       "  </thead>\n",
       "  <tbody>\n",
       "    <tr>\n",
       "      <th>Empregado com carteira de trabalho assinada</th>\n",
       "      <td>21021</td>\n",
       "      <td>8031</td>\n",
       "      <td>29052</td>\n",
       "    </tr>\n",
       "    <tr>\n",
       "      <th>Militar</th>\n",
       "      <td>281</td>\n",
       "      <td>21</td>\n",
       "      <td>302</td>\n",
       "    </tr>\n",
       "    <tr>\n",
       "      <th>Funcionário público estatutário</th>\n",
       "      <td>3596</td>\n",
       "      <td>3065</td>\n",
       "      <td>6661</td>\n",
       "    </tr>\n",
       "    <tr>\n",
       "      <th>Outro empregado sem carteira de trabalho assinada</th>\n",
       "      <td>7308</td>\n",
       "      <td>2686</td>\n",
       "      <td>9994</td>\n",
       "    </tr>\n",
       "    <tr>\n",
       "      <th>Trabalhador doméstico com carteira de trabalho assinada</th>\n",
       "      <td>315</td>\n",
       "      <td>1345</td>\n",
       "      <td>1660</td>\n",
       "    </tr>\n",
       "    <tr>\n",
       "      <th>Trabalhador doméstico sem carteira  de trabalho assinada</th>\n",
       "      <td>315</td>\n",
       "      <td>3226</td>\n",
       "      <td>3541</td>\n",
       "    </tr>\n",
       "    <tr>\n",
       "      <th>Conta própria</th>\n",
       "      <td>17772</td>\n",
       "      <td>5594</td>\n",
       "      <td>23366</td>\n",
       "    </tr>\n",
       "    <tr>\n",
       "      <th>Empregador</th>\n",
       "      <td>3290</td>\n",
       "      <td>662</td>\n",
       "      <td>3952</td>\n",
       "    </tr>\n",
       "    <tr>\n",
       "      <th>Trabalhador na produção para o próprio consumo</th>\n",
       "      <td>1577</td>\n",
       "      <td>875</td>\n",
       "      <td>2452</td>\n",
       "    </tr>\n",
       "    <tr>\n",
       "      <th>Trabalhador na construção para o próprio uso</th>\n",
       "      <td>96</td>\n",
       "      <td>10</td>\n",
       "      <td>106</td>\n",
       "    </tr>\n",
       "    <tr>\n",
       "      <th>All</th>\n",
       "      <td>55571</td>\n",
       "      <td>25515</td>\n",
       "      <td>81086</td>\n",
       "    </tr>\n",
       "  </tbody>\n",
       "</table>\n",
       "</div>"
      ],
      "text/plain": [
       "SEXO                                                    M      F    All\n",
       "POSICAO NO TRABALHO                                                    \n",
       "Empregado com carteira de trabalho assinada         21021   8031  29052\n",
       "Militar                                               281     21    302\n",
       "Funcionário público estatutário                      3596   3065   6661\n",
       "Outro empregado sem carteira de trabalho assinada    7308   2686   9994\n",
       "Trabalhador doméstico com carteira de trabalho ...    315   1345   1660\n",
       "Trabalhador doméstico sem carteira  de trabalho...    315   3226   3541\n",
       "Conta própria                                       17772   5594  23366\n",
       "Empregador                                           3290    662   3952\n",
       "Trabalhador na produção para o próprio consumo       1577    875   2452\n",
       "Trabalhador na construção para o próprio uso           96     10    106\n",
       "All                                                 55571  25515  81086"
      ]
     },
     "execution_count": 14,
     "metadata": {},
     "output_type": "execute_result"
    }
   ],
   "source": [
    "ct=pd.crosstab(df2.Posicao_no_Trabalho, df2.Sexo, margins=True, rownames=['POSICAO NO TRABALHO'], colnames=['SEXO'])\n",
    "ct"
   ]
  },
  {
   "cell_type": "markdown",
   "metadata": {},
   "source": [
    "#### Essa tabela nos mostra a obvia predominância masculina em todas as linhas de trabalho EXETO em trabalhos domésticos, tanto com quanto sem carteira de trabalho assinada. Isso ilustra a sociedade preconceituosa e segregacionista em que vivemos. (Porém esse não é o espaço para cr´ticas sociais não é mesmo)."
   ]
  },
  {
   "cell_type": "markdown",
   "metadata": {},
   "source": [
    " "
   ]
  },
  {
   "cell_type": "markdown",
   "metadata": {},
   "source": [
    " "
   ]
  },
  {
   "cell_type": "markdown",
   "metadata": {},
   "source": [
    " "
   ]
  },
  {
   "cell_type": "code",
   "execution_count": 16,
   "metadata": {},
   "outputs": [
    {
     "data": {
      "image/png": "[encoded data removed]",
      "text/plain": [
       "<Figure size 432x432 with 1 Axes>"
      ]
     },
     "metadata": {
      "needs_background": "light"
     },
     "output_type": "display_data"
    }
   ],
   "source": [
    "plot = ct.plot(kind='bar',figsize=(6, 6))\n",
    "plt.ylabel('Freq.Relativa (em %)')\n",
    "plt.show()"
   ]
  },
  {
   "cell_type": "markdown",
   "metadata": {},
   "source": [
    "#### Gráfico que ilustra com maior clareza a tabela anterior."
   ]
  },
  {
   "cell_type": "markdown",
   "metadata": {},
   "source": [
    " "
   ]
  },
  {
   "cell_type": "markdown",
   "metadata": {},
   "source": [
    " "
   ]
  },
  {
   "cell_type": "markdown",
   "metadata": {},
   "source": [
    "___\n",
    "## Conclusão "
   ]
  },
  {
   "cell_type": "markdown",
   "metadata": {},
   "source": [
    "#### Concluimos então, com base em toda analise feita, que o fato de não serem muito frequentes mulheres chefes de família se deve ao fato de que é muito menor porcentagem relativa de mulheres empregadas em relação aos homen, e mesmo as que estão empregadas tem uma média salarial menor devido a séculos de repressão e ao fato de que existe o preconceito que é trazido do berço de que a mulher deve ter como único objetivo na vida criar e cuidar de seus filhos, uma vez que vemos que aproximadamente 61% das mulheres não estão inseridas no mercado de trabalho, já no caso dos homens esse número sobe para 84% e muitas dessas mulheres que não trabalham dedicam suas vidas a cuidar de seus filhos, um dado interessante que encontramos em uma pesquisa (link abaixo) diz que 23% das mulheres deixam seus empregos para cuidar dos filhos.  "
   ]
  },
  {
   "cell_type": "markdown",
   "metadata": {},
   "source": [
    "Fonte:  https://noticias.portaldaindustria.com.br/noticias/trabalho/23-das-mulheres-deixam-o-emprego-para-cuidar-de-filhos/"
   ]
  }
 ],
 "metadata": {
  "anaconda-cloud": {},
  "kernelspec": {
   "display_name": "Python 3",
   "language": "python",
   "name": "python3"
  },
  "language_info": {
   "codemirror_mode": {
    "name": "ipython",
    "version": 3
   },
   "file_extension": ".py",
   "mimetype": "text/x-python",
   "name": "python",
   "nbconvert_exporter": "python",
   "pygments_lexer": "ipython3",
   "version": "3.6.5"
  }
 },
 "nbformat": 4,
 "nbformat_minor": 1
}
