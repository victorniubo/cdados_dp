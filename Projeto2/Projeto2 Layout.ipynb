{
 "cells": [
  {
   "cell_type": "markdown",
   "metadata": {},
   "source": [
    "___\n",
    "# Ciência dos Dados - PROJETO 2"
   ]
  },
  {
   "cell_type": "markdown",
   "metadata": {},
   "source": [
    "___\n",
    "## Giovanni dos Santos\n",
    "\n",
    "## Gustavo Tessitore\n",
    "\n",
    "## Victor Niubó\n",
    "\n",
    "___"
   ]
  },
  {
   "cell_type": "markdown",
   "metadata": {},
   "source": [
    "___\n",
    "\n",
    "## 1. Problema\n",
    "\n",
    "O Classificador Naive-Bayes, o qual se baseia no uso do teorema de Bayes, é largamente utilizado em filtros anti-spam de e-mails. O classificador permite calcular qual a probabilidade de uma mensagem ser SPAM considerando as palavras em seu conteúdo e, de forma complementar, permite calcular a probabilidade de uma mensagem ser HAM dada as palavras descritas na mensagem.\n",
    "\n",
    "Para realizar o MVP (minimum viable product) do projeto, você precisa programar uma versão do classificador que \"aprende\" o que é uma mensagem SPAM considerando uma base de treinamento e comparar o desempenho dos resultados com uma base de testes. \n"
   ]
  },
  {
   "cell_type": "markdown",
   "metadata": {},
   "source": [
    "___\n",
    "## 2. Separação da base de dados em Treinamento e Teste\n",
    "\n",
    "A base de dados deve ser separada em duas partes, aleatoriamente, considerando: \n",
    "    \n",
    "    75% dos dados para a parte Treinamento; e\n",
    "    25% dos dados para a parte Teste."
   ]
  },
  {
   "cell_type": "code",
<<<<<<< HEAD
   "execution_count": 2,
=======
   "execution_count": 44,
>>>>>>> 2b57087a959ab1a49afd10232b44efa15f977b01
   "metadata": {},
   "outputs": [],
   "source": [
    "import pandas as pd\n",
    "from scipy import stats\n",
    "import matplotlib.pyplot as plt\n",
    "import os.path\n",
    "import numpy as np\n",
    "import math\n",
    "from random import shuffle"
   ]
  },
  {
   "cell_type": "code",
<<<<<<< HEAD
   "execution_count": 3,
=======
   "execution_count": 45,
>>>>>>> 2b57087a959ab1a49afd10232b44efa15f977b01
   "metadata": {},
   "outputs": [],
   "source": [
    "emails = pd.read_excel(\"spamham2019.xlsx\") #lê o excel\n",
    "remover = [',','@','/',':',';','r$','\\n','\\(','\\)','#','\\?','-','\"','\\[','\\]']\n",
    "\n",
    "for i in remover:\n",
    "    emails.Email = emails.Email.replace(i,'',regex=True)"
   ]
  },
  {
   "cell_type": "code",
<<<<<<< HEAD
   "execution_count": 4,
=======
   "execution_count": 54,
>>>>>>> 2b57087a959ab1a49afd10232b44efa15f977b01
   "metadata": {},
   "outputs": [],
   "source": [
    "dicio = emails.to_dict('records')\n",
    "shuffle(dicio)\n",
    "df2 = pd.DataFrame.from_dict(dicio)\n",
    "df3 = df2.head(int(len(df2)*0.75))\n",
<<<<<<< HEAD
    "df4 = df2.tail(int(len(df2)*0.25))"
=======
    "df4 = df2.tail(int(len(df2)*0.05))"
>>>>>>> 2b57087a959ab1a49afd10232b44efa15f977b01
   ]
  },
  {
   "cell_type": "markdown",
   "metadata": {},
   "source": [
    "___\n",
    "## 3. Classificador Naive-Bayes"
   ]
  },
  {
   "cell_type": "code",
<<<<<<< HEAD
   "execution_count": 5,
=======
   "execution_count": 47,
>>>>>>> 2b57087a959ab1a49afd10232b44efa15f977b01
   "metadata": {},
   "outputs": [
    {
     "name": "stdout",
     "output_type": "stream",
     "text": [
      "Probabilidade de ser relevante: 86 %\n",
      "Probabilidade de ser irrelevante 13 %\n"
     ]
    }
   ],
   "source": [
    "spam = df3.Class\n",
    "\n",
    "prob = spam.value_counts()\n",
    "\n",
    "prob_ham = prob[0]/len(spam) \n",
    "\n",
    "prob_spam = prob[1]/len(spam) \n",
    "\n",
    "print(\"Probabilidade de ser relevante:\",int(prob_ham * 100),'%')\n",
    "print('Probabilidade de ser irrelevante',int(prob_spam * 100),'%')"
   ]
  },
  {
   "cell_type": "code",
<<<<<<< HEAD
   "execution_count": 6,
=======
   "execution_count": 48,
>>>>>>> 2b57087a959ab1a49afd10232b44efa15f977b01
   "metadata": {},
   "outputs": [
    {
     "data": {
      "text/plain": [
<<<<<<< HEAD
       "to     1152\n",
       "you    1113\n",
       "I       799\n",
       "dtype: int64"
      ]
     },
     "execution_count": 6,
=======
       "to     1132\n",
       "you    1124\n",
       "I       815\n",
       "dtype: int64"
      ]
     },
     "execution_count": 48,
>>>>>>> 2b57087a959ab1a49afd10232b44efa15f977b01
     "metadata": {},
     "output_type": "execute_result"
    }
   ],
   "source": [
    "presunto = df3[df3.Class == 'ham'] #Separa os presuntos relevantes\n",
    "relevantes = np.sum(presunto.Email).split()\n",
    "quant_em_relev =  pd.Series(relevantes)\n",
    "todos_relevantes = len(relevantes)\n",
    "quant_em_relev.value_counts().head(3)"
   ]
  },
  {
   "cell_type": "code",
<<<<<<< HEAD
   "execution_count": 7,
   "metadata": {},
   "outputs": [],
=======
   "execution_count": 49,
   "metadata": {},
   "outputs": [
    {
     "data": {
      "text/plain": [
       "to    450\n",
       "a     274\n",
       "or    137\n",
       "dtype: int64"
      ]
     },
     "execution_count": 49,
     "metadata": {},
     "output_type": "execute_result"
    }
   ],
>>>>>>> 2b57087a959ab1a49afd10232b44efa15f977b01
   "source": [
    "queijo = df3[df3.Class == 'spam'] #Separa os queijos relevantes\n",
    "irelevantes = np.sum(queijo.Email).split()\n",
    "quant_em_irelev =  pd.Series(irelevantes)\n",
    "todos_irelevantes = len(irelevantes)\n",
<<<<<<< HEAD
    "quant_em_irelev.value_counts().head(3)\n",
    "\n",
    "todas_as_palavras = irelevantes + relevantes"
=======
    "quant_em_irelev.value_counts().head(3)"
   ]
  },
  {
   "cell_type": "code",
   "execution_count": 55,
   "metadata": {},
   "outputs": [],
   "source": [
    "todas_as_palavras = irelevantes + relevantes\n",
    "\n",
    "\n",
    "\n",
    "def P_spam_palavra(palavra):\n",
    "    if palavra in irelevantes:\n",
    "        return ((1 + quant_em_irelev.value_counts()[palavra])/(len(todas_as_palavras) + len(irelevantes)))\n",
    "    else:\n",
    "        return 1/(len(todas_as_palavras) + len(irelevantes))\n",
    "\n",
    "def P_palavra_spam(palavra):\n",
    "    x = (P_spam_palavra(palavra) * P_palavra(palavra)) / prob_spam\n",
    "    return x\n",
    "\n",
    "def P_palavra(palavra):\n",
    "    quant_pal = (quant_em_irelev.value_counts()[palavra] + quant_em_relev.value_counts()[palavra])\n",
    "    quant_tot = len(irelevantes)+len(relevantes)\n",
    "    return (quant_pal/quant_tot)\n",
    "\n",
    "def P_ham_palavra(palavra):\n",
    "    if palavra in relevantes:\n",
    "        return ((1 + quant_em_relev.value_counts()[palavra])/(len(todas_as_palavras) + len(relevantes)))\n",
    "    else:\n",
    "        return 1/(len(todas_as_palavras) + len(irelevantes))\n",
    "\n",
    "def P_palavra_ham(palavra):\n",
    "    x = (P_ham_palavra(palavra) * P_palavra(palavra)) / prob_ham\n",
    "    return x\n",
    "\n",
    "def P_spam_mensagem(mensagem):\n",
    "    palavras = mensagem.split(' ')\n",
    "    prob = 0\n",
    "    contador = 0\n",
    "    for palavra in palavras:\n",
    "        if palavra in todas_as_palavras:\n",
    "            if contador == 0:\n",
    "                prob += P_spam_palavra(palavra)\n",
    "            else:\n",
    "                prob *= P_spam_palavra(palavra)\n",
    "        else:\n",
    "            pass\n",
    "    return prob\n",
    "\n",
    "def P_ham_mensagem(mensagem):\n",
    "    palavras = mensagem.split(' ')\n",
    "    prob = 0\n",
    "    contador = 0\n",
    "    for palavra in palavras:\n",
    "        if palavra in todas_as_palavras:\n",
    "            if contador == 0:\n",
    "                prob += P_ham_palavra(palavra)\n",
    "            else:\n",
    "                prob *= P_ham_palavra(palavra)\n",
    "        else:\n",
    "            pass\n",
    "    return prob\n",
    "\n",
    "def Hamlet(mensagem):\n",
    "    ham = P_ham_mensagem(mensagem)\n",
    "    spam = P_spam_mensagem(mensagem)\n",
    "    if ham > spam:\n",
    "        return 'ham'\n",
    "    else:\n",
    "        return 'spam'\n",
    "#test = []\n",
    "\n",
    "#for i in df3.Email:\n",
    "#    test.append(Hamlet(i))\n",
    "#df3['NB'] = test"
   ]
  },
  {
   "cell_type": "code",
   "execution_count": 87,
   "metadata": {
    "scrolled": true
   },
   "outputs": [
    {
     "name": "stderr",
     "output_type": "stream",
     "text": [
      "/Library/Frameworks/Python.framework/Versions/3.7/lib/python3.7/site-packages/ipykernel_launcher.py:4: SettingWithCopyWarning: \n",
      "A value is trying to be set on a copy of a slice from a DataFrame.\n",
      "Try using .loc[row_indexer,col_indexer] = value instead\n",
      "\n",
      "See the caveats in the documentation: http://pandas.pydata.org/pandas-docs/stable/indexing.html#indexing-view-versus-copy\n",
      "  after removing the cwd from sys.path.\n"
     ]
    }
   ],
   "source": [
    "test1 = []\n",
    "for e in df4.Email:\n",
    "    test1.append(Hamlet(e))\n",
    "df4['NB'] = test1"
   ]
  },
  {
   "cell_type": "code",
   "execution_count": 107,
   "metadata": {},
   "outputs": [],
   "source": [
    "df5 = df4.reset_index(drop=True)"
   ]
  },
  {
   "cell_type": "code",
   "execution_count": 105,
   "metadata": {
    "scrolled": false
   },
   "outputs": [
    {
     "name": "stdout",
     "output_type": "stream",
     "text": [
      "Porcentagem de positivos verdadeiros: 13.20%\n",
      "Porcentagem de negativos verdadeiros: 98.83%\n"
     ]
    }
   ],
   "source": [
    "falso_neg = 0\n",
    "falso_pos = 0\n",
    "pos_ver = 0\n",
    "neg_ver = 0\n",
    "Spam = 0\n",
    "Ham = 0\n",
    "\n",
    "for e in range(len(df5)):\n",
    "    if df5.Class[e] == 'spam':\n",
    "        Spam += 1\n",
    "        if df5.NB[e] == 'spam':\n",
    "            pos_ver += 1\n",
    "        \n",
    "        elif df5.NB[e] != 'spam':\n",
    "            falso_neg += 1\n",
    "    \n",
    "    elif df5.Class[e] == 'ham':\n",
    "        Ham += 1\n",
    "        if df5.NB[e] == 'ham' :\n",
    "            neg_ver += 1\n",
    "        \n",
    "        elif df5.NB[e] != 'ham':\n",
    "            falso_pos += 1\n",
    "            \n",
    "total = falso_neg + falso_pos + pos_ver + neg_ver            \n",
    "\n",
    "p1= float(falso_pos/Ham * 100)\n",
    "p2= float(pos_ver/Spam * 100)\n",
    "p3= float(falso_neg/Spam * 100)\n",
    "p4= float(neg_ver/Ham * 100)\n",
    "\n",
    "\n",
    "print('Porcentagem de positivos verdadeiros: {0:.2f}%'.format(p2))\n",
    "\n",
    "print('Porcentagem de negativos verdadeiros: {0:.2f}%'.format(p4))\n"
   ]
  },
  {
   "cell_type": "markdown",
   "metadata": {},
   "source": [
    "O teste estava demorando em torno de vinte minutos para rodar, por isso seria inviável rodá-lo 10.000 vezes. \n",
    "Portanto, decidimos rodar 10 vezes e fazer um bootstrap para aumentar o número de observações."
   ]
  },
  {
   "cell_type": "markdown",
   "metadata": {},
   "source": [
    "___\n",
    "## 4. Qualidade do Classificador alterando a base de treinamento"
   ]
  },
  {
   "cell_type": "code",
   "execution_count": 111,
   "metadata": {},
   "outputs": [],
   "source": [
    "resultados = []\n",
    "\n",
    "for o in range(10):\n",
    "    dicio = emails.to_dict('records')\n",
    "    shuffle(dicio)\n",
    "    df6 = pd.DataFrame.from_dict(dicio)\n",
    "    df7 = df6.head(int(len(df2)*0.75))\n",
    "    df8 = df7.tail(int(len(df2)*0.25))\n",
    "    df9 = df8.reset_index(drop=True)\n",
    "    \n",
    "    test2 = []\n",
    "    for e in range(len(df9.Email)):\n",
    "        test2.append(Hamlet(df9.Email[e]))\n",
    "    df9['NB'] = test2\n",
    "    \n",
    "    posi_ver = 0\n",
    "    nega_ver = 0\n",
    "    Spam1 = 0\n",
    "    Ham1 = 0\n",
    "\n",
    "    for e in range(len(df9)):\n",
    "        if df9.Class[e] == 'spam':\n",
    "            Spam += 1\n",
    "            if df9.NB[e] == 'spam':\n",
    "                pos_ver += 1\n",
    "\n",
    "            elif df9.NB[e] != 'spam':\n",
    "                falso_neg += 1\n",
    "\n",
    "        elif df9.Class[e] == 'ham':\n",
    "            Ham += 1\n",
    "            if df9.NB[e] == 'ham' :\n",
    "                neg_ver += 1\n",
    "\n",
    "            elif df9.NB[e] != 'ham':\n",
    "                falso_pos += 1\n",
    "\n",
    "    total = falso_neg + falso_pos + pos_ver + neg_ver            \n",
    "\n",
    "    positivo_ver= float(pos_ver/Spam * 100)\n",
    "    negativo_ver= float(neg_ver/Ham * 100)\n",
    "    results = [positivo_ver, negativo_ver]\n",
    "    \n",
    "    resultados.append(results)"
>>>>>>> 2b57087a959ab1a49afd10232b44efa15f977b01
   ]
  },
  {
   "cell_type": "code",
<<<<<<< HEAD
   "execution_count": 48,
   "metadata": {},
   "outputs": [
    {
     "name": "stderr",
     "output_type": "stream",
     "text": [
      "C:\\Users\\gugat\\Anaconda3\\lib\\site-packages\\ipykernel_launcher.py:66: SettingWithCopyWarning: \n",
      "A value is trying to be set on a copy of a slice from a DataFrame.\n",
      "Try using .loc[row_indexer,col_indexer] = value instead\n",
      "\n",
      "See the caveats in the documentation: http://pandas.pydata.org/pandas-docs/stable/indexing.html#indexing-view-versus-copy\n"
     ]
    }
   ],
   "source": [
    "def P_spam_palavra(palavra):\n",
    "    if palavra in irelevantes:\n",
    "        return ((1 + quant_em_irelev.value_counts()[palavra])/(len(todas_as_palavras) + len(irelevantes)))\n",
    "    else:\n",
    "        return 1/(len(todas_as_palavras) + len(irelevantes))\n",
    "    \n",
    "def P_palavra_spam(palavra):\n",
    "    x = (P_spam_palavra(palavra) * P_palavra(palavra)) / prob_spam\n",
    "    return x\n",
    "\n",
    "def P_palavra(palavra):\n",
    "    quant_pal = (quant_em_irelev.value_counts()[palavra] + quant_em_relev.value_counts()[palavra])\n",
    "    quant_tot = len(irelevantes)+len(relevantes)\n",
    "    return (quant_pal/quant_tot)\n",
    "\n",
    "def P_ham_palavra(palavra):\n",
    "    if palavra in relevantes:\n",
    "        return ((1 + quant_em_relev.value_counts()[palavra])/(len(todas_as_palavras) + len(relevantes)))\n",
    "    else:\n",
    "        return 1/(len(todas_as_palavras) + len(irelevantes))\n",
    "    \n",
    "def P_palavra_ham(palavra):\n",
    "    x = (P_ham_palavra(palavra) * P_palavra(palavra)) / prob_ham\n",
    "    return x\n",
    "\n",
    "def P_spam_mensagem(mensagem):\n",
    "    palavras = mensagem.split(' ')\n",
    "    prob = 0\n",
    "    contador = 0\n",
    "    for palavra in palavras:\n",
    "        if palavra in todas_as_palavras:\n",
    "            if contador == 0:\n",
    "                prob += P_spam_palavra(palavra)\n",
    "            else:\n",
    "                prob *= P_spam_palavra(palavra)\n",
    "        else:\n",
    "            pass\n",
    "    return prob\n",
    "\n",
    "def P_ham_mensagem(mensagem):\n",
    "    palavras = mensagem.split(' ')\n",
    "    prob = 0\n",
    "    contador = 0\n",
    "    for palavra in palavras:\n",
    "        if palavra in todas_as_palavras:\n",
    "            if contador == 0:\n",
    "                prob += P_ham_palavra(palavra)\n",
    "            else:\n",
    "                prob *= P_ham_palavra(palavra)\n",
    "        else:\n",
    "            pass\n",
    "    return prob\n",
    "\n",
    "def Hamlet(mensagem):\n",
    "    ham = P_ham_mensagem(mensagem)\n",
    "    spam = P_spam_mensagem(mensagem)\n",
    "    if ham > spam:\n",
    "        return 'ham'\n",
    "    else:\n",
    "        return 'spam'\n",
    "\n",
    "test = []\n",
    "for i in range(len(df3.Email)):\n",
    "    test.append(Hamlet(df3.Email[i]))\n",
    "\n",
    "df3['NB'] = test"
   ]
  },
  {
   "cell_type": "code",
   "execution_count": 60,
   "metadata": {},
   "outputs": [
    {
     "name": "stdout",
     "output_type": "stream",
     "text": [
      "Porcentagem de falsos positivos: 0.46%\n",
      "Porcentagem de positivos verdadeiros: 12.31%\n",
      "Porcentagem de falsos negativos: 87.69%\n",
      "Porcentagem de negativos verdadeiros: 99.54%\n"
     ]
    }
   ],
   "source": [
    "falso_neg = 0\n",
    "falso_pos = 0\n",
    "pos_ver = 0\n",
    "neg_ver = 0\n",
    "Spam = 0\n",
    "Ham = 0\n",
    "\n",
    "for e in range(500):\n",
    "    if df3.Class[e] == 'spam':\n",
    "        Spam += 1\n",
    "        if df3.NB[e] == 'spam':\n",
    "            pos_ver += 1\n",
    "        \n",
    "        elif df3.NB[e] != 'spam':\n",
    "            falso_neg += 1\n",
    "    \n",
    "    elif df3.Class[e] == 'ham':\n",
    "        Ham += 1\n",
    "        if df3.NB[e] == 'ham' :\n",
    "            neg_ver += 1\n",
    "        \n",
    "        elif df3.NB[e] != 'ham':\n",
    "            falso_pos += 1\n",
    "            \n",
    "total = falso_neg + falso_pos + pos_ver + neg_ver            \n",
    "\n",
    "print('Porcentagem de falsos positivos: {0:.2f}%'.format(float(falso_pos/Ham * 100)))\n",
    "print('Porcentagem de positivos verdadeiros: {0:.2f}%'.format(float(pos_ver/Spam * 100)))\n",
    "print('Porcentagem de falsos negativos: {0:.2f}%'.format(float(falso_neg/Spam * 100)))\n",
    "print('Porcentagem de negativos verdadeiros: {0:.2f}%'.format(float(neg_ver/Ham * 100)))\n"
   ]
  },
  {
=======
   "execution_count": 122,
   "metadata": {},
   "outputs": [
    {
     "data": {
      "text/plain": [
       "[]"
      ]
     },
     "execution_count": 122,
     "metadata": {},
     "output_type": "execute_result"
    },
    {
     "data": {
      "image/png": "iVBORw0KGgoAAAANSUhEUgAAAW4AAAD8CAYAAABXe05zAAAABHNCSVQICAgIfAhkiAAAAAlwSFlzAAALEgAACxIB0t1+/AAAADl0RVh0U29mdHdhcmUAbWF0cGxvdGxpYiB2ZXJzaW9uIDMuMC4xLCBodHRwOi8vbWF0cGxvdGxpYi5vcmcvDW2N/gAADKVJREFUeJzt3WuMZHWZx/HvAyNGQAWc1nC1MSLGrAa1V0FXQ0SjZljdFySOEQWimajxGo07aoyvTIaNe8Fg1AmKUVRUVqNhWNRdnUQTxe1BBIZxIuIIA6M0JsRLvBEfX9RpU3S6pk5P1+k6T/f3k1S66tQ5xY9/T//69L/OORWZiSSpjqOmHUCStDIWtyQVY3FLUjEWtyQVY3FLUjEWtyQVY3FLUjEWtyQVY3FLUjGbunjRzZs35+zsbBcvLfXP/v2Dr2efPd0cKm3Pnj0PZOZMm3U7Ke7Z2Vnm5+e7eGmpf84/f/B19+5pplBxEfGLtus6VSJJxVjcklSMxS1JxVjcklSMxS1JxVjcklSMxS1JxVjcklSMxS1JxXRy5qS0Ucxu38W1d/0agK3bd41c78COLWsVSRuAe9ySVIzFLUnFWNySVIzFLUnFWNySVIzFLUnFWNySVIzFLUnFWNySVIzFLUnFWNySVEyra5VExDuBNwAJ3AZclpl/7DKYNE2zh7nuiDRtY/e4I+JU4G3AXGb+A3A0sLXrYJKk5bWdKtkEPCoiNgHHAvd1F0mSdDhjp0oy896I+DBwN/AH4JuZ+c3Ok0nryEqmXrwErMZpM1VyIvBK4EzgFOC4iLh4mfW2RcR8RMwvLCxMPqkkCWg3VfJi4OeZuZCZfwG+Ajxv6UqZuTMz5zJzbmZmZtI5JUmNNsV9N3BuRBwbEQFcAOzrNpYkaZSxxZ2ZNwHXATczOBTwKGBnx7kkSSO0Oo47Mz8IfLDjLJKkFjxzUpKKsbglqZhWUyWS1k7bY7493nvjsri1oXgNEq0HTpVIUjEWtyQVY3FLUjEWtyQVY3FLUjEWtyQVY3FLUjEWtyQVY3FLUjEWtyQVY3FLUjEWtyQVY3FLUjEWtyQVY3FLUjEWtyQVY3FLUjEWtyQVY3FLUjEWtyQV44cFa13wQ4C1kbjHLUnFWNySVIzFLUnFWNySVIzFLUnFWNySVIzFLUnFWNySVIzFLUnFWNySVIzFLUnFeK0Sqai212c5sGNLx0m01tzjlqRiLG5JKqZVcUfECRFxXUT8JCL2RcR5XQeTJC2v7Rz3FcCNmXlRRBwDHNthJknSYYwt7oh4LPBC4FKAzPwz8OduY0mSRmkzVXImsABcHRE/ioirIuK4jnNJkkZoU9ybgGcBH8vMZwK/B7YvXSkitkXEfETMLywsTDimJGlRm+I+CBzMzJuax9cxKPKHycydmTmXmXMzMzOTzChJGjK2uDPzl8A9EXF2s+gC4I5OU0mSRmp7VMlbgc81R5TcBVzWXSRJ0uG0Ku7MvAWY6ziLJKkFz5yUpGIsbkkqxuKWpGIsbkkqxuKWpGIsbkkqxuKWpGIsbkkqxuKWpGIsbkkqxuKWpGLaXmRKmorZ7bumHUHqHfe4JakYi1uSirG4JakYi1uSirG4JakYjyqR1rm2R+Yc2LGl4ySaFPe4JakYi1uSirG4JakYi1uSirG4JakYi1uSirG4JakYi1uSirG4JakYi1uSirG4JakYi1uSirG4JakYi1uSirG4JakYi1uSirG4JakYi1uSirG4JakYi1uSirG4JamY1sUdEUdHxI8i4vouA0mSDm8le9xvB/Z1FUSS1E6r4o6I04AtwFXdxpEkjbOp5Xr/BbwHePSoFSJiG7AN4Iwzzlh9Mq1rs9t3TTuCVNbY4o6IC4H7M3NPRJw/ar3M3AnsBJibm8uJJZS0Jtr+Mj2wY0vHSTROm6mS5wOviIgDwLXAiyLimk5TSZJGGlvcmfnezDwtM2eBrcC3M/PizpNJkpblcdySVEzbNycByMzdwO5OkkiSWnGPW5KKsbglqRiLW5KKsbglqRiLW5KKsbglqRiLW5KKsbglqRiLW5KKsbglqRiLW5KKsbglqRiLW5KKsbglqRiLW5KKsbglqRiLW5KKWdEn4EiH0/ZTwiWtjnvcklSMxS1JxVjcklSMxS1JxVjcklSMxS1JxVjcklSMxS1JxVjcklSMxS1JxVjcklSMxS1JxVjcklSMxS1JxVjcklSM1+OWtCJtr7t+YMeWjpNsXO5xS1IxFrckFWNxS1IxFrckFTO2uCPi9Ij4TkTcERF7I+LtaxFMkrS8NkeVPAS8KzNvjohHA3si4luZeUfH2SRJyxi7x52ZhzLz5ub+b4F9wKldB5MkLW9Fc9wRMQs8E7ipizCSpPFaF3dEHA/8N/COzPzNMs9vi4j5iJhfWFiYZEZJ0pBWxR0Rj2BQ2p/LzK8st05m7szMucycm5mZmWRGSdKQNkeVBPBJYF9m/kf3kSRJh9PmqJLnA68FbouIW5pl78vMG7qLpT5pe20KSWtjbHFn5veAWIMskqQWPHNSkoqxuCWpGItbkoqxuCWpGItbkoqxuCWpGD9zUlIn/GzK7rjHLUnFWNySVIzFLUnFWNySVIxvTm5gXjxKqsk9bkkqxuKWpGIsbkkqxuKWpGIsbkkqxuKWpGIsbkkqxuKWpGI8AWcd8sQaaX1zj1uSirG4JakYi1uSirG4JakY35yUNFUreTPdjzkbcI9bkoqxuCWpGItbkoqxuCWpGItbkoqxuCWpGA8HLMRrkEgC97glqRz3uCWV0favzvV+oo573JJUjMUtScU4VdIDvukoaSXc45akYlrtcUfEy4ArgKOBqzJzR6epJGkV1vubmGP3uCPiaOCjwMuBpwGvjoindR1MkrS8NnvczwHuzMy7ACLiWuCVwB1dBusr56MlTVub4j4VuGfo8UHgud3EmR4LWdp4Jv1zv1ZTLxM7qiQitgHbmoe/i4j9k3rtDmwGHph2iJbM2o2JZT1v8c7lF07i5ZazIcd1DUw8a1y+qs2f2HbFNsV9L3D60OPTmmUPk5k7gZ1t/8PTFBHzmTk37RxtmLUbZu2GWddGm8MB/x84KyLOjIhjgK3A17uNJUkaZewed2Y+FBFvAb7B4HDAT2Xm3s6TSZKW1WqOOzNvAG7oOMtaKjGl0zBrN8zaDbOugcjMaWeQJK2Ap7xLUjHlizsiPhUR90fE7UPLToqIb0XET5uvJ47Y9saIeDAirl+y/MyIuCki7oyILzZvyvY166cj4ucRcUtzO2eaWSPinIj4fkTsjYhbI+JVQ8/1alzHZO3buD4xIm5usuyNiDcOPffsiLitGdePRET0OOvuiNg/NK6Pn2bWoXUfExEHI+LKoWWdjOtEZGbpG/BC4FnA7UPL/g3Y3tzfDlw+YtsLgH8Grl+y/EvA1ub+x4E39Tjrp4GL+jKuwFOAs5r7pwCHgBP6OK5jsvZtXI8BHtncPx44AJzSPP4hcC4QwP8AL+9x1t3AXF/GdWjdK4DPA1cOLetkXCfy/zvtABP6ps0u+YbtB05u7p8M7D/MtucPl2HzTXoA2NQ8Pg/4Rh+zNss6KZjVZh3a5sfAWX0e16VZ+z6uwOOAuxn8sjkZ+MnQc68GPtHHrM3j3XRQ3KvJCjwbuBa4lKa4ux7X1d7KT5WM8ITMPNTc/yXwhBVs+zjgwcx8qHl8kMFp/11ZTdZFH2r+1P/PiHjkBLMttaKsEfEcBntfP6Pn47ok66JejWtEnB4RtzK4BMXlmXkfgzE8OLRaL8Z1RNZFVzfTJB/oePphbNaIOAr4d+DdS55a63FdkfVa3H+Xg1+XJQ6dOcKs7wWeCvwjcBLwr5POtZxxWSPiZOCzwGWZ+de1yDTKEWbt3bhm5j2Z+QzgycAlEXEkv+Qn5gizviYznw68oLm9dspZ3wzckJkHl3mut9Zrcf+q+WFc/KG8fwXb/ho4ISIWj3Ff9hT/CVpNVjLzUA78CbiawdUcu9Iqa0Q8BtgFvD8zf9As7uW4jsjay3EdynYfcDuD4ruXwVgu6sW4LlqSlcy8t/n6WwZzytMe1/OAt0TEAeDDwOsiYgdrP64rsl6L++vAJc39S4Cvtd2w+c38HeCiI9n+CBxxVvj7P0iaPzn/hcEPSVfGZm2OFPkq8JnMvG5xeR/HdVTW5rm+jetpEfGo5v6JwD8xmLM9BPwmIs5tsr5uue37kDUiNkXE5mb5I4ALmfK4ZuZrMvOMzJxlMF3ymczcPoVxXZlpT7Kv9gZ8gcHRAH9hMA/1egbzqf8H/BT4X+CkZt05Bp/gs7jtd4EF4A/Nti9tlj+JwTvKdwJfpnmHvKdZvw3cxuAH4Brg+GlmBS5utrll6HZOH8d1TNa+jetLgFsZvIF6K7Bt6DXnmpw/A66kObGub1mB44A9zbK9NJ+qNe2fraHXuJSHH1XSybhO4uaZk5JUzHqdKpGkdcvilqRiLG5JKsbilqRiLG5JKsbilqRiLG5JKsbilqRi/gbrgnp3Aaoq7wAAAABJRU5ErkJggg==\n",
      "text/plain": [
       "<Figure size 432x288 with 1 Axes>"
      ]
     },
     "metadata": {
      "needs_background": "light"
     },
     "output_type": "display_data"
    }
   ],
   "source": [
    "results_pv = []\n",
    "results_nv = []\n",
    "\n",
    "for e in range(len(resultados)):\n",
    "    results_pv.append(resultados[e][0])\n",
    "    results_nv.append(resultados[e][1])\n",
    "\n",
    "\n",
    "n_vezes = 10000\n",
    "\n",
    "size = len(results_pv)\n",
    "\n",
    "medias_pv = []\n",
    "medias_nv = []\n",
    "\n",
    "for i in range(n_vezes):\n",
    "    results_pv_fake = np.random.choice(results_pv, size = size, replace=True)\n",
    "    results_nv_fake = np.random.choice(results_nv, size = size, replace=True)\n",
    "    media_pv = np.mean(results_pv_fake)\n",
    "    media_nv = np.mean(results_nv_fake)\n",
    "    medias_pv.append(media_pv)\n",
    "    medias_nv.append(media_nv)\n",
    "    \n",
    "\n",
    "\n",
    "plt.hist(medias_pv, density=True, bins=30);\n",
    "plt.axvline(np.mean(results_pv), color=\"r\")\n",
    "plt.plot()\n"
   ]
  },
  {
   "cell_type": "code",
   "execution_count": 138,
   "metadata": {
    "scrolled": false
   },
   "outputs": [
    {
     "data": {
      "text/plain": [
       "[]"
      ]
     },
     "execution_count": 138,
     "metadata": {},
     "output_type": "execute_result"
    },
    {
     "data": {
      "image/png": "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\n",
      "text/plain": [
       "<Figure size 432x288 with 1 Axes>"
      ]
     },
     "metadata": {
      "needs_background": "light"
     },
     "output_type": "display_data"
    }
   ],
   "source": [
    "plt.hist(medias_nv, density=True, bins=30);\n",
    "plt.axvline(np.mean(results_nv), color=\"r\")\n",
    "plt.xlabel('Em porcentagem(%)')\n",
    "plt.plot()"
   ]
  },
  {
   "cell_type": "code",
   "execution_count": 133,
   "metadata": {},
   "outputs": [],
   "source": [
    "df_pv = pd.DataFrame(medias_pv)\n",
    "df_nv = pd.DataFrame(medias_nv)"
   ]
  },
  {
   "cell_type": "code",
   "execution_count": 134,
   "metadata": {},
   "outputs": [
    {
     "data": {
      "text/html": [
       "<div>\n",
       "<style scoped>\n",
       "    .dataframe tbody tr th:only-of-type {\n",
       "        vertical-align: middle;\n",
       "    }\n",
       "\n",
       "    .dataframe tbody tr th {\n",
       "        vertical-align: top;\n",
       "    }\n",
       "\n",
       "    .dataframe thead th {\n",
       "        text-align: right;\n",
       "    }\n",
       "</style>\n",
       "<table border=\"1\" class=\"dataframe\">\n",
       "  <thead>\n",
       "    <tr style=\"text-align: right;\">\n",
       "      <th></th>\n",
       "      <th>0</th>\n",
       "    </tr>\n",
       "  </thead>\n",
       "  <tbody>\n",
       "    <tr>\n",
       "      <th>count</th>\n",
       "      <td>10000.000000</td>\n",
       "    </tr>\n",
       "    <tr>\n",
       "      <th>mean</th>\n",
       "      <td>10.273340</td>\n",
       "    </tr>\n",
       "    <tr>\n",
       "      <th>std</th>\n",
       "      <td>0.045660</td>\n",
       "    </tr>\n",
       "    <tr>\n",
       "      <th>min</th>\n",
       "      <td>10.071097</td>\n",
       "    </tr>\n",
       "    <tr>\n",
       "      <th>25%</th>\n",
       "      <td>10.242915</td>\n",
       "    </tr>\n",
       "    <tr>\n",
       "      <th>50%</th>\n",
       "      <td>10.274304</td>\n",
       "    </tr>\n",
       "    <tr>\n",
       "      <th>75%</th>\n",
       "      <td>10.305528</td>\n",
       "    </tr>\n",
       "    <tr>\n",
       "      <th>max</th>\n",
       "      <td>10.424255</td>\n",
       "    </tr>\n",
       "  </tbody>\n",
       "</table>\n",
       "</div>"
      ],
      "text/plain": [
       "                  0\n",
       "count  10000.000000\n",
       "mean      10.273340\n",
       "std        0.045660\n",
       "min       10.071097\n",
       "25%       10.242915\n",
       "50%       10.274304\n",
       "75%       10.305528\n",
       "max       10.424255"
      ]
     },
     "execution_count": 134,
     "metadata": {},
     "output_type": "execute_result"
    }
   ],
   "source": [
    "df_pv.describe()"
   ]
  },
  {
   "cell_type": "code",
   "execution_count": 135,
   "metadata": {},
   "outputs": [
    {
     "data": {
      "text/html": [
       "<div>\n",
       "<style scoped>\n",
       "    .dataframe tbody tr th:only-of-type {\n",
       "        vertical-align: middle;\n",
       "    }\n",
       "\n",
       "    .dataframe tbody tr th {\n",
       "        vertical-align: top;\n",
       "    }\n",
       "\n",
       "    .dataframe thead th {\n",
       "        text-align: right;\n",
       "    }\n",
       "</style>\n",
       "<table border=\"1\" class=\"dataframe\">\n",
       "  <thead>\n",
       "    <tr style=\"text-align: right;\">\n",
       "      <th></th>\n",
       "      <th>0</th>\n",
       "    </tr>\n",
       "  </thead>\n",
       "  <tbody>\n",
       "    <tr>\n",
       "      <th>count</th>\n",
       "      <td>10000.000000</td>\n",
       "    </tr>\n",
       "    <tr>\n",
       "      <th>mean</th>\n",
       "      <td>98.920132</td>\n",
       "    </tr>\n",
       "    <tr>\n",
       "      <th>std</th>\n",
       "      <td>0.010914</td>\n",
       "    </tr>\n",
       "    <tr>\n",
       "      <th>min</th>\n",
       "      <td>98.877694</td>\n",
       "    </tr>\n",
       "    <tr>\n",
       "      <th>25%</th>\n",
       "      <td>98.912688</td>\n",
       "    </tr>\n",
       "    <tr>\n",
       "      <th>50%</th>\n",
       "      <td>98.919669</td>\n",
       "    </tr>\n",
       "    <tr>\n",
       "      <th>75%</th>\n",
       "      <td>98.927342</td>\n",
       "    </tr>\n",
       "    <tr>\n",
       "      <th>max</th>\n",
       "      <td>98.965978</td>\n",
       "    </tr>\n",
       "  </tbody>\n",
       "</table>\n",
       "</div>"
      ],
      "text/plain": [
       "                  0\n",
       "count  10000.000000\n",
       "mean      98.920132\n",
       "std        0.010914\n",
       "min       98.877694\n",
       "25%       98.912688\n",
       "50%       98.919669\n",
       "75%       98.927342\n",
       "max       98.965978"
      ]
     },
     "execution_count": 135,
     "metadata": {},
     "output_type": "execute_result"
    }
   ],
   "source": [
    "df_nv.describe()"
   ]
  },
  {
>>>>>>> 2b57087a959ab1a49afd10232b44efa15f977b01
   "cell_type": "markdown",
   "metadata": {},
   "source": [
    "Depois de feito o bootstrap foi possível plotar os histogramas e observar suas semelhanças com uma normal. A Média dos positivos verdadeiros é de 10,273340% e dos negativos verdadeiros é de 98, 1920132%."
   ]
  },
  {
   "cell_type": "code",
   "execution_count": null,
   "metadata": {},
   "outputs": [],
   "source": []
  }
 ],
 "metadata": {
  "anaconda-cloud": {},
  "kernelspec": {
   "display_name": "Python 3",
   "language": "python",
   "name": "python3"
  },
  "language_info": {
   "codemirror_mode": {
    "name": "ipython",
    "version": 3
   },
   "file_extension": ".py",
   "mimetype": "text/x-python",
   "name": "python",
   "nbconvert_exporter": "python",
   "pygments_lexer": "ipython3",
   "version": "3.7.1"
  }
 },
 "nbformat": 4,
 "nbformat_minor": 1
}
